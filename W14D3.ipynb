{
 "cells": [
  {
   "cell_type": "code",
   "execution_count": 4,
   "id": "9dcbf883-6a4e-4f4c-99df-f841aade223d",
   "metadata": {},
   "outputs": [],
   "source": [
    "import math"
   ]
  },
  {
   "cell_type": "code",
   "execution_count": 52,
   "id": "4ff93baa-1392-44c5-a350-43fea87d5685",
   "metadata": {},
   "outputs": [],
   "source": [
    "import numpy"
   ]
  },
  {
   "cell_type": "code",
   "execution_count": 14,
   "id": "5bbdc70c-dba2-46dd-98d7-eb7171f2c2d4",
   "metadata": {},
   "outputs": [
    {
     "data": {
      "text/plain": [
       "7"
      ]
     },
     "execution_count": 14,
     "metadata": {},
     "output_type": "execute_result"
    }
   ],
   "source": [
    "#Abbiamo una lista di liste:\n",
    "#mat = [[0, 1, 2, 3, 4], [5, 6, 7, 8, 9], [10, 11, 12, 13, 14]]\n",
    "#Che tipo di struttura dati o matematica potrebbe rappresentare?\n",
    "#Notare che tutte le liste \"interne\" sono della stessa dimensione Come facciamo per accedere ad un elemento in particolare?\n",
    "mat = [[0, 1, 2, 3, 4], [5, 6, 7, 8, 9], [10, 11, 12, 13, 14]]\n",
    "mat [1] [2] #per prendere devi dirgli quale numero vuoi dalla lista più grande e poi da quella più piccola"
   ]
  },
  {
   "cell_type": "code",
   "execution_count": null,
   "id": "d213d603-788c-4ca2-b065-07629f25b0c4",
   "metadata": {},
   "outputs": [],
   "source": [
    "#Importiamo il modulo math e proviamo a usare le funzioni .sin() .cos() .factorial() e la variabile .pi la riconoscete?"
   ]
  },
  {
   "cell_type": "code",
   "execution_count": null,
   "id": "a9e53b29-6aa5-4220-b4f6-95f1133d94a9",
   "metadata": {},
   "outputs": [],
   "source": [
    "#Proviamo a eseguire math.degrees(math.pi) Qual è e cosa significa il risultato? Per saperne di più su questa funzione possiamo usare help(math.degrees)"
   ]
  },
  {
   "cell_type": "code",
   "execution_count": 32,
   "id": "5f2b27b0-bf4a-4d71-bb6e-25d18e2fbb6f",
   "metadata": {},
   "outputs": [
    {
     "data": {
      "text/plain": [
       "1280"
      ]
     },
     "execution_count": 32,
     "metadata": {},
     "output_type": "execute_result"
    }
   ],
   "source": [
    "#L'azienda Object SpA ha creato una lista di quanti oggetti ha venduto ogni mese nell'ultimo anno:\n",
    "#lst = [2000, 5500, 7200, 4320, 1280, 1900, 2500, 3900, 6410, 8150, 7100, 5350]\n",
    "#trasformiamola in un array NumPy (casting): lst = np.array(lst) e rispondiamo alle domande del CEO della Object SpA:\n",
    "#qual è stata la vendita massima mensile? E quella minima?\n",
    "#quali sono le vendite mensili maggiori di 4999 oggetti? E quante ne sono?\n",
    "#quali sono le vendite minori di 3000 oggetti? \n",
    "#in media quanti oggetti sono stati venduti al mese?\n",
    "lst = [2000, 5500, 7200, 4320, 1280, 1900, 2500, 3900, 6410, 8150, 7100, 5350]\n",
    "lst = numpy.array(lst)\n",
    "lst.min()"
   ]
  },
  {
   "cell_type": "code",
   "execution_count": 34,
   "id": "a38b2d56-075b-41ae-820c-373dcb4aacee",
   "metadata": {},
   "outputs": [
    {
     "data": {
      "text/plain": [
       "8150"
      ]
     },
     "execution_count": 34,
     "metadata": {},
     "output_type": "execute_result"
    }
   ],
   "source": [
    "lst.max()"
   ]
  },
  {
   "cell_type": "code",
   "execution_count": 38,
   "id": "dc9dc9c1-229d-47bb-957a-1b7e371eb112",
   "metadata": {},
   "outputs": [
    {
     "name": "stdout",
     "output_type": "stream",
     "text": [
      "[5500 7200 6410 8150 7100 5350]\n"
     ]
    }
   ],
   "source": [
    "filtro = lst > 4999\n",
    "vendite_grandi = lst[filtro]\n",
    "print (vendite_grandi)"
   ]
  },
  {
   "cell_type": "code",
   "execution_count": 42,
   "id": "c5f737e8-ffd1-47c7-8bf8-effa4374e3b6",
   "metadata": {},
   "outputs": [
    {
     "name": "stdout",
     "output_type": "stream",
     "text": [
      "[2000 1280 1900 2500]\n"
     ]
    }
   ],
   "source": [
    "filtro3k = lst < 3000\n",
    "piccole_vendite = lst[filtro3k]\n",
    "print (piccole_vendite)"
   ]
  },
  {
   "cell_type": "code",
   "execution_count": 44,
   "id": "1f22dc66-1a3e-4478-8586-9d0568cbe5b7",
   "metadata": {},
   "outputs": [
    {
     "data": {
      "text/plain": [
       "4634.166666666667"
      ]
     },
     "execution_count": 44,
     "metadata": {},
     "output_type": "execute_result"
    }
   ],
   "source": [
    "lst.mean()"
   ]
  },
  {
   "cell_type": "code",
   "execution_count": null,
   "id": "3fb0e315-644d-4769-b185-d59290947ef6",
   "metadata": {},
   "outputs": [],
   "source": [
    "#Consideriamo il seguente dizionario:\n",
    "#fatturati_dict = {1997: 12_000, 1998: 15_000, 1999: 20_000, 2000: 23_000, 2001: 25_000, 2002: 17_000, 2003: 14_000, 2004: 21_000}\n",
    "#Consideriamo ora la seguente Series: fatturati_series = pd.Series([12_000, 15_000, 20_000, 23_000, 25_000, 17_000, 14_000, 21_000] index=range(1997, 2005))\n",
    "#Possiamo accedere alle stesse informazioni nello stesso modo: fatturati_dict[1997] fatturati_series[1997]\n",
    "#Dunque qual è la differenza tra i due tipi di dato?\n",
    "#Cosa potremmo fare con la Series che non possiamo fare con il dizionario?"
   ]
  },
  {
   "cell_type": "code",
   "execution_count": 48,
   "id": "8217d72d-2e2c-443a-b36c-bae1d6b3f845",
   "metadata": {},
   "outputs": [],
   "source": [
    "#L'azienda Object SpA ha un dataset con tutti gli stipendi dei dipendenti, memorizzato in un ndarray:\n",
    "#import numpy as np stipendi = np.array( [100, 200, 300, 400, 500,  600, 700, 800, 900, 1000] )\n",
    "#L'azienda ci chiede di raddoppiare tutti gli stipendi; facciamolo in due modi:\n",
    "#con un ciclo for 7\n",
    "#con il masking\n",
    "stipendi = numpy.array( [100, 200, 300, 400, 500,  600, 700, 800, 900, 1000] )"
   ]
  },
  {
   "cell_type": "code",
   "execution_count": 50,
   "id": "bacf4c82-b943-48e7-b61a-4c1303120553",
   "metadata": {},
   "outputs": [
    {
     "data": {
      "text/plain": [
       "array([ 200,  400,  600,  800, 1000, 1200, 1400, 1600, 1800, 2000])"
      ]
     },
     "execution_count": 50,
     "metadata": {},
     "output_type": "execute_result"
    }
   ],
   "source": [
    "stipendi * 2"
   ]
  }
 ],
 "metadata": {
  "kernelspec": {
   "display_name": "Python 3 (ipykernel)",
   "language": "python",
   "name": "python3"
  },
  "language_info": {
   "codemirror_mode": {
    "name": "ipython",
    "version": 3
   },
   "file_extension": ".py",
   "mimetype": "text/x-python",
   "name": "python",
   "nbconvert_exporter": "python",
   "pygments_lexer": "ipython3",
   "version": "3.11.7"
  }
 },
 "nbformat": 4,
 "nbformat_minor": 5
}
