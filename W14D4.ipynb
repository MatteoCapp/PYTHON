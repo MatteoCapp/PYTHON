{
 "cells": [
  {
   "cell_type": "code",
   "execution_count": 6,
   "id": "83d49931-cbd9-422a-b360-6a1874836247",
   "metadata": {},
   "outputs": [
    {
     "name": "stdout",
     "output_type": "stream",
     "text": [
      "Requirement already satisfied: PyMySQL in c:\\users\\matte\\anaconda3\\lib\\site-packages (1.1.1)\n",
      "Note: you may need to restart the kernel to use updated packages.\n"
     ]
    }
   ],
   "source": [
    "pip install PyMySQL"
   ]
  },
  {
   "cell_type": "code",
   "execution_count": 7,
   "id": "5fb0a25c-4aa8-47c8-908e-89baf1306bf7",
   "metadata": {},
   "outputs": [
    {
     "name": "stdout",
     "output_type": "stream",
     "text": [
      "Requirement already satisfied: SQLAlchemy in c:\\users\\matte\\anaconda3\\lib\\site-packages (2.0.25)\n",
      "Requirement already satisfied: typing-extensions>=4.6.0 in c:\\users\\matte\\anaconda3\\lib\\site-packages (from SQLAlchemy) (4.9.0)\n",
      "Requirement already satisfied: greenlet!=0.4.17 in c:\\users\\matte\\anaconda3\\lib\\site-packages (from SQLAlchemy) (3.0.1)\n",
      "Note: you may need to restart the kernel to use updated packages.\n"
     ]
    }
   ],
   "source": [
    "pip install SQLAlchemy"
   ]
  },
  {
   "cell_type": "code",
   "execution_count": 9,
   "id": "435817bc-dc4f-439d-bf82-6343b80fe1e7",
   "metadata": {},
   "outputs": [
    {
     "name": "stdout",
     "output_type": "stream",
     "text": [
      "Requirement already satisfied: python_dotenv in c:\\users\\matte\\anaconda3\\lib\\site-packages (0.21.0)\n",
      "Note: you may need to restart the kernel to use updated packages.\n"
     ]
    }
   ],
   "source": [
    "pip install python_dotenv"
   ]
  },
  {
   "cell_type": "code",
   "execution_count": null,
   "id": "77a0fe1c-6b27-41c5-8a30-402ffc95ae4d",
   "metadata": {},
   "outputs": [],
   "source": [
    "#Estraiamo la tabella dimproduct dal database AdventureWorks, e valutiamo quanto segue:\n",
    "#Quanti dati ci sono in totale?\n",
    "#Quali sono i metadati?\n",
    "#Stampiamo il primo elemento\n",
    "#Stampiamo l'ultimo elemento\n",
    "#Riusciamo a stampare cinque elementi a caso?\n",
    "#Quali sono i colori disponibili?\n",
    "#In media quanto pesano i prodotti?\n",
    "#Quanto pesa il più leggero?\n",
    "#Quanto pesa il più pesante?\n",
    "#Quanti prodotti pesano più di 100 Kg?\n",
    "#Quanto costano in media i prodotti (colonna DealerPrice)?\n",
    "#Se prendiamo un quarto di tutti i prodotti, in modo che siano i più costosi, quale sarà il loro range di prezzo?\n",
    "#Qual è il prezzo medio per i prodotti di colore blu?\n",
    "#Qual è il prezzo medio per i prodotti di colore rosso o nero?\n",
    "#Qual è il prezzo massimo per i prodotti di taglia 42 e peso oltre i 10 Kg?\n",
    "#Qual è il nome inglese e il costo di produzione (StandardCost) di tutti i prodotti di taglia 42, peso oltre i 10 Kg e colore argento?\n",
    "#Esaminiamo la differenza tra lo StandardCost e il DealerPrice degli ultimi 20 elementi del dataset: c'è un pattern? C'è qualche elemento che non lo segue?"
   ]
  },
  {
   "cell_type": "code",
   "execution_count": 88,
   "id": "f9d1e99c-70a8-4328-bb72-b67875081a34",
   "metadata": {},
   "outputs": [],
   "source": [
    "import dotenv\n",
    "import os\n",
    "from sqlalchemy import create_engine\n",
    "import pandas as pd\n",
    "\n",
    "username = str(os.getenv(\"username\"))\n",
    "password = str(os.getenv(\"password\"))\n",
    "host = str(os.getenv(\"host\"))\n",
    "dbname = str(os.getenv(\"dbname\"))\n",
    "\n",
    "dotenv.load_dotenv(override=True)\n",
    "conn_string = \"mysql+pymysql://\" + username + \":\" + password + \"@\" + host + \"/\" + dbname\n",
    "db_engine = create_engine(conn_string)\n",
    "\n",
    "query = \"SELECT * FROM dimproduct\"\n",
    "df = pd.read_sql(sql=query, con=db_engine)"
   ]
  },
  {
   "cell_type": "code",
   "execution_count": 14,
   "id": "aa17dd78-9c21-400c-92f0-04ad8b6da1b6",
   "metadata": {},
   "outputs": [
    {
     "name": "stdout",
     "output_type": "stream",
     "text": [
      "il dataframe è grande:\n",
      " (606, 36)\n",
      "le colonne si chiamano\n",
      ": Index(['ProductKey', 'ProductAlternateKey', 'ProductSubcategoryKey',\n",
      "       'WeightUnitMeasureCode', 'SizeUnitMeasureCode', 'EnglishProductName',\n",
      "       'SpanishProductName', 'FrenchProductName', 'StandardCost',\n",
      "       'FinishedGoodsFlag', 'Color', 'SafetyStockLevel', 'ReorderPoint',\n",
      "       'ListPrice', 'Size', 'SizeRange', 'Weight', 'DaysToManufacture',\n",
      "       'ProductLine', 'DealerPrice', 'Class', 'Style', 'ModelName',\n",
      "       'LargePhoto', 'EnglishDescription', 'FrenchDescription',\n",
      "       'ChineseDescription', 'ArabicDescription', 'HebrewDescription',\n",
      "       'ThaiDescription', 'GermanDescription', 'JapaneseDescription',\n",
      "       'TurkishDescription', 'StartDate', 'EndDate', 'Status'],\n",
      "      dtype='object')\n",
      "le prime righe sono:\n",
      "    ProductKey ProductAlternateKey  ProductSubcategoryKey  \\\n",
      "0           1             AR-5381                    NaN   \n",
      "1           2             BA-8327                    NaN   \n",
      "2           3             BE-2349                    NaN   \n",
      "3           4             BE-2908                    NaN   \n",
      "4           5             BL-2036                    NaN   \n",
      "\n",
      "  WeightUnitMeasureCode SizeUnitMeasureCode     EnglishProductName  \\\n",
      "0                  None                None        Adjustable Race   \n",
      "1                  None                None           Bearing Ball   \n",
      "2                  None                None        BB Ball Bearing   \n",
      "3                  None                None  Headset Ball Bearings   \n",
      "4                  None                None                  Blade   \n",
      "\n",
      "  SpanishProductName FrenchProductName  StandardCost  FinishedGoodsFlag  ...  \\\n",
      "0                                                NaN                  0  ...   \n",
      "1                                                NaN                  0  ...   \n",
      "2                                                NaN                  0  ...   \n",
      "3                                                NaN                  0  ...   \n",
      "4                                                NaN                  0  ...   \n",
      "\n",
      "  ChineseDescription  ArabicDescription  HebrewDescription  ThaiDescription  \\\n",
      "0               None               None               None             None   \n",
      "1               None               None               None             None   \n",
      "2               None               None               None             None   \n",
      "3               None               None               None             None   \n",
      "4               None               None               None             None   \n",
      "\n",
      "  GermanDescription JapaneseDescription  TurkishDescription  StartDate  \\\n",
      "0              None                None                None 2003-07-01   \n",
      "1              None                None                None 2003-07-01   \n",
      "2              None                None                None 2003-07-01   \n",
      "3              None                None                None 2003-07-01   \n",
      "4              None                None                None 2003-07-01   \n",
      "\n",
      "  EndDate   Status  \n",
      "0     NaT  Current  \n",
      "1     NaT  Current  \n",
      "2     NaT  Current  \n",
      "3     NaT  Current  \n",
      "4     NaT  Current  \n",
      "\n",
      "[5 rows x 36 columns]\n"
     ]
    }
   ],
   "source": [
    "print(\"il dataframe è grande:\\n\", df.shape)\n",
    "print(\"le colonne si chiamano\\n:\", df.columns)\n",
    "print(\"le prime righe sono:\\n\", df.head())"
   ]
  },
  {
   "cell_type": "code",
   "execution_count": 146,
   "id": "7b34924a-a4a7-40c5-8e4b-6017e77ea6e8",
   "metadata": {},
   "outputs": [
    {
     "name": "stdout",
     "output_type": "stream",
     "text": [
      "i colori sono:\n",
      " ['NA' 'Black' 'Silver' 'Red' 'White' 'Blue' 'Multi' 'Yellow' 'Grey'\n",
      " 'Silver/Black']\n"
     ]
    }
   ],
   "source": [
    "print(\"i colori sono:\\n\", df['Color'].unique())"
   ]
  },
  {
   "cell_type": "code",
   "execution_count": 158,
   "id": "d519c51c-378d-41de-8fe6-fc30535f2a87",
   "metadata": {},
   "outputs": [
    {
     "name": "stdout",
     "output_type": "stream",
     "text": [
      "il peso medio è di 56.19\n"
     ]
    }
   ],
   "source": [
    "peso = df['Weight']\n",
    "peso_medio = round(peso.mean(), 2)\n",
    "print(\"il peso medio è di\", peso_medio)"
   ]
  },
  {
   "cell_type": "code",
   "execution_count": 172,
   "id": "d17ec2c9-afb2-4fc6-9057-c4f355670537",
   "metadata": {},
   "outputs": [
    {
     "name": "stdout",
     "output_type": "stream",
     "text": [
      "2.12\n",
      "1050.0\n",
      "28\n"
     ]
    }
   ],
   "source": [
    "#Quanto pesa il più leggero?\n",
    "#Quanto pesa il più pesante?\n",
    "#Quanti prodotti pesano più di 100 Kg?\n",
    "peso = df['Weight']\n",
    "min = peso.min ()\n",
    "max = peso.max()\n",
    "prodotti_pesanti = peso[peso > 100].count()\n",
    "print (min)\n",
    "print (max)\n",
    "print (prodotti_pesanti)"
   ]
  },
  {
   "cell_type": "code",
   "execution_count": 11,
   "id": "1a860f8c-96d8-4f0f-99bd-95a4efa89f6b",
   "metadata": {},
   "outputs": [
    {
     "name": "stdout",
     "output_type": "stream",
     "text": [
      "il costo medio è di 448.6\n"
     ]
    }
   ],
   "source": [
    "#Quanto costano in media i prodotti (colonna DealerPrice)?\n",
    "costo = df['DealerPrice']\n",
    "costo_medio = round(costo.mean(),2)\n",
    "print(\"il costo medio è di\", costo_medio)"
   ]
  },
  {
   "cell_type": "code",
   "execution_count": 42,
   "id": "5a0137f4-dbe1-4819-896a-f5fdd4fda29b",
   "metadata": {},
   "outputs": [
    {
     "name": "stdout",
     "output_type": "stream",
     "text": [
      "516.06\n",
      "550.25\n",
      "2146.96\n"
     ]
    }
   ],
   "source": [
    "#Se prendiamo un quarto di tutti i prodotti, in modo che siano i più costosi, quale sarà il loro range di prezzo? BOH hahahahha\n",
    "#Qual è il prezzo medio per i prodotti di colore blu?\n",
    "#Qual è il prezzo medio per i prodotti di colore rosso o nero?\n",
    "#Qual è il prezzo massimo per i prodotti di taglia 42 e peso oltre i 10 Kg? ????\n",
    "blu = df[df['Color'] == 'Blue']\n",
    "rosso_nero = df[df['Color'].isin(['Red', 'Black'])]\n",
    "filtro_peso_taglia = (df['Size'] == 42) | (df['Weight'] > 10)\n",
    "prezzo_max_tg_peso = round(df[filtro_peso_taglia]['DealerPrice'].max(), 2)\n",
    "prezzo_medio_blu = round(blu ['DealerPrice'].mean(),2)\n",
    "prezzo_medio_rosso_nero = round(rosso_nero ['DealerPrice'].mean(),2)\n",
    "print (prezzo_medio_blu)\n",
    "print (prezzo_medio_rosso_nero)\n",
    "print (prezzo_max_tg_peso)"
   ]
  },
  {
   "cell_type": "code",
   "execution_count": 64,
   "id": "dfffdfe5-5e5a-41af-bec7-f5c07d4748ac",
   "metadata": {},
   "outputs": [
    {
     "name": "stdout",
     "output_type": "stream",
     "text": [
      "Empty DataFrame\n",
      "Columns: [EnglishProductName, StandardCost]\n",
      "Index: []\n"
     ]
    }
   ],
   "source": [
    "#Qual è il nome inglese e il costo di produzione (StandardCost) di tutti i prodotti di taglia 42, peso oltre i 10 Kg e colore argento?\n",
    "taglia = df['Size'] == 42\n",
    "peso = df['Weight'] > 10\n",
    "colore = df['Color'] == 'Silver'\n",
    "nome = taglia & peso & colore\n",
    "nome_inglese = df[nome][['EnglishProductName','StandardCost']]\n",
    "print (nome_inglese)"
   ]
  },
  {
   "cell_type": "code",
   "execution_count": null,
   "id": "65737482-8610-4c1a-98da-a98e76c62d57",
   "metadata": {},
   "outputs": [],
   "source": [
    "#Esaminiamo la differenza tra lo StandardCost e il DealerPrice degli ultimi 20 elementi del dataset: c'è un pattern? C'è qualche elemento che non lo segue?"
   ]
  },
  {
   "cell_type": "code",
   "execution_count": 78,
   "id": "2d14c07f-a407-4b39-809d-e39818045454",
   "metadata": {},
   "outputs": [],
   "source": [
    "import pandas as pd"
   ]
  },
  {
   "cell_type": "code",
   "execution_count": 28,
   "id": "9db2a3d7-cb7c-4b4d-8f04-425cd7d3ba9f",
   "metadata": {},
   "outputs": [],
   "source": [
    "#Tra i beginner datasets scaricabili all'indirizzo https://www.kaggle.com/datasets/ahmettezcantekin/beginner-datasets selezioniamo amazon.csv, \n",
    "#un dataset contenente una serie di recensioni su Amazon.\n",
    "#Valutiamo la dimensione del dataset\n",
    "#Visualizziamo dieci righe a caso;\n",
    "#Osserviamo quali sono i nomi di colonna;\n",
    "#Il dataset è bilanciato, ovvero, il numero di recensioni positive è uguale a quello delle negative, oppure no?"
   ]
  },
  {
   "cell_type": "code",
   "execution_count": 38,
   "id": "0c003af4-f72e-4f42-9646-ad1609c5463f",
   "metadata": {},
   "outputs": [],
   "source": [
    "file_path = \"/Users/matte/Desktop/Data analyst corso/PYTHON/beginner_datasets/amazon.csv\"\n",
    "amazon = pd.read_csv(file_path)"
   ]
  },
  {
   "cell_type": "code",
   "execution_count": 40,
   "id": "ea61dfc9-f7b9-458c-b270-dae8534f435f",
   "metadata": {},
   "outputs": [
    {
     "data": {
      "text/plain": [
       "(20000, 2)"
      ]
     },
     "execution_count": 40,
     "metadata": {},
     "output_type": "execute_result"
    }
   ],
   "source": [
    "amazon.shape"
   ]
  },
  {
   "cell_type": "code",
   "execution_count": 42,
   "id": "781354e7-c51f-48b2-96f7-456a02de7f7d",
   "metadata": {},
   "outputs": [
    {
     "data": {
      "text/html": [
       "<div>\n",
       "<style scoped>\n",
       "    .dataframe tbody tr th:only-of-type {\n",
       "        vertical-align: middle;\n",
       "    }\n",
       "\n",
       "    .dataframe tbody tr th {\n",
       "        vertical-align: top;\n",
       "    }\n",
       "\n",
       "    .dataframe thead th {\n",
       "        text-align: right;\n",
       "    }\n",
       "</style>\n",
       "<table border=\"1\" class=\"dataframe\">\n",
       "  <thead>\n",
       "    <tr style=\"text-align: right;\">\n",
       "      <th></th>\n",
       "      <th>reviewText</th>\n",
       "      <th>Positive</th>\n",
       "    </tr>\n",
       "  </thead>\n",
       "  <tbody>\n",
       "    <tr>\n",
       "      <th>2073</th>\n",
       "      <td>This app works great!  I use it to entertain m...</td>\n",
       "      <td>1</td>\n",
       "    </tr>\n",
       "    <tr>\n",
       "      <th>12398</th>\n",
       "      <td>This is the only alarm I use anymore. It has s...</td>\n",
       "      <td>1</td>\n",
       "    </tr>\n",
       "    <tr>\n",
       "      <th>7442</th>\n",
       "      <td>I have a king James Bible,  But this is a lot ...</td>\n",
       "      <td>1</td>\n",
       "    </tr>\n",
       "    <tr>\n",
       "      <th>3904</th>\n",
       "      <td>I love how this clock has big numbers so it's ...</td>\n",
       "      <td>1</td>\n",
       "    </tr>\n",
       "    <tr>\n",
       "      <th>13744</th>\n",
       "      <td>I love cats and figured I would get this.and I...</td>\n",
       "      <td>1</td>\n",
       "    </tr>\n",
       "    <tr>\n",
       "      <th>5914</th>\n",
       "      <td>Important app for you to work with the kindle ...</td>\n",
       "      <td>1</td>\n",
       "    </tr>\n",
       "    <tr>\n",
       "      <th>6062</th>\n",
       "      <td>I am using it for a journal of sorts for the y...</td>\n",
       "      <td>1</td>\n",
       "    </tr>\n",
       "    <tr>\n",
       "      <th>15867</th>\n",
       "      <td>This is a 5 star rating for sure. I had not fo...</td>\n",
       "      <td>1</td>\n",
       "    </tr>\n",
       "    <tr>\n",
       "      <th>4124</th>\n",
       "      <td>This is the cutest app!!! I tried the free app...</td>\n",
       "      <td>1</td>\n",
       "    </tr>\n",
       "    <tr>\n",
       "      <th>14379</th>\n",
       "      <td>I have this in Kindle and also on my android p...</td>\n",
       "      <td>1</td>\n",
       "    </tr>\n",
       "  </tbody>\n",
       "</table>\n",
       "</div>"
      ],
      "text/plain": [
       "                                              reviewText  Positive\n",
       "2073   This app works great!  I use it to entertain m...         1\n",
       "12398  This is the only alarm I use anymore. It has s...         1\n",
       "7442   I have a king James Bible,  But this is a lot ...         1\n",
       "3904   I love how this clock has big numbers so it's ...         1\n",
       "13744  I love cats and figured I would get this.and I...         1\n",
       "5914   Important app for you to work with the kindle ...         1\n",
       "6062   I am using it for a journal of sorts for the y...         1\n",
       "15867  This is a 5 star rating for sure. I had not fo...         1\n",
       "4124   This is the cutest app!!! I tried the free app...         1\n",
       "14379  I have this in Kindle and also on my android p...         1"
      ]
     },
     "execution_count": 42,
     "metadata": {},
     "output_type": "execute_result"
    }
   ],
   "source": [
    "amazon.sample (10)"
   ]
  },
  {
   "cell_type": "code",
   "execution_count": 46,
   "id": "3f4ca454-5730-41c3-8cf7-fc677c6c5838",
   "metadata": {},
   "outputs": [
    {
     "data": {
      "text/plain": [
       "Index(['reviewText', 'Positive'], dtype='object')"
      ]
     },
     "execution_count": 46,
     "metadata": {},
     "output_type": "execute_result"
    }
   ],
   "source": [
    "amazon.columns"
   ]
  },
  {
   "cell_type": "code",
   "execution_count": 56,
   "id": "47b7f110-b167-4352-a4fb-1095f4c96cd4",
   "metadata": {},
   "outputs": [
    {
     "data": {
      "text/plain": [
       "Positive\n",
       "1    15233\n",
       "0     4767\n",
       "Name: count, dtype: int64"
      ]
     },
     "execution_count": 56,
     "metadata": {},
     "output_type": "execute_result"
    }
   ],
   "source": [
    "recensioni = amazon ['Positive'].value_counts()\n",
    "recensioni"
   ]
  },
  {
   "cell_type": "code",
   "execution_count": null,
   "id": "44f769af-bd95-4221-a75f-4f3d4951ba86",
   "metadata": {},
   "outputs": [],
   "source": [
    "#Il dataset diabetes.csv raccoglie persone con diabete o meno, e il valore di diverse variabili fisiologiche dei pazienti.\n",
    "#Osserviamone le dimensioni e un'anteprima di cinque righe;\n",
    "#Prendiamoci un po' di tempo per dare un'occhiata ai metadati delle colonne;\n",
    "#Stampiamo dei descrittori statistici del dataset;\n",
    "#Selezioniamo i dati relativi a diverse fasce di età: <20, 20-30, 30-40, 40-50, >50;\n",
    "#Qual è la media della pressione sanguigna diastolica per le diverse fasce di età?\n",
    "#Qual è la media della pressione per ogni singolo anno di età?"
   ]
  },
  {
   "cell_type": "code",
   "execution_count": 7,
   "id": "a1ea9bb1-5856-4d34-b029-01aee7b597dc",
   "metadata": {},
   "outputs": [],
   "source": [
    "file_path = \"/Users/matte/Desktop/Data analyst corso/PYTHON/beginner_datasets/diabetes.csv\"\n",
    "diabete = pd.read_csv(file_path)"
   ]
  },
  {
   "cell_type": "code",
   "execution_count": 49,
   "id": "95a8b33a-f14f-419b-be7c-df59b853611e",
   "metadata": {},
   "outputs": [
    {
     "data": {
      "text/html": [
       "<div>\n",
       "<style scoped>\n",
       "    .dataframe tbody tr th:only-of-type {\n",
       "        vertical-align: middle;\n",
       "    }\n",
       "\n",
       "    .dataframe tbody tr th {\n",
       "        vertical-align: top;\n",
       "    }\n",
       "\n",
       "    .dataframe thead th {\n",
       "        text-align: right;\n",
       "    }\n",
       "</style>\n",
       "<table border=\"1\" class=\"dataframe\">\n",
       "  <thead>\n",
       "    <tr style=\"text-align: right;\">\n",
       "      <th></th>\n",
       "      <th>Number of times pregnant</th>\n",
       "      <th>Plasma glucose concentration a 2 hours in an oral glucose tolerance test</th>\n",
       "      <th>Diastolic blood pressure (mm Hg)</th>\n",
       "      <th>Triceps skin fold thickness (mm)</th>\n",
       "      <th>2-Hour serum insulin (mu U/ml)</th>\n",
       "      <th>Body mass index (weight in kg/(height in m)^2)</th>\n",
       "      <th>Diabetes pedigree function</th>\n",
       "      <th>Age (years)</th>\n",
       "      <th>Class variable</th>\n",
       "    </tr>\n",
       "  </thead>\n",
       "  <tbody>\n",
       "    <tr>\n",
       "      <th>153</th>\n",
       "      <td>1</td>\n",
       "      <td>153</td>\n",
       "      <td>82</td>\n",
       "      <td>42</td>\n",
       "      <td>485</td>\n",
       "      <td>40.6</td>\n",
       "      <td>0.687</td>\n",
       "      <td>23</td>\n",
       "      <td>0</td>\n",
       "    </tr>\n",
       "    <tr>\n",
       "      <th>645</th>\n",
       "      <td>2</td>\n",
       "      <td>157</td>\n",
       "      <td>74</td>\n",
       "      <td>35</td>\n",
       "      <td>440</td>\n",
       "      <td>39.4</td>\n",
       "      <td>0.134</td>\n",
       "      <td>30</td>\n",
       "      <td>0</td>\n",
       "    </tr>\n",
       "    <tr>\n",
       "      <th>238</th>\n",
       "      <td>9</td>\n",
       "      <td>164</td>\n",
       "      <td>84</td>\n",
       "      <td>21</td>\n",
       "      <td>0</td>\n",
       "      <td>30.8</td>\n",
       "      <td>0.831</td>\n",
       "      <td>32</td>\n",
       "      <td>1</td>\n",
       "    </tr>\n",
       "    <tr>\n",
       "      <th>306</th>\n",
       "      <td>10</td>\n",
       "      <td>161</td>\n",
       "      <td>68</td>\n",
       "      <td>23</td>\n",
       "      <td>132</td>\n",
       "      <td>25.5</td>\n",
       "      <td>0.326</td>\n",
       "      <td>47</td>\n",
       "      <td>1</td>\n",
       "    </tr>\n",
       "    <tr>\n",
       "      <th>366</th>\n",
       "      <td>6</td>\n",
       "      <td>124</td>\n",
       "      <td>72</td>\n",
       "      <td>0</td>\n",
       "      <td>0</td>\n",
       "      <td>27.6</td>\n",
       "      <td>0.368</td>\n",
       "      <td>29</td>\n",
       "      <td>1</td>\n",
       "    </tr>\n",
       "  </tbody>\n",
       "</table>\n",
       "</div>"
      ],
      "text/plain": [
       "     Number of times pregnant  \\\n",
       "153                         1   \n",
       "645                         2   \n",
       "238                         9   \n",
       "306                        10   \n",
       "366                         6   \n",
       "\n",
       "     Plasma glucose concentration a 2 hours in an oral glucose tolerance test  \\\n",
       "153                                                153                          \n",
       "645                                                157                          \n",
       "238                                                164                          \n",
       "306                                                161                          \n",
       "366                                                124                          \n",
       "\n",
       "     Diastolic blood pressure (mm Hg)  Triceps skin fold thickness (mm)  \\\n",
       "153                                82                                42   \n",
       "645                                74                                35   \n",
       "238                                84                                21   \n",
       "306                                68                                23   \n",
       "366                                72                                 0   \n",
       "\n",
       "     2-Hour serum insulin (mu U/ml)  \\\n",
       "153                             485   \n",
       "645                             440   \n",
       "238                               0   \n",
       "306                             132   \n",
       "366                               0   \n",
       "\n",
       "     Body mass index (weight in kg/(height in m)^2)  \\\n",
       "153                                            40.6   \n",
       "645                                            39.4   \n",
       "238                                            30.8   \n",
       "306                                            25.5   \n",
       "366                                            27.6   \n",
       "\n",
       "     Diabetes pedigree function  Age (years)  Class variable  \n",
       "153                       0.687           23               0  \n",
       "645                       0.134           30               0  \n",
       "238                       0.831           32               1  \n",
       "306                       0.326           47               1  \n",
       "366                       0.368           29               1  "
      ]
     },
     "execution_count": 49,
     "metadata": {},
     "output_type": "execute_result"
    }
   ],
   "source": [
    "diabete.sample(5)"
   ]
  },
  {
   "cell_type": "code",
   "execution_count": 51,
   "id": "9fc75309-ad13-499c-9735-5753c767543c",
   "metadata": {},
   "outputs": [
    {
     "data": {
      "text/plain": [
       "(768, 9)"
      ]
     },
     "execution_count": 51,
     "metadata": {},
     "output_type": "execute_result"
    }
   ],
   "source": [
    "diabete.shape"
   ]
  },
  {
   "cell_type": "code",
   "execution_count": 39,
   "id": "471c7cad-c260-4b6f-b548-575a13b8d151",
   "metadata": {},
   "outputs": [
    {
     "data": {
      "text/html": [
       "<div>\n",
       "<style scoped>\n",
       "    .dataframe tbody tr th:only-of-type {\n",
       "        vertical-align: middle;\n",
       "    }\n",
       "\n",
       "    .dataframe tbody tr th {\n",
       "        vertical-align: top;\n",
       "    }\n",
       "\n",
       "    .dataframe thead th {\n",
       "        text-align: right;\n",
       "    }\n",
       "</style>\n",
       "<table border=\"1\" class=\"dataframe\">\n",
       "  <thead>\n",
       "    <tr style=\"text-align: right;\">\n",
       "      <th></th>\n",
       "      <th>Number of times pregnant</th>\n",
       "      <th>Plasma glucose concentration a 2 hours in an oral glucose tolerance test</th>\n",
       "      <th>Diastolic blood pressure (mm Hg)</th>\n",
       "      <th>Triceps skin fold thickness (mm)</th>\n",
       "      <th>2-Hour serum insulin (mu U/ml)</th>\n",
       "      <th>Body mass index (weight in kg/(height in m)^2)</th>\n",
       "      <th>Diabetes pedigree function</th>\n",
       "      <th>Age (years)</th>\n",
       "      <th>Class variable</th>\n",
       "    </tr>\n",
       "  </thead>\n",
       "  <tbody>\n",
       "    <tr>\n",
       "      <th>count</th>\n",
       "      <td>768.000000</td>\n",
       "      <td>768.000000</td>\n",
       "      <td>768.000000</td>\n",
       "      <td>768.000000</td>\n",
       "      <td>768.000000</td>\n",
       "      <td>768.000000</td>\n",
       "      <td>768.000000</td>\n",
       "      <td>768.000000</td>\n",
       "      <td>768.000000</td>\n",
       "    </tr>\n",
       "    <tr>\n",
       "      <th>mean</th>\n",
       "      <td>3.845052</td>\n",
       "      <td>120.894531</td>\n",
       "      <td>69.105469</td>\n",
       "      <td>20.536458</td>\n",
       "      <td>79.799479</td>\n",
       "      <td>31.992578</td>\n",
       "      <td>0.471876</td>\n",
       "      <td>33.240885</td>\n",
       "      <td>0.348958</td>\n",
       "    </tr>\n",
       "    <tr>\n",
       "      <th>std</th>\n",
       "      <td>3.369578</td>\n",
       "      <td>31.972618</td>\n",
       "      <td>19.355807</td>\n",
       "      <td>15.952218</td>\n",
       "      <td>115.244002</td>\n",
       "      <td>7.884160</td>\n",
       "      <td>0.331329</td>\n",
       "      <td>11.760232</td>\n",
       "      <td>0.476951</td>\n",
       "    </tr>\n",
       "    <tr>\n",
       "      <th>min</th>\n",
       "      <td>0.000000</td>\n",
       "      <td>0.000000</td>\n",
       "      <td>0.000000</td>\n",
       "      <td>0.000000</td>\n",
       "      <td>0.000000</td>\n",
       "      <td>0.000000</td>\n",
       "      <td>0.078000</td>\n",
       "      <td>21.000000</td>\n",
       "      <td>0.000000</td>\n",
       "    </tr>\n",
       "    <tr>\n",
       "      <th>25%</th>\n",
       "      <td>1.000000</td>\n",
       "      <td>99.000000</td>\n",
       "      <td>62.000000</td>\n",
       "      <td>0.000000</td>\n",
       "      <td>0.000000</td>\n",
       "      <td>27.300000</td>\n",
       "      <td>0.243750</td>\n",
       "      <td>24.000000</td>\n",
       "      <td>0.000000</td>\n",
       "    </tr>\n",
       "    <tr>\n",
       "      <th>50%</th>\n",
       "      <td>3.000000</td>\n",
       "      <td>117.000000</td>\n",
       "      <td>72.000000</td>\n",
       "      <td>23.000000</td>\n",
       "      <td>30.500000</td>\n",
       "      <td>32.000000</td>\n",
       "      <td>0.372500</td>\n",
       "      <td>29.000000</td>\n",
       "      <td>0.000000</td>\n",
       "    </tr>\n",
       "    <tr>\n",
       "      <th>75%</th>\n",
       "      <td>6.000000</td>\n",
       "      <td>140.250000</td>\n",
       "      <td>80.000000</td>\n",
       "      <td>32.000000</td>\n",
       "      <td>127.250000</td>\n",
       "      <td>36.600000</td>\n",
       "      <td>0.626250</td>\n",
       "      <td>41.000000</td>\n",
       "      <td>1.000000</td>\n",
       "    </tr>\n",
       "    <tr>\n",
       "      <th>max</th>\n",
       "      <td>17.000000</td>\n",
       "      <td>199.000000</td>\n",
       "      <td>122.000000</td>\n",
       "      <td>99.000000</td>\n",
       "      <td>846.000000</td>\n",
       "      <td>67.100000</td>\n",
       "      <td>2.420000</td>\n",
       "      <td>81.000000</td>\n",
       "      <td>1.000000</td>\n",
       "    </tr>\n",
       "  </tbody>\n",
       "</table>\n",
       "</div>"
      ],
      "text/plain": [
       "       Number of times pregnant  \\\n",
       "count                768.000000   \n",
       "mean                   3.845052   \n",
       "std                    3.369578   \n",
       "min                    0.000000   \n",
       "25%                    1.000000   \n",
       "50%                    3.000000   \n",
       "75%                    6.000000   \n",
       "max                   17.000000   \n",
       "\n",
       "       Plasma glucose concentration a 2 hours in an oral glucose tolerance test  \\\n",
       "count                                         768.000000                          \n",
       "mean                                          120.894531                          \n",
       "std                                            31.972618                          \n",
       "min                                             0.000000                          \n",
       "25%                                            99.000000                          \n",
       "50%                                           117.000000                          \n",
       "75%                                           140.250000                          \n",
       "max                                           199.000000                          \n",
       "\n",
       "       Diastolic blood pressure (mm Hg)  Triceps skin fold thickness (mm)  \\\n",
       "count                        768.000000                        768.000000   \n",
       "mean                          69.105469                         20.536458   \n",
       "std                           19.355807                         15.952218   \n",
       "min                            0.000000                          0.000000   \n",
       "25%                           62.000000                          0.000000   \n",
       "50%                           72.000000                         23.000000   \n",
       "75%                           80.000000                         32.000000   \n",
       "max                          122.000000                         99.000000   \n",
       "\n",
       "       2-Hour serum insulin (mu U/ml)  \\\n",
       "count                      768.000000   \n",
       "mean                        79.799479   \n",
       "std                        115.244002   \n",
       "min                          0.000000   \n",
       "25%                          0.000000   \n",
       "50%                         30.500000   \n",
       "75%                        127.250000   \n",
       "max                        846.000000   \n",
       "\n",
       "       Body mass index (weight in kg/(height in m)^2)  \\\n",
       "count                                      768.000000   \n",
       "mean                                        31.992578   \n",
       "std                                          7.884160   \n",
       "min                                          0.000000   \n",
       "25%                                         27.300000   \n",
       "50%                                         32.000000   \n",
       "75%                                         36.600000   \n",
       "max                                         67.100000   \n",
       "\n",
       "       Diabetes pedigree function  Age (years)  Class variable  \n",
       "count                  768.000000   768.000000      768.000000  \n",
       "mean                     0.471876    33.240885        0.348958  \n",
       "std                      0.331329    11.760232        0.476951  \n",
       "min                      0.078000    21.000000        0.000000  \n",
       "25%                      0.243750    24.000000        0.000000  \n",
       "50%                      0.372500    29.000000        0.000000  \n",
       "75%                      0.626250    41.000000        1.000000  \n",
       "max                      2.420000    81.000000        1.000000  "
      ]
     },
     "execution_count": 39,
     "metadata": {},
     "output_type": "execute_result"
    }
   ],
   "source": [
    "diabete.describe()"
   ]
  },
  {
   "cell_type": "code",
   "execution_count": 73,
   "id": "e18c07dd-1cc5-439d-a540-186d03b51c7a",
   "metadata": {},
   "outputs": [
    {
     "data": {
      "text/plain": [
       "Index(['Number of times pregnant',\n",
       "       'Plasma glucose concentration a 2 hours in an oral glucose tolerance test',\n",
       "       'Diastolic blood pressure (mm Hg)', 'Triceps skin fold thickness (mm)',\n",
       "       '2-Hour serum insulin (mu U/ml)',\n",
       "       'Body mass index (weight in kg/(height in m)^2)',\n",
       "       'Diabetes pedigree function', 'Age (years)', 'Class variable'],\n",
       "      dtype='object')"
      ]
     },
     "execution_count": 73,
     "metadata": {},
     "output_type": "execute_result"
    }
   ],
   "source": [
    "diabete.columns"
   ]
  },
  {
   "cell_type": "code",
   "execution_count": 116,
   "id": "0d4cfe68-7cd5-4492-9e5d-c819285b7837",
   "metadata": {},
   "outputs": [
    {
     "name": "stdout",
     "output_type": "stream",
     "text": [
      "Empty DataFrame\n",
      "Columns: [Number of times pregnant, Plasma glucose concentration a 2 hours in an oral glucose tolerance test, Diastolic blood pressure (mm Hg), Triceps skin fold thickness (mm), 2-Hour serum insulin (mu U/ml), Body mass index (weight in kg/(height in m)^2), Diabetes pedigree function, Age (years), Class variable]\n",
      "Index: []\n"
     ]
    }
   ],
   "source": [
    "#Selezioniamo i dati relativi a diverse fasce di età: <20, 20-30, 30-40, 40-50, >50;\n",
    "fascia_minore20 = diabete[diabete['Age (years)'] < 20]\n",
    "print (fascia_minore20)"
   ]
  },
  {
   "cell_type": "code",
   "execution_count": 108,
   "id": "6fff4573-3b8c-4aa3-8063-09bb7962edfb",
   "metadata": {},
   "outputs": [
    {
     "name": "stdout",
     "output_type": "stream",
     "text": [
      "     Number of times pregnant  \\\n",
      "3                           1   \n",
      "6                           3   \n",
      "7                          10   \n",
      "20                          3   \n",
      "23                          9   \n",
      "..                        ...   \n",
      "753                         0   \n",
      "758                         1   \n",
      "760                         2   \n",
      "764                         2   \n",
      "767                         1   \n",
      "\n",
      "     Plasma glucose concentration a 2 hours in an oral glucose tolerance test  \\\n",
      "3                                                   89                          \n",
      "6                                                   78                          \n",
      "7                                                  115                          \n",
      "20                                                 126                          \n",
      "23                                                 119                          \n",
      "..                                                 ...                          \n",
      "753                                                181                          \n",
      "758                                                106                          \n",
      "760                                                 88                          \n",
      "764                                                122                          \n",
      "767                                                 93                          \n",
      "\n",
      "     Diastolic blood pressure (mm Hg)  Triceps skin fold thickness (mm)  \\\n",
      "3                                  66                                23   \n",
      "6                                  50                                32   \n",
      "7                                   0                                 0   \n",
      "20                                 88                                41   \n",
      "23                                 80                                35   \n",
      "..                                ...                               ...   \n",
      "753                                88                                44   \n",
      "758                                76                                 0   \n",
      "760                                58                                26   \n",
      "764                                70                                27   \n",
      "767                                70                                31   \n",
      "\n",
      "     2-Hour serum insulin (mu U/ml)  \\\n",
      "3                                94   \n",
      "6                                88   \n",
      "7                                 0   \n",
      "20                              235   \n",
      "23                                0   \n",
      "..                              ...   \n",
      "753                             510   \n",
      "758                               0   \n",
      "760                              16   \n",
      "764                               0   \n",
      "767                               0   \n",
      "\n",
      "     Body mass index (weight in kg/(height in m)^2)  \\\n",
      "3                                              28.1   \n",
      "6                                              31.0   \n",
      "7                                              35.3   \n",
      "20                                             39.3   \n",
      "23                                             29.0   \n",
      "..                                              ...   \n",
      "753                                            43.3   \n",
      "758                                            37.5   \n",
      "760                                            28.4   \n",
      "764                                            36.8   \n",
      "767                                            30.4   \n",
      "\n",
      "     Diabetes pedigree function  Age (years)  Class variable  \n",
      "3                         0.167           21               0  \n",
      "6                         0.248           26               1  \n",
      "7                         0.134           29               0  \n",
      "20                        0.704           27               0  \n",
      "23                        0.263           29               1  \n",
      "..                          ...          ...             ...  \n",
      "753                       0.222           26               1  \n",
      "758                       0.197           26               0  \n",
      "760                       0.766           22               0  \n",
      "764                       0.340           27               0  \n",
      "767                       0.315           23               0  \n",
      "\n",
      "[396 rows x 9 columns]\n"
     ]
    }
   ],
   "source": [
    "#Selezioniamo i dati relativi a diverse fasce di età: <20, 20-30, 30-40, 40-50, >50;\n",
    "fascia_20_30 = diabete[(diabete['Age (years)'] < 20) & (diabete['Age (years)']<=30)]\n",
    "print (fascia_30_40)"
   ]
  },
  {
   "cell_type": "code",
   "execution_count": 106,
   "id": "3b60808a-f072-4139-bd0a-9a34a750beb0",
   "metadata": {},
   "outputs": [
    {
     "name": "stdout",
     "output_type": "stream",
     "text": [
      "     Number of times pregnant  \\\n",
      "3                           1   \n",
      "6                           3   \n",
      "7                          10   \n",
      "20                          3   \n",
      "23                          9   \n",
      "..                        ...   \n",
      "753                         0   \n",
      "758                         1   \n",
      "760                         2   \n",
      "764                         2   \n",
      "767                         1   \n",
      "\n",
      "     Plasma glucose concentration a 2 hours in an oral glucose tolerance test  \\\n",
      "3                                                   89                          \n",
      "6                                                   78                          \n",
      "7                                                  115                          \n",
      "20                                                 126                          \n",
      "23                                                 119                          \n",
      "..                                                 ...                          \n",
      "753                                                181                          \n",
      "758                                                106                          \n",
      "760                                                 88                          \n",
      "764                                                122                          \n",
      "767                                                 93                          \n",
      "\n",
      "     Diastolic blood pressure (mm Hg)  Triceps skin fold thickness (mm)  \\\n",
      "3                                  66                                23   \n",
      "6                                  50                                32   \n",
      "7                                   0                                 0   \n",
      "20                                 88                                41   \n",
      "23                                 80                                35   \n",
      "..                                ...                               ...   \n",
      "753                                88                                44   \n",
      "758                                76                                 0   \n",
      "760                                58                                26   \n",
      "764                                70                                27   \n",
      "767                                70                                31   \n",
      "\n",
      "     2-Hour serum insulin (mu U/ml)  \\\n",
      "3                                94   \n",
      "6                                88   \n",
      "7                                 0   \n",
      "20                              235   \n",
      "23                                0   \n",
      "..                              ...   \n",
      "753                             510   \n",
      "758                               0   \n",
      "760                              16   \n",
      "764                               0   \n",
      "767                               0   \n",
      "\n",
      "     Body mass index (weight in kg/(height in m)^2)  \\\n",
      "3                                              28.1   \n",
      "6                                              31.0   \n",
      "7                                              35.3   \n",
      "20                                             39.3   \n",
      "23                                             29.0   \n",
      "..                                              ...   \n",
      "753                                            43.3   \n",
      "758                                            37.5   \n",
      "760                                            28.4   \n",
      "764                                            36.8   \n",
      "767                                            30.4   \n",
      "\n",
      "     Diabetes pedigree function  Age (years)  Class variable  \n",
      "3                         0.167           21               0  \n",
      "6                         0.248           26               1  \n",
      "7                         0.134           29               0  \n",
      "20                        0.704           27               0  \n",
      "23                        0.263           29               1  \n",
      "..                          ...          ...             ...  \n",
      "753                       0.222           26               1  \n",
      "758                       0.197           26               0  \n",
      "760                       0.766           22               0  \n",
      "764                       0.340           27               0  \n",
      "767                       0.315           23               0  \n",
      "\n",
      "[396 rows x 9 columns]\n"
     ]
    }
   ],
   "source": [
    "fascia_30_40 = diabete[(diabete['Age (years)'] < 30) & (diabete['Age (years)']<=40)]\n",
    "print (fascia_30_40)"
   ]
  },
  {
   "cell_type": "code",
   "execution_count": 118,
   "id": "eefc8977-3fe6-4f37-a498-d916035fce80",
   "metadata": {},
   "outputs": [
    {
     "name": "stdout",
     "output_type": "stream",
     "text": [
      "     Number of times pregnant  \\\n",
      "1                           1   \n",
      "2                           8   \n",
      "3                           1   \n",
      "4                           0   \n",
      "5                           5   \n",
      "..                        ...   \n",
      "760                         2   \n",
      "762                         9   \n",
      "764                         2   \n",
      "765                         5   \n",
      "767                         1   \n",
      "\n",
      "     Plasma glucose concentration a 2 hours in an oral glucose tolerance test  \\\n",
      "1                                                   85                          \n",
      "2                                                  183                          \n",
      "3                                                   89                          \n",
      "4                                                  137                          \n",
      "5                                                  116                          \n",
      "..                                                 ...                          \n",
      "760                                                 88                          \n",
      "762                                                 89                          \n",
      "764                                                122                          \n",
      "765                                                121                          \n",
      "767                                                 93                          \n",
      "\n",
      "     Diastolic blood pressure (mm Hg)  Triceps skin fold thickness (mm)  \\\n",
      "1                                  66                                29   \n",
      "2                                  64                                 0   \n",
      "3                                  66                                23   \n",
      "4                                  40                                35   \n",
      "5                                  74                                 0   \n",
      "..                                ...                               ...   \n",
      "760                                58                                26   \n",
      "762                                62                                 0   \n",
      "764                                70                                27   \n",
      "765                                72                                23   \n",
      "767                                70                                31   \n",
      "\n",
      "     2-Hour serum insulin (mu U/ml)  \\\n",
      "1                                 0   \n",
      "2                                 0   \n",
      "3                                94   \n",
      "4                               168   \n",
      "5                                 0   \n",
      "..                              ...   \n",
      "760                              16   \n",
      "762                               0   \n",
      "764                               0   \n",
      "765                             112   \n",
      "767                               0   \n",
      "\n",
      "     Body mass index (weight in kg/(height in m)^2)  \\\n",
      "1                                              26.6   \n",
      "2                                              23.3   \n",
      "3                                              28.1   \n",
      "4                                              43.1   \n",
      "5                                              25.6   \n",
      "..                                              ...   \n",
      "760                                            28.4   \n",
      "762                                            22.5   \n",
      "764                                            36.8   \n",
      "765                                            26.2   \n",
      "767                                            30.4   \n",
      "\n",
      "     Diabetes pedigree function  Age (years)  Class variable  \n",
      "1                         0.351           31               0  \n",
      "2                         0.672           32               1  \n",
      "3                         0.167           21               0  \n",
      "4                         2.288           33               1  \n",
      "5                         0.201           30               0  \n",
      "..                          ...          ...             ...  \n",
      "760                       0.766           22               0  \n",
      "762                       0.142           33               0  \n",
      "764                       0.340           27               0  \n",
      "765                       0.245           30               0  \n",
      "767                       0.315           23               0  \n",
      "\n",
      "[561 rows x 9 columns]\n"
     ]
    }
   ],
   "source": [
    "fascia_40_50 = diabete[(diabete['Age (years)'] < 40) & (diabete['Age (years)']<=50)]\n",
    "print (fascia_40_50)"
   ]
  },
  {
   "cell_type": "code",
   "execution_count": 114,
   "id": "5d43f3ec-deab-475d-ba7a-d1a8604e7535",
   "metadata": {},
   "outputs": [
    {
     "name": "stdout",
     "output_type": "stream",
     "text": [
      "     Number of times pregnant  \\\n",
      "8                           2   \n",
      "9                           8   \n",
      "12                         10   \n",
      "13                          1   \n",
      "14                          5   \n",
      "..                        ...   \n",
      "719                         5   \n",
      "734                         2   \n",
      "757                         0   \n",
      "759                         6   \n",
      "763                        10   \n",
      "\n",
      "     Plasma glucose concentration a 2 hours in an oral glucose tolerance test  \\\n",
      "8                                                  197                          \n",
      "9                                                  125                          \n",
      "12                                                 139                          \n",
      "13                                                 189                          \n",
      "14                                                 166                          \n",
      "..                                                 ...                          \n",
      "719                                                 97                          \n",
      "734                                                105                          \n",
      "757                                                123                          \n",
      "759                                                190                          \n",
      "763                                                101                          \n",
      "\n",
      "     Diastolic blood pressure (mm Hg)  Triceps skin fold thickness (mm)  \\\n",
      "8                                  70                                45   \n",
      "9                                  96                                 0   \n",
      "12                                 80                                 0   \n",
      "13                                 60                                23   \n",
      "14                                 72                                19   \n",
      "..                                ...                               ...   \n",
      "719                                76                                27   \n",
      "734                                75                                 0   \n",
      "757                                72                                 0   \n",
      "759                                92                                 0   \n",
      "763                                76                                48   \n",
      "\n",
      "     2-Hour serum insulin (mu U/ml)  \\\n",
      "8                               543   \n",
      "9                                 0   \n",
      "12                                0   \n",
      "13                              846   \n",
      "14                              175   \n",
      "..                              ...   \n",
      "719                               0   \n",
      "734                               0   \n",
      "757                               0   \n",
      "759                               0   \n",
      "763                             180   \n",
      "\n",
      "     Body mass index (weight in kg/(height in m)^2)  \\\n",
      "8                                              30.5   \n",
      "9                                               0.0   \n",
      "12                                             27.1   \n",
      "13                                             30.1   \n",
      "14                                             25.8   \n",
      "..                                              ...   \n",
      "719                                            35.6   \n",
      "734                                            23.3   \n",
      "757                                            36.3   \n",
      "759                                            35.5   \n",
      "763                                            32.9   \n",
      "\n",
      "     Diabetes pedigree function  Age (years)  Class variable  \n",
      "8                         0.158           53               1  \n",
      "9                         0.232           54               1  \n",
      "12                        1.441           57               0  \n",
      "13                        0.398           59               1  \n",
      "14                        0.587           51               1  \n",
      "..                          ...          ...             ...  \n",
      "719                       0.378           52               1  \n",
      "734                       0.560           53               0  \n",
      "757                       0.258           52               1  \n",
      "759                       0.278           66               1  \n",
      "763                       0.171           63               0  \n",
      "\n",
      "[81 rows x 9 columns]\n"
     ]
    }
   ],
   "source": [
    "fascia_maggiore50 = diabete[diabete['Age (years)'] >50]\n",
    "print (fascia_maggiore50)"
   ]
  },
  {
   "cell_type": "code",
   "execution_count": 136,
   "id": "7d5d56eb-ddf1-4c58-9815-b0f6b110b9df",
   "metadata": {},
   "outputs": [
    {
     "name": "stdout",
     "output_type": "stream",
     "text": [
      "69.10546875\n"
     ]
    }
   ],
   "source": [
    "#Qual è la media della pressione sanguigna diastolica per le diverse fasce di età?\n",
    "pressione = diabete['Diastolic blood pressure (mm Hg)'].mean()\n",
    "print (pressione)"
   ]
  },
  {
   "cell_type": "code",
   "execution_count": 189,
   "id": "12ec00f7-b384-4f4b-b44c-8d3b506d6ece",
   "metadata": {},
   "outputs": [
    {
     "name": "stdout",
     "output_type": "stream",
     "text": [
      "nan\n",
      "nan\n",
      "65.35\n",
      "66.62\n",
      "78.38\n"
     ]
    }
   ],
   "source": [
    "#Qual è la media della pressione sanguigna diastolica per le diverse fasce di età?\n",
    "pressione_1 = round(fascia_minore20['Diastolic blood pressure (mm Hg)'].mean(),2)\n",
    "pressione_2 = round(fascia_20_30['Diastolic blood pressure (mm Hg)'].mean(),2)\n",
    "pressione_3 = round(fascia_30_40['Diastolic blood pressure (mm Hg)'].mean(),2)\n",
    "pressione_4 = round(fascia_40_50['Diastolic blood pressure (mm Hg)'].mean(),2)\n",
    "pressione_5 = round(fascia_maggiore50['Diastolic blood pressure (mm Hg)'].mean(),2)\n",
    "print (pressione_1)\n",
    "print (pressione_2)\n",
    "print (pressione_3)\n",
    "print (pressione_4)\n",
    "print (pressione_5)"
   ]
  },
  {
   "cell_type": "code",
   "execution_count": 213,
   "id": "cc281976-111b-41d7-9eac-388b0b60e33f",
   "metadata": {},
   "outputs": [
    {
     "ename": "IndexError",
     "evalue": "only integers, slices (`:`), ellipsis (`...`), numpy.newaxis (`None`) and integer or boolean arrays are valid indices",
     "output_type": "error",
     "traceback": [
      "\u001b[1;31m---------------------------------------------------------------------------\u001b[0m",
      "\u001b[1;31mIndexError\u001b[0m                                Traceback (most recent call last)",
      "Cell \u001b[1;32mIn[213], line 3\u001b[0m\n\u001b[0;32m      1\u001b[0m \u001b[38;5;66;03m#Qual è la media della pressione per ogni singolo anno di età?\u001b[39;00m\n\u001b[0;32m      2\u001b[0m anni_nascita_unici \u001b[38;5;241m=\u001b[39m diabete[\u001b[38;5;124m'\u001b[39m\u001b[38;5;124mAge (years)\u001b[39m\u001b[38;5;124m'\u001b[39m]\u001b[38;5;241m.\u001b[39munique()\n\u001b[1;32m----> 3\u001b[0m \u001b[38;5;28mprint\u001b[39m(\u001b[38;5;28mround\u001b[39m(anni_nascita_unici[\u001b[38;5;124m'\u001b[39m\u001b[38;5;124mDiastolic blood pressure (mm Hg)\u001b[39m\u001b[38;5;124m'\u001b[39m]\u001b[38;5;241m.\u001b[39mmean(),\u001b[38;5;241m2\u001b[39m))\n",
      "\u001b[1;31mIndexError\u001b[0m: only integers, slices (`:`), ellipsis (`...`), numpy.newaxis (`None`) and integer or boolean arrays are valid indices"
     ]
    }
   ],
   "source": [
    "#Qual è la media della pressione per ogni singolo anno di età? BOH\n",
    "anni_nascita_unici = diabete['Age (years)'].unique()\n",
    "print(round(anni_nascita_unici['Diastolic blood pressure (mm Hg)'].mean(),2))"
   ]
  },
  {
   "cell_type": "code",
   "execution_count": null,
   "id": "279fa992-ff6b-46fc-95bd-e5d42e87d5d3",
   "metadata": {},
   "outputs": [],
   "source": [
    "#Il dataset insurance.csv contiene dati rispetto a caratteristiche e abitudini delle persone, e della zona in cui vivono,\n",
    "#rispetto ai costi individuali per le cure mediche come premio per le assicurazioni sulla salute.\n",
    "#Visualizziamone le dimensioni, un'anteprima, e osserviamo i nomi di colonna;\n",
    "#Quali sono le medie di charges rispetto a region? Ci sono differenze significative?\n",
    "#E rispetto a smoker? E a sex?\n",
    "#Quali sono i descrittori statistici di bmi?\n",
    "#Quali sono minimo, media e massimo di charges rispetto ai diversi quartili dei valori di bmi?"
   ]
  },
  {
   "cell_type": "code",
   "execution_count": 9,
   "id": "77d39d90-32c7-4b3a-9bf5-929c8a3dd5f5",
   "metadata": {},
   "outputs": [],
   "source": [
    "import pandas as pd\n",
    "file_path = \"/Users/matte/Desktop/Data analyst corso/PYTHON/beginner_datasets/insurance.csv\"\n",
    "insurance = pd.read_csv(file_path)"
   ]
  },
  {
   "cell_type": "code",
   "execution_count": 217,
   "id": "bef03638-86cf-4ddc-9d63-17cf8b1fe813",
   "metadata": {},
   "outputs": [
    {
     "data": {
      "text/plain": [
       "(1338, 7)"
      ]
     },
     "execution_count": 217,
     "metadata": {},
     "output_type": "execute_result"
    }
   ],
   "source": [
    "insurance.shape"
   ]
  },
  {
   "cell_type": "code",
   "execution_count": 219,
   "id": "03c604c0-bcfa-4141-a09d-fd4b50274ab1",
   "metadata": {},
   "outputs": [
    {
     "data": {
      "text/html": [
       "<div>\n",
       "<style scoped>\n",
       "    .dataframe tbody tr th:only-of-type {\n",
       "        vertical-align: middle;\n",
       "    }\n",
       "\n",
       "    .dataframe tbody tr th {\n",
       "        vertical-align: top;\n",
       "    }\n",
       "\n",
       "    .dataframe thead th {\n",
       "        text-align: right;\n",
       "    }\n",
       "</style>\n",
       "<table border=\"1\" class=\"dataframe\">\n",
       "  <thead>\n",
       "    <tr style=\"text-align: right;\">\n",
       "      <th></th>\n",
       "      <th>age</th>\n",
       "      <th>sex</th>\n",
       "      <th>bmi</th>\n",
       "      <th>children</th>\n",
       "      <th>smoker</th>\n",
       "      <th>region</th>\n",
       "      <th>charges</th>\n",
       "    </tr>\n",
       "  </thead>\n",
       "  <tbody>\n",
       "    <tr>\n",
       "      <th>1220</th>\n",
       "      <td>30</td>\n",
       "      <td>female</td>\n",
       "      <td>21.945</td>\n",
       "      <td>1</td>\n",
       "      <td>no</td>\n",
       "      <td>northeast</td>\n",
       "      <td>4718.20355</td>\n",
       "    </tr>\n",
       "    <tr>\n",
       "      <th>229</th>\n",
       "      <td>47</td>\n",
       "      <td>male</td>\n",
       "      <td>25.460</td>\n",
       "      <td>2</td>\n",
       "      <td>no</td>\n",
       "      <td>northeast</td>\n",
       "      <td>9225.25640</td>\n",
       "    </tr>\n",
       "    <tr>\n",
       "      <th>34</th>\n",
       "      <td>28</td>\n",
       "      <td>male</td>\n",
       "      <td>36.400</td>\n",
       "      <td>1</td>\n",
       "      <td>yes</td>\n",
       "      <td>southwest</td>\n",
       "      <td>51194.55914</td>\n",
       "    </tr>\n",
       "    <tr>\n",
       "      <th>96</th>\n",
       "      <td>54</td>\n",
       "      <td>female</td>\n",
       "      <td>30.800</td>\n",
       "      <td>3</td>\n",
       "      <td>no</td>\n",
       "      <td>southwest</td>\n",
       "      <td>12105.32000</td>\n",
       "    </tr>\n",
       "    <tr>\n",
       "      <th>1144</th>\n",
       "      <td>50</td>\n",
       "      <td>male</td>\n",
       "      <td>32.300</td>\n",
       "      <td>2</td>\n",
       "      <td>no</td>\n",
       "      <td>southwest</td>\n",
       "      <td>9630.39700</td>\n",
       "    </tr>\n",
       "  </tbody>\n",
       "</table>\n",
       "</div>"
      ],
      "text/plain": [
       "      age     sex     bmi  children smoker     region      charges\n",
       "1220   30  female  21.945         1     no  northeast   4718.20355\n",
       "229    47    male  25.460         2     no  northeast   9225.25640\n",
       "34     28    male  36.400         1    yes  southwest  51194.55914\n",
       "96     54  female  30.800         3     no  southwest  12105.32000\n",
       "1144   50    male  32.300         2     no  southwest   9630.39700"
      ]
     },
     "execution_count": 219,
     "metadata": {},
     "output_type": "execute_result"
    }
   ],
   "source": [
    "insurance.sample (5)"
   ]
  },
  {
   "cell_type": "code",
   "execution_count": 221,
   "id": "7874e2be-d029-4407-a975-2f95998675fd",
   "metadata": {},
   "outputs": [
    {
     "data": {
      "text/plain": [
       "Index(['age', 'sex', 'bmi', 'children', 'smoker', 'region', 'charges'], dtype='object')"
      ]
     },
     "execution_count": 221,
     "metadata": {},
     "output_type": "execute_result"
    }
   ],
   "source": [
    "insurance.columns"
   ]
  },
  {
   "cell_type": "code",
   "execution_count": 19,
   "id": "a5511652-689d-40b6-966c-7750aa283081",
   "metadata": {},
   "outputs": [
    {
     "name": "stdout",
     "output_type": "stream",
     "text": [
      "la media per il northeast è di: 13406.38\n",
      "la media per il northwest è di: 12417.58\n",
      "la media per il southeast è di: 14735.41\n",
      "la media per il southwest è di: 12346.94\n",
      "non ci sono differenze significative\n"
     ]
    }
   ],
   "source": [
    "#Quali sono le medie di charges rispetto a region? Ci sono differenze significative?\n",
    "media_per_northeast = round(insurance[insurance['region'] == 'northeast']['charges'].mean(),2)\n",
    "media_per_northwest = round(insurance[insurance['region'] == 'northwest']['charges'].mean(),2)\n",
    "media_per_southeast = round(insurance[insurance['region'] == 'southeast']['charges'].mean(),2)\n",
    "media_per_southwest = round(insurance[insurance['region'] == 'southwest']['charges'].mean(),2)\n",
    "print (\"la media per il northeast è di:\", media_per_northeast)\n",
    "print (\"la media per il northwest è di:\",media_per_northwest)\n",
    "print (\"la media per il southeast è di:\",media_per_southeast)\n",
    "print (\"la media per il southwest è di:\",media_per_southwest)\n",
    "print (\"non ci sono differenze significative\")"
   ]
  },
  {
   "cell_type": "code",
   "execution_count": 21,
   "id": "61e3ab85-f857-48ee-9d37-3f704691d0cf",
   "metadata": {},
   "outputs": [
    {
     "name": "stdout",
     "output_type": "stream",
     "text": [
      "la media per i fumatori è di: 32050.23\n",
      "la media per i non fumatori è di: 8434.27\n",
      "la media per le femmine è di: 12569.58\n",
      "la media per i maschi è di: 13956.75\n"
     ]
    }
   ],
   "source": [
    "#E rispetto a smoker? E a sex?\n",
    "media_per_smoker = round(insurance[insurance['smoker'] == 'yes']['charges'].mean(),2)\n",
    "media_per_non_smoker = round(insurance[insurance['smoker'] == 'no']['charges'].mean(),2)\n",
    "media_per_female = round(insurance[insurance['sex'] == 'female']['charges'].mean(),2)\n",
    "media_per_male = round(insurance[insurance['sex'] == 'male']['charges'].mean(),2)\n",
    "print (\"la media per i fumatori è di:\", media_per_smoker)\n",
    "print (\"la media per i non fumatori è di:\", media_per_non_smoker)\n",
    "print (\"la media per le femmine è di:\", media_per_female)\n",
    "print (\"la media per i maschi è di:\", media_per_male)"
   ]
  },
  {
   "cell_type": "code",
   "execution_count": 29,
   "id": "08a910f9-98ce-4960-9919-4913a138d1e3",
   "metadata": {},
   "outputs": [
    {
     "data": {
      "text/plain": [
       "count    1338.000000\n",
       "mean       30.663397\n",
       "std         6.098187\n",
       "min        15.960000\n",
       "25%        26.296250\n",
       "50%        30.400000\n",
       "75%        34.693750\n",
       "max        53.130000\n",
       "Name: bmi, dtype: float64"
      ]
     },
     "execution_count": 29,
     "metadata": {},
     "output_type": "execute_result"
    }
   ],
   "source": [
    "#Quali sono i descrittori statistici di bmi?\n",
    "insurance['bmi'].describe()"
   ]
  },
  {
   "cell_type": "code",
   "execution_count": 35,
   "id": "989a12cc-3a77-4ee8-a8e9-c30dcbf012c7",
   "metadata": {},
   "outputs": [
    {
     "name": "stdout",
     "output_type": "stream",
     "text": [
      "Quartili di bmi:\n",
      "count    1338.000000\n",
      "mean       30.663397\n",
      "std         6.098187\n",
      "min        15.960000\n",
      "25%        26.296250\n",
      "50%        30.400000\n",
      "75%        34.693750\n",
      "max        53.130000\n",
      "Name: bmi, dtype: float64\n"
     ]
    }
   ],
   "source": [
    "#Quali sono minimo, media e massimo di charges rispetto ai diversi quartili dei valori di bmi?\n",
    "bmi_quartiles = insurance['bmi'].describe(percentiles=[0.25, 0.5, 0.75])\n",
    "print(\"Quartili di bmi:\")\n",
    "print(bmi_quartiles)"
   ]
  },
  {
   "cell_type": "code",
   "execution_count": null,
   "id": "3638469e-e208-4479-8df7-4645cfcf9812",
   "metadata": {},
   "outputs": [],
   "source": [
    "#Il dataset pokemon.csv contiene un database di Pokémon, con dati quali nome, tipi di attacco, valori di attacco/difesa/eccetera, e se sono o meno leggendari.\n",
    "#Verifichiamo la dimensione, un'anteprima e osserviamo i nomi di colonna;\n",
    "#È verosimile che la prima colonna dovrebbe essere un indice?\n",
    "#Confrontiamolo con l'indice messo automaticamente da Pandas: combaciano?\n",
    "#Se no, settare la prima colonna come indice.\n",
    "#Quali sono i Pokémon leggendari?\n",
    "#E quali sono i leggendari di tipo 1 Grass?\n",
    "#E leggendari di tipo 1 Ice o Fire?\n",
    "#Ordiniamo il dataset per la colonna Name;\n",
    "#Trasformiamo Name nell'indice;\n",
    "# Quali sono i Pokémon della prima generazione con attacco > 50 e HP < 60?"
   ]
  },
  {
   "cell_type": "code",
   "execution_count": 2,
   "id": "4b9d6631-5565-48cb-b928-f0cc69d5cdd5",
   "metadata": {},
   "outputs": [],
   "source": [
    "import pandas as pd\n",
    "percorso_file = \"/Users/matte/Desktop/Data analyst corso/PYTHON/beginner_datasets/pokemon.csv\"\n",
    "pokemon = pd.read_csv(percorso_file)"
   ]
  },
  {
   "cell_type": "code",
   "execution_count": 113,
   "id": "bc290ebe-7693-435a-92f4-f3a46a9f0b79",
   "metadata": {},
   "outputs": [
    {
     "data": {
      "text/plain": [
       "(800, 13)"
      ]
     },
     "execution_count": 113,
     "metadata": {},
     "output_type": "execute_result"
    }
   ],
   "source": [
    "pokemon.shape"
   ]
  },
  {
   "cell_type": "code",
   "execution_count": 10,
   "id": "13902714-38b7-4528-a144-46823b00fdb0",
   "metadata": {},
   "outputs": [
    {
     "data": {
      "text/html": [
       "<div>\n",
       "<style scoped>\n",
       "    .dataframe tbody tr th:only-of-type {\n",
       "        vertical-align: middle;\n",
       "    }\n",
       "\n",
       "    .dataframe tbody tr th {\n",
       "        vertical-align: top;\n",
       "    }\n",
       "\n",
       "    .dataframe thead th {\n",
       "        text-align: right;\n",
       "    }\n",
       "</style>\n",
       "<table border=\"1\" class=\"dataframe\">\n",
       "  <thead>\n",
       "    <tr style=\"text-align: right;\">\n",
       "      <th></th>\n",
       "      <th>#</th>\n",
       "      <th>Total</th>\n",
       "      <th>HP</th>\n",
       "      <th>Attack</th>\n",
       "      <th>Defense</th>\n",
       "      <th>Sp. Atk</th>\n",
       "      <th>Sp. Def</th>\n",
       "      <th>Speed</th>\n",
       "      <th>Generation</th>\n",
       "    </tr>\n",
       "  </thead>\n",
       "  <tbody>\n",
       "    <tr>\n",
       "      <th>count</th>\n",
       "      <td>800.000000</td>\n",
       "      <td>800.00000</td>\n",
       "      <td>800.000000</td>\n",
       "      <td>800.000000</td>\n",
       "      <td>800.000000</td>\n",
       "      <td>800.000000</td>\n",
       "      <td>800.000000</td>\n",
       "      <td>800.000000</td>\n",
       "      <td>800.00000</td>\n",
       "    </tr>\n",
       "    <tr>\n",
       "      <th>mean</th>\n",
       "      <td>362.813750</td>\n",
       "      <td>435.10250</td>\n",
       "      <td>69.258750</td>\n",
       "      <td>79.001250</td>\n",
       "      <td>73.842500</td>\n",
       "      <td>72.820000</td>\n",
       "      <td>71.902500</td>\n",
       "      <td>68.277500</td>\n",
       "      <td>3.32375</td>\n",
       "    </tr>\n",
       "    <tr>\n",
       "      <th>std</th>\n",
       "      <td>208.343798</td>\n",
       "      <td>119.96304</td>\n",
       "      <td>25.534669</td>\n",
       "      <td>32.457366</td>\n",
       "      <td>31.183501</td>\n",
       "      <td>32.722294</td>\n",
       "      <td>27.828916</td>\n",
       "      <td>29.060474</td>\n",
       "      <td>1.66129</td>\n",
       "    </tr>\n",
       "    <tr>\n",
       "      <th>min</th>\n",
       "      <td>1.000000</td>\n",
       "      <td>180.00000</td>\n",
       "      <td>1.000000</td>\n",
       "      <td>5.000000</td>\n",
       "      <td>5.000000</td>\n",
       "      <td>10.000000</td>\n",
       "      <td>20.000000</td>\n",
       "      <td>5.000000</td>\n",
       "      <td>1.00000</td>\n",
       "    </tr>\n",
       "    <tr>\n",
       "      <th>25%</th>\n",
       "      <td>184.750000</td>\n",
       "      <td>330.00000</td>\n",
       "      <td>50.000000</td>\n",
       "      <td>55.000000</td>\n",
       "      <td>50.000000</td>\n",
       "      <td>49.750000</td>\n",
       "      <td>50.000000</td>\n",
       "      <td>45.000000</td>\n",
       "      <td>2.00000</td>\n",
       "    </tr>\n",
       "    <tr>\n",
       "      <th>50%</th>\n",
       "      <td>364.500000</td>\n",
       "      <td>450.00000</td>\n",
       "      <td>65.000000</td>\n",
       "      <td>75.000000</td>\n",
       "      <td>70.000000</td>\n",
       "      <td>65.000000</td>\n",
       "      <td>70.000000</td>\n",
       "      <td>65.000000</td>\n",
       "      <td>3.00000</td>\n",
       "    </tr>\n",
       "    <tr>\n",
       "      <th>75%</th>\n",
       "      <td>539.250000</td>\n",
       "      <td>515.00000</td>\n",
       "      <td>80.000000</td>\n",
       "      <td>100.000000</td>\n",
       "      <td>90.000000</td>\n",
       "      <td>95.000000</td>\n",
       "      <td>90.000000</td>\n",
       "      <td>90.000000</td>\n",
       "      <td>5.00000</td>\n",
       "    </tr>\n",
       "    <tr>\n",
       "      <th>max</th>\n",
       "      <td>721.000000</td>\n",
       "      <td>780.00000</td>\n",
       "      <td>255.000000</td>\n",
       "      <td>190.000000</td>\n",
       "      <td>230.000000</td>\n",
       "      <td>194.000000</td>\n",
       "      <td>230.000000</td>\n",
       "      <td>180.000000</td>\n",
       "      <td>6.00000</td>\n",
       "    </tr>\n",
       "  </tbody>\n",
       "</table>\n",
       "</div>"
      ],
      "text/plain": [
       "                #      Total          HP      Attack     Defense     Sp. Atk  \\\n",
       "count  800.000000  800.00000  800.000000  800.000000  800.000000  800.000000   \n",
       "mean   362.813750  435.10250   69.258750   79.001250   73.842500   72.820000   \n",
       "std    208.343798  119.96304   25.534669   32.457366   31.183501   32.722294   \n",
       "min      1.000000  180.00000    1.000000    5.000000    5.000000   10.000000   \n",
       "25%    184.750000  330.00000   50.000000   55.000000   50.000000   49.750000   \n",
       "50%    364.500000  450.00000   65.000000   75.000000   70.000000   65.000000   \n",
       "75%    539.250000  515.00000   80.000000  100.000000   90.000000   95.000000   \n",
       "max    721.000000  780.00000  255.000000  190.000000  230.000000  194.000000   \n",
       "\n",
       "          Sp. Def       Speed  Generation  \n",
       "count  800.000000  800.000000   800.00000  \n",
       "mean    71.902500   68.277500     3.32375  \n",
       "std     27.828916   29.060474     1.66129  \n",
       "min     20.000000    5.000000     1.00000  \n",
       "25%     50.000000   45.000000     2.00000  \n",
       "50%     70.000000   65.000000     3.00000  \n",
       "75%     90.000000   90.000000     5.00000  \n",
       "max    230.000000  180.000000     6.00000  "
      ]
     },
     "execution_count": 10,
     "metadata": {},
     "output_type": "execute_result"
    }
   ],
   "source": [
    "pokemon.describe()"
   ]
  },
  {
   "cell_type": "code",
   "execution_count": 12,
   "id": "5f10d169-25ac-41ac-9afd-65fa27c5f3c3",
   "metadata": {},
   "outputs": [
    {
     "data": {
      "text/html": [
       "<div>\n",
       "<style scoped>\n",
       "    .dataframe tbody tr th:only-of-type {\n",
       "        vertical-align: middle;\n",
       "    }\n",
       "\n",
       "    .dataframe tbody tr th {\n",
       "        vertical-align: top;\n",
       "    }\n",
       "\n",
       "    .dataframe thead th {\n",
       "        text-align: right;\n",
       "    }\n",
       "</style>\n",
       "<table border=\"1\" class=\"dataframe\">\n",
       "  <thead>\n",
       "    <tr style=\"text-align: right;\">\n",
       "      <th></th>\n",
       "      <th>#</th>\n",
       "      <th>Name</th>\n",
       "      <th>Type 1</th>\n",
       "      <th>Type 2</th>\n",
       "      <th>Total</th>\n",
       "      <th>HP</th>\n",
       "      <th>Attack</th>\n",
       "      <th>Defense</th>\n",
       "      <th>Sp. Atk</th>\n",
       "      <th>Sp. Def</th>\n",
       "      <th>Speed</th>\n",
       "      <th>Generation</th>\n",
       "      <th>Legendary</th>\n",
       "    </tr>\n",
       "  </thead>\n",
       "  <tbody>\n",
       "    <tr>\n",
       "      <th>470</th>\n",
       "      <td>423</td>\n",
       "      <td>Gastrodon</td>\n",
       "      <td>Water</td>\n",
       "      <td>Ground</td>\n",
       "      <td>475</td>\n",
       "      <td>111</td>\n",
       "      <td>83</td>\n",
       "      <td>68</td>\n",
       "      <td>92</td>\n",
       "      <td>82</td>\n",
       "      <td>39</td>\n",
       "      <td>4</td>\n",
       "      <td>False</td>\n",
       "    </tr>\n",
       "    <tr>\n",
       "      <th>303</th>\n",
       "      <td>280</td>\n",
       "      <td>Ralts</td>\n",
       "      <td>Psychic</td>\n",
       "      <td>Fairy</td>\n",
       "      <td>198</td>\n",
       "      <td>28</td>\n",
       "      <td>25</td>\n",
       "      <td>25</td>\n",
       "      <td>45</td>\n",
       "      <td>35</td>\n",
       "      <td>40</td>\n",
       "      <td>3</td>\n",
       "      <td>False</td>\n",
       "    </tr>\n",
       "    <tr>\n",
       "      <th>267</th>\n",
       "      <td>248</td>\n",
       "      <td>Tyranitar</td>\n",
       "      <td>Rock</td>\n",
       "      <td>Dark</td>\n",
       "      <td>600</td>\n",
       "      <td>100</td>\n",
       "      <td>134</td>\n",
       "      <td>110</td>\n",
       "      <td>95</td>\n",
       "      <td>100</td>\n",
       "      <td>61</td>\n",
       "      <td>2</td>\n",
       "      <td>False</td>\n",
       "    </tr>\n",
       "    <tr>\n",
       "      <th>420</th>\n",
       "      <td>381</td>\n",
       "      <td>LatiosMega Latios</td>\n",
       "      <td>Dragon</td>\n",
       "      <td>Psychic</td>\n",
       "      <td>700</td>\n",
       "      <td>80</td>\n",
       "      <td>130</td>\n",
       "      <td>100</td>\n",
       "      <td>160</td>\n",
       "      <td>120</td>\n",
       "      <td>110</td>\n",
       "      <td>3</td>\n",
       "      <td>True</td>\n",
       "    </tr>\n",
       "    <tr>\n",
       "      <th>340</th>\n",
       "      <td>311</td>\n",
       "      <td>Plusle</td>\n",
       "      <td>Electric</td>\n",
       "      <td>NaN</td>\n",
       "      <td>405</td>\n",
       "      <td>60</td>\n",
       "      <td>50</td>\n",
       "      <td>40</td>\n",
       "      <td>85</td>\n",
       "      <td>75</td>\n",
       "      <td>95</td>\n",
       "      <td>3</td>\n",
       "      <td>False</td>\n",
       "    </tr>\n",
       "  </tbody>\n",
       "</table>\n",
       "</div>"
      ],
      "text/plain": [
       "       #               Name    Type 1   Type 2  Total   HP  Attack  Defense  \\\n",
       "470  423          Gastrodon     Water   Ground    475  111      83       68   \n",
       "303  280              Ralts   Psychic    Fairy    198   28      25       25   \n",
       "267  248          Tyranitar      Rock     Dark    600  100     134      110   \n",
       "420  381  LatiosMega Latios    Dragon  Psychic    700   80     130      100   \n",
       "340  311             Plusle  Electric      NaN    405   60      50       40   \n",
       "\n",
       "     Sp. Atk  Sp. Def  Speed  Generation  Legendary  \n",
       "470       92       82     39           4      False  \n",
       "303       45       35     40           3      False  \n",
       "267       95      100     61           2      False  \n",
       "420      160      120    110           3       True  \n",
       "340       85       75     95           3      False  "
      ]
     },
     "execution_count": 12,
     "metadata": {},
     "output_type": "execute_result"
    }
   ],
   "source": [
    "pokemon.sample(5)"
   ]
  },
  {
   "cell_type": "code",
   "execution_count": 109,
   "id": "646f6884-e29c-4281-a235-b8cf39117cea",
   "metadata": {},
   "outputs": [
    {
     "data": {
      "text/plain": [
       "Index(['#', 'Name', 'Type 1', 'Type 2', 'Total', 'HP', 'Attack', 'Defense',\n",
       "       'Sp. Atk', 'Sp. Def', 'Speed', 'Generation', 'Legendary'],\n",
       "      dtype='object')"
      ]
     },
     "execution_count": 109,
     "metadata": {},
     "output_type": "execute_result"
    }
   ],
   "source": [
    "pokemon.columns"
   ]
  },
  {
   "cell_type": "code",
   "execution_count": 38,
   "id": "79981dbf-5ffa-4c68-b5ac-e896ca0a3fcd",
   "metadata": {},
   "outputs": [
    {
     "name": "stdout",
     "output_type": "stream",
     "text": [
      "0        1\n",
      "1        2\n",
      "2        3\n",
      "3        3\n",
      "4        4\n",
      "      ... \n",
      "795    719\n",
      "796    719\n",
      "797    720\n",
      "798    720\n",
      "799    721\n",
      "Name: #, Length: 800, dtype: int64\n",
      "le colonne non coincidono\n"
     ]
    }
   ],
   "source": [
    "#È verosimile che la prima colonna dovrebbe essere un indice?\n",
    "#Confrontiamolo con l'indice messo automaticamente da Pandas: combaciano?\n",
    "#Se no, settare la prima colonna come indice.\n",
    "print (pokemon['#'])\n",
    "print (\"le colonne non coincidono\")"
   ]
  },
  {
   "cell_type": "code",
   "execution_count": 57,
   "id": "5911c36a-7b61-4ce2-af5e-982dd7fd65c9",
   "metadata": {},
   "outputs": [
    {
     "name": "stdout",
     "output_type": "stream",
     "text": [
      "Colonne del DataFrame:\n",
      " Index(['ID', '#', 'Name', 'Type 1', 'Type 2', 'Total', 'HP', 'Attack',\n",
      "       'Defense', 'Sp. Atk', 'Sp. Def', 'Speed', 'Generation', 'Legendary'],\n",
      "      dtype='object')\n"
     ]
    }
   ],
   "source": [
    "#Se no, settare la prima colonna come indice.\n",
    "pokemon_reset = pokemon.reset_index()\n",
    "\n",
    "# Rinominare la colonna dell'indice se necessario\n",
    "pokemon_reset.rename(columns={'index': 'ID'}, inplace=True)\n",
    "\n",
    "# Stampa delle colonne del DataFrame\n",
    "print(\"Colonne del DataFrame:\\n\", pokemon_reset.columns)"
   ]
  },
  {
   "cell_type": "code",
   "execution_count": 91,
   "id": "054ad16f-258a-4f9c-b9ff-e1e6486bf6a8",
   "metadata": {},
   "outputs": [
    {
     "name": "stdout",
     "output_type": "stream",
     "text": [
      "156               Articuno\n",
      "157                 Zapdos\n",
      "158                Moltres\n",
      "162                 Mewtwo\n",
      "163    MewtwoMega Mewtwo X\n",
      "              ...         \n",
      "795                Diancie\n",
      "796    DiancieMega Diancie\n",
      "797    HoopaHoopa Confined\n",
      "798     HoopaHoopa Unbound\n",
      "799              Volcanion\n",
      "Name: Name, Length: 65, dtype: object\n"
     ]
    }
   ],
   "source": [
    "#Quali sono i Pokémon leggendari?\n",
    "leggendari = pokemon[pokemon['Legendary'] == True]['Name']\n",
    "print (leggendari)"
   ]
  },
  {
   "cell_type": "code",
   "execution_count": 69,
   "id": "6a19597d-555e-4727-ba7c-52543e306302",
   "metadata": {},
   "outputs": [
    {
     "data": {
      "text/plain": [
       "ID            70\n",
       "#             70\n",
       "Name          70\n",
       "Type 1        70\n",
       "Type 2        37\n",
       "Total         70\n",
       "HP            70\n",
       "Attack        70\n",
       "Defense       70\n",
       "Sp. Atk       70\n",
       "Sp. Def       70\n",
       "Speed         70\n",
       "Generation    70\n",
       "Legendary     70\n",
       "dtype: int64"
      ]
     },
     "execution_count": 69,
     "metadata": {},
     "output_type": "execute_result"
    }
   ],
   "source": [
    "pokemon_reset[pokemon_reset['Type 1'] == 'Grass'].count ()"
   ]
  },
  {
   "cell_type": "code",
   "execution_count": 77,
   "id": "0d9ee16c-2719-4d69-aa80-4f7ccde51932",
   "metadata": {},
   "outputs": [
    {
     "name": "stdout",
     "output_type": "stream",
     "text": [
      "['Bulbasaur' 'Ivysaur' 'Venusaur' 'VenusaurMega Venusaur' 'Oddish' 'Gloom'\n",
      " 'Vileplume' 'Bellsprout' 'Weepinbell' 'Victreebel' 'Exeggcute'\n",
      " 'Exeggutor' 'Tangela' 'Chikorita' 'Bayleef' 'Meganium' 'Bellossom'\n",
      " 'Hoppip' 'Skiploom' 'Jumpluff' 'Sunkern' 'Sunflora' 'Treecko' 'Grovyle'\n",
      " 'Sceptile' 'SceptileMega Sceptile' 'Seedot' 'Nuzleaf' 'Shiftry'\n",
      " 'Shroomish' 'Breloom' 'Roselia' 'Cacnea' 'Cacturne' 'Tropius' 'Turtwig'\n",
      " 'Grotle' 'Torterra' 'Budew' 'Roserade' 'Cherubi' 'Cherrim' 'Carnivine'\n",
      " 'Snover' 'Abomasnow' 'AbomasnowMega Abomasnow' 'Tangrowth' 'Leafeon'\n",
      " 'ShayminLand Forme' 'ShayminSky Forme' 'Snivy' 'Servine' 'Serperior'\n",
      " 'Pansage' 'Simisage' 'Cottonee' 'Whimsicott' 'Petilil' 'Lilligant'\n",
      " 'Maractus' 'Foongus' 'Amoonguss' 'Ferroseed' 'Ferrothorn' 'Virizion'\n",
      " 'Chespin' 'Quilladin' 'Chesnaught' 'Skiddo' 'Gogoat']\n"
     ]
    }
   ],
   "source": [
    "#E quali sono i leggendari di tipo 1 Grass?\n",
    "leggendari_grass = pokemon_reset[(pokemon_reset['Type 1'] == 'Grass') & (pokemon_reset['Legendary'] == True)]['Name']\n",
    "print (nome_grass)"
   ]
  },
  {
   "cell_type": "code",
   "execution_count": 83,
   "id": "3d1e0caa-1270-457b-89ed-646e7e1454c4",
   "metadata": {},
   "outputs": [
    {
     "name": "stdout",
     "output_type": "stream",
     "text": [
      "156             Articuno\n",
      "415               Regice\n",
      "550    ShayminLand Forme\n",
      "551     ShayminSky Forme\n",
      "701             Virizion\n",
      "Name: Name, dtype: object\n"
     ]
    }
   ],
   "source": [
    "#E leggendari di tipo 1 Ice o Fire?\n",
    "leggendari_o = pokemon_reset[(pokemon_reset['Type 1'] == 'Ice') & (pokemon_reset['Legendary'] == True) |\n",
    "                             (pokemon_reset['Type 1'] == 'Grass') & (pokemon_reset['Legendary'] == True)]['Name']\n",
    "print (leggendari_o)"
   ]
  },
  {
   "cell_type": "code",
   "execution_count": 93,
   "id": "d6b4c6e9-4e0f-4532-ae12-84bb9d27c45a",
   "metadata": {},
   "outputs": [],
   "source": [
    "#Ordiniamo il dataset per la colonna Name;\n",
    "pokemon_ordinato = pokemon.sort_values(by = 'Name')"
   ]
  },
  {
   "cell_type": "code",
   "execution_count": null,
   "id": "5fc4eee6-662d-423f-a8b1-8a6012656a60",
   "metadata": {},
   "outputs": [],
   "source": [
    "#Trasformiamo Name nell'indice;\n",
    "pokemon_Name = pokemon.set_index('Name')"
   ]
  },
  {
   "cell_type": "code",
   "execution_count": 103,
   "id": "272a6b22-d609-4dce-8a54-b9a4c6076d99",
   "metadata": {},
   "outputs": [
    {
     "name": "stdout",
     "output_type": "stream",
     "text": [
      "Empty DataFrame\n",
      "Columns: [#, Name, Type 1, Type 2, Total, HP, Attack, Defense, Sp. Atk, Sp. Def, Speed, Generation, Legendary]\n",
      "Index: []\n"
     ]
    }
   ],
   "source": [
    "# Quali sono i Pokémon della prima generazione con attacco > 50 e HP < 60?\n",
    "pokemon_speciali = (pokemon['Generation'] == '1') & (pokemon['Attack'] > 50) & (pokemon['Attack']< 60)\n",
    "pokemon_true = pokemon[pokemon_speciali]\n",
    "print (pokemon_true)"
   ]
  }
 ],
 "metadata": {
  "kernelspec": {
   "display_name": "Python 3 (ipykernel)",
   "language": "python",
   "name": "python3"
  },
  "language_info": {
   "codemirror_mode": {
    "name": "ipython",
    "version": 3
   },
   "file_extension": ".py",
   "mimetype": "text/x-python",
   "name": "python",
   "nbconvert_exporter": "python",
   "pygments_lexer": "ipython3",
   "version": "3.11.7"
  }
 },
 "nbformat": 4,
 "nbformat_minor": 5
}
