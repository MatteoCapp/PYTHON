{
 "cells": [
  {
   "cell_type": "code",
   "execution_count": 6,
   "id": "83d49931-cbd9-422a-b360-6a1874836247",
   "metadata": {},
   "outputs": [
    {
     "name": "stdout",
     "output_type": "stream",
     "text": [
      "Requirement already satisfied: PyMySQL in c:\\users\\matte\\anaconda3\\lib\\site-packages (1.1.1)\n",
      "Note: you may need to restart the kernel to use updated packages.\n"
     ]
    }
   ],
   "source": [
    "pip install PyMySQL"
   ]
  },
  {
   "cell_type": "code",
   "execution_count": 7,
   "id": "5fb0a25c-4aa8-47c8-908e-89baf1306bf7",
   "metadata": {},
   "outputs": [
    {
     "name": "stdout",
     "output_type": "stream",
     "text": [
      "Requirement already satisfied: SQLAlchemy in c:\\users\\matte\\anaconda3\\lib\\site-packages (2.0.25)\n",
      "Requirement already satisfied: typing-extensions>=4.6.0 in c:\\users\\matte\\anaconda3\\lib\\site-packages (from SQLAlchemy) (4.9.0)\n",
      "Requirement already satisfied: greenlet!=0.4.17 in c:\\users\\matte\\anaconda3\\lib\\site-packages (from SQLAlchemy) (3.0.1)\n",
      "Note: you may need to restart the kernel to use updated packages.\n"
     ]
    }
   ],
   "source": [
    "pip install SQLAlchemy"
   ]
  },
  {
   "cell_type": "code",
   "execution_count": 9,
   "id": "435817bc-dc4f-439d-bf82-6343b80fe1e7",
   "metadata": {},
   "outputs": [
    {
     "name": "stdout",
     "output_type": "stream",
     "text": [
      "Requirement already satisfied: python_dotenv in c:\\users\\matte\\anaconda3\\lib\\site-packages (0.21.0)\n",
      "Note: you may need to restart the kernel to use updated packages.\n"
     ]
    }
   ],
   "source": [
    "pip install python_dotenv"
   ]
  },
  {
   "cell_type": "code",
   "execution_count": null,
   "id": "77a0fe1c-6b27-41c5-8a30-402ffc95ae4d",
   "metadata": {},
   "outputs": [],
   "source": [
    "#Estraiamo la tabella dimproduct dal database AdventureWorks, e valutiamo quanto segue:\n",
    "#Quanti dati ci sono in totale?\n",
    "#Quali sono i metadati?\n",
    "#Stampiamo il primo elemento\n",
    "#Stampiamo l'ultimo elemento\n",
    "#Riusciamo a stampare cinque elementi a caso?\n",
    "#Quali sono i colori disponibili?\n",
    "#In media quanto pesano i prodotti?\n",
    "#Quanto pesa il più leggero?\n",
    "#Quanto pesa il più pesante?\n",
    "#Quanti prodotti pesano più di 100 Kg?\n",
    "#Quanto costano in media i prodotti (colonna DealerPrice)?\n",
    "#Se prendiamo un quarto di tutti i prodotti, in modo che siano i più costosi, quale sarà il loro range di prezzo?\n",
    "#Qual è il prezzo medio per i prodotti di colore blu?\n",
    "#Qual è il prezzo medio per i prodotti di colore rosso o nero?\n",
    "#Qual è il prezzo massimo per i prodotti di taglia 42 e peso oltre i 10 Kg?\n",
    "#Qual è il nome inglese e il costo di produzione (StandardCost) di tutti i prodotti di taglia 42, peso oltre i 10 Kg e colore argento?\n",
    "#Esaminiamo la differenza tra lo StandardCost e il DealerPrice degli ultimi 20 elementi del dataset: c'è un pattern? C'è qualche elemento che non lo segue?"
   ]
  },
  {
   "cell_type": "code",
   "execution_count": 8,
   "id": "f9d1e99c-70a8-4328-bb72-b67875081a34",
   "metadata": {},
   "outputs": [],
   "source": [
    "import dotenv\n",
    "import os\n",
    "from sqlalchemy import create_engine\n",
    "import pandas as pd\n",
    "\n",
    "username = str(os.getenv(\"username\"))\n",
    "password = str(os.getenv(\"password\"))\n",
    "host = str(os.getenv(\"host\"))\n",
    "dbname = str(os.getenv(\"dbname\"))\n",
    "\n",
    "dotenv.load_dotenv(override=True)\n",
    "conn_string = \"mysql+pymysql://\" + username + \":\" + password + \"@\" + host + \"/\" + dbname\n",
    "db_engine = create_engine(conn_string)\n",
    "\n",
    "query = \"SELECT * FROM dimproduct\"\n",
    "df = pd.read_sql(sql=query, con=db_engine)"
   ]
  },
  {
   "cell_type": "code",
   "execution_count": 14,
   "id": "aa17dd78-9c21-400c-92f0-04ad8b6da1b6",
   "metadata": {},
   "outputs": [
    {
     "name": "stdout",
     "output_type": "stream",
     "text": [
      "il dataframe è grande:\n",
      " (606, 36)\n",
      "le colonne si chiamano\n",
      ": Index(['ProductKey', 'ProductAlternateKey', 'ProductSubcategoryKey',\n",
      "       'WeightUnitMeasureCode', 'SizeUnitMeasureCode', 'EnglishProductName',\n",
      "       'SpanishProductName', 'FrenchProductName', 'StandardCost',\n",
      "       'FinishedGoodsFlag', 'Color', 'SafetyStockLevel', 'ReorderPoint',\n",
      "       'ListPrice', 'Size', 'SizeRange', 'Weight', 'DaysToManufacture',\n",
      "       'ProductLine', 'DealerPrice', 'Class', 'Style', 'ModelName',\n",
      "       'LargePhoto', 'EnglishDescription', 'FrenchDescription',\n",
      "       'ChineseDescription', 'ArabicDescription', 'HebrewDescription',\n",
      "       'ThaiDescription', 'GermanDescription', 'JapaneseDescription',\n",
      "       'TurkishDescription', 'StartDate', 'EndDate', 'Status'],\n",
      "      dtype='object')\n",
      "le prime righe sono:\n",
      "    ProductKey ProductAlternateKey  ProductSubcategoryKey  \\\n",
      "0           1             AR-5381                    NaN   \n",
      "1           2             BA-8327                    NaN   \n",
      "2           3             BE-2349                    NaN   \n",
      "3           4             BE-2908                    NaN   \n",
      "4           5             BL-2036                    NaN   \n",
      "\n",
      "  WeightUnitMeasureCode SizeUnitMeasureCode     EnglishProductName  \\\n",
      "0                  None                None        Adjustable Race   \n",
      "1                  None                None           Bearing Ball   \n",
      "2                  None                None        BB Ball Bearing   \n",
      "3                  None                None  Headset Ball Bearings   \n",
      "4                  None                None                  Blade   \n",
      "\n",
      "  SpanishProductName FrenchProductName  StandardCost  FinishedGoodsFlag  ...  \\\n",
      "0                                                NaN                  0  ...   \n",
      "1                                                NaN                  0  ...   \n",
      "2                                                NaN                  0  ...   \n",
      "3                                                NaN                  0  ...   \n",
      "4                                                NaN                  0  ...   \n",
      "\n",
      "  ChineseDescription  ArabicDescription  HebrewDescription  ThaiDescription  \\\n",
      "0               None               None               None             None   \n",
      "1               None               None               None             None   \n",
      "2               None               None               None             None   \n",
      "3               None               None               None             None   \n",
      "4               None               None               None             None   \n",
      "\n",
      "  GermanDescription JapaneseDescription  TurkishDescription  StartDate  \\\n",
      "0              None                None                None 2003-07-01   \n",
      "1              None                None                None 2003-07-01   \n",
      "2              None                None                None 2003-07-01   \n",
      "3              None                None                None 2003-07-01   \n",
      "4              None                None                None 2003-07-01   \n",
      "\n",
      "  EndDate   Status  \n",
      "0     NaT  Current  \n",
      "1     NaT  Current  \n",
      "2     NaT  Current  \n",
      "3     NaT  Current  \n",
      "4     NaT  Current  \n",
      "\n",
      "[5 rows x 36 columns]\n"
     ]
    }
   ],
   "source": [
    "print(\"il dataframe è grande:\\n\", df.shape)\n",
    "print(\"le colonne si chiamano\\n:\", df.columns)\n",
    "print(\"le prime righe sono:\\n\", df.head())"
   ]
  },
  {
   "cell_type": "code",
   "execution_count": 90,
   "id": "c851a769-0e2b-48d9-ac51-b867316eaaaf",
   "metadata": {},
   "outputs": [
    {
     "name": "stdout",
     "output_type": "stream",
     "text": [
      "i colori sono: ['NA' 'Black' 'Silver' 'Red' 'White' 'Blue' 'Multi' 'Yellow' 'Grey'\n",
      " 'Silver/Black']\n"
     ]
    }
   ],
   "source": [
    "print(\"i colori sono:\", df[\"Color\"].unique())"
   ]
  },
  {
   "cell_type": "code",
   "execution_count": 109,
   "id": "d519c51c-378d-41de-8fe6-fc30535f2a87",
   "metadata": {},
   "outputs": [
    {
     "name": "stdout",
     "output_type": "stream",
     "text": [
      "il peso medio è di 56.1932269503546\n"
     ]
    }
   ],
   "source": [
    "peso = df['Weight']\n",
    "peso_medio = peso.mean()\n",
    "print(\"il peso medio è di\", peso_medio)"
   ]
  },
  {
   "cell_type": "code",
   "execution_count": 125,
   "id": "d17ec2c9-afb2-4fc6-9057-c4f355670537",
   "metadata": {},
   "outputs": [
    {
     "name": "stdout",
     "output_type": "stream",
     "text": [
      "2.12\n",
      "1050.0\n",
      "28\n"
     ]
    }
   ],
   "source": [
    "#Quanto pesa il più leggero?\n",
    "#Quanto pesa il più pesante?\n",
    "#Quanti prodotti pesano più di 100 Kg?\n",
    "peso = df['Weight']\n",
    "min = peso.min ()\n",
    "max = peso.max()\n",
    "prodotti_pesanti = peso [peso>100].count()\n",
    "print (min)\n",
    "print (max)\n",
    "print (prodotti_pesanti)"
   ]
  },
  {
   "cell_type": "code",
   "execution_count": 11,
   "id": "1a860f8c-96d8-4f0f-99bd-95a4efa89f6b",
   "metadata": {},
   "outputs": [
    {
     "name": "stdout",
     "output_type": "stream",
     "text": [
      "il costo medio è di 448.6\n"
     ]
    }
   ],
   "source": [
    "#Quanto costano in media i prodotti (colonna DealerPrice)?\n",
    "costo = df['DealerPrice']\n",
    "costo_medio = round(costo.mean(),2)\n",
    "print(\"il costo medio è di\", costo_medio)"
   ]
  },
  {
   "cell_type": "code",
   "execution_count": 42,
   "id": "5a0137f4-dbe1-4819-896a-f5fdd4fda29b",
   "metadata": {},
   "outputs": [
    {
     "name": "stdout",
     "output_type": "stream",
     "text": [
      "516.06\n",
      "550.25\n",
      "2146.96\n"
     ]
    }
   ],
   "source": [
    "#Se prendiamo un quarto di tutti i prodotti, in modo che siano i più costosi, quale sarà il loro range di prezzo? BOH hahahahha\n",
    "#Qual è il prezzo medio per i prodotti di colore blu?\n",
    "#Qual è il prezzo medio per i prodotti di colore rosso o nero?\n",
    "#Qual è il prezzo massimo per i prodotti di taglia 42 e peso oltre i 10 Kg? ????\n",
    "blu = df[df['Color'] == 'Blue']\n",
    "rosso_nero = df[df['Color'].isin(['Red', 'Black'])]\n",
    "filtro_peso_taglia = (df['Size'] == 42) | (df['Weight'] > 10)\n",
    "prezzo_max_tg_peso = round(df[filtro_peso_taglia]['DealerPrice'].max(), 2)\n",
    "prezzo_medio_blu = round(blu ['DealerPrice'].mean(),2)\n",
    "prezzo_medio_rosso_nero = round(rosso_nero ['DealerPrice'].mean(),2)\n",
    "print (prezzo_medio_blu)\n",
    "print (prezzo_medio_rosso_nero)\n",
    "print (prezzo_max_tg_peso)"
   ]
  },
  {
   "cell_type": "code",
   "execution_count": 64,
   "id": "dfffdfe5-5e5a-41af-bec7-f5c07d4748ac",
   "metadata": {},
   "outputs": [
    {
     "name": "stdout",
     "output_type": "stream",
     "text": [
      "Empty DataFrame\n",
      "Columns: [EnglishProductName, StandardCost]\n",
      "Index: []\n"
     ]
    }
   ],
   "source": [
    "#Qual è il nome inglese e il costo di produzione (StandardCost) di tutti i prodotti di taglia 42, peso oltre i 10 Kg e colore argento?\n",
    "taglia = df['Size'] == 42\n",
    "peso = df['Weight'] > 10\n",
    "colore = df['Color'] == 'Silver'\n",
    "nome = taglia & peso & colore\n",
    "nome_inglese = df[nome][['EnglishProductName','StandardCost']]\n",
    "print (nome_inglese)"
   ]
  },
  {
   "cell_type": "code",
   "execution_count": null,
   "id": "65737482-8610-4c1a-98da-a98e76c62d57",
   "metadata": {},
   "outputs": [],
   "source": [
    "#Esaminiamo la differenza tra lo StandardCost e il DealerPrice degli ultimi 20 elementi del dataset: c'è un pattern? C'è qualche elemento che non lo segue?"
   ]
  },
  {
   "cell_type": "code",
   "execution_count": 78,
   "id": "2d14c07f-a407-4b39-809d-e39818045454",
   "metadata": {},
   "outputs": [],
   "source": [
    "import pandas as pd"
   ]
  },
  {
   "cell_type": "code",
   "execution_count": 28,
   "id": "9db2a3d7-cb7c-4b4d-8f04-425cd7d3ba9f",
   "metadata": {},
   "outputs": [],
   "source": [
    "#Tra i beginner datasets scaricabili all'indirizzo https://www.kaggle.com/datasets/ahmettezcantekin/beginner-datasets selezioniamo amazon.csv, \n",
    "#un dataset contenente una serie di recensioni su Amazon.\n",
    "#Valutiamo la dimensione del dataset\n",
    "#Visualizziamo dieci righe a caso;\n",
    "#Osserviamo quali sono i nomi di colonna;\n",
    "#Il dataset è bilanciato, ovvero, il numero di recensioni positive è uguale a quello delle negative, oppure no?"
   ]
  },
  {
   "cell_type": "code",
   "execution_count": 38,
   "id": "0c003af4-f72e-4f42-9646-ad1609c5463f",
   "metadata": {},
   "outputs": [],
   "source": [
    "file_path = \"/Users/matte/Desktop/Data analyst corso/PYTHON/beginner_datasets/amazon.csv\"\n",
    "amazon = pd.read_csv(file_path)"
   ]
  },
  {
   "cell_type": "code",
   "execution_count": 40,
   "id": "ea61dfc9-f7b9-458c-b270-dae8534f435f",
   "metadata": {},
   "outputs": [
    {
     "data": {
      "text/plain": [
       "(20000, 2)"
      ]
     },
     "execution_count": 40,
     "metadata": {},
     "output_type": "execute_result"
    }
   ],
   "source": [
    "amazon.shape"
   ]
  },
  {
   "cell_type": "code",
   "execution_count": 42,
   "id": "781354e7-c51f-48b2-96f7-456a02de7f7d",
   "metadata": {},
   "outputs": [
    {
     "data": {
      "text/html": [
       "<div>\n",
       "<style scoped>\n",
       "    .dataframe tbody tr th:only-of-type {\n",
       "        vertical-align: middle;\n",
       "    }\n",
       "\n",
       "    .dataframe tbody tr th {\n",
       "        vertical-align: top;\n",
       "    }\n",
       "\n",
       "    .dataframe thead th {\n",
       "        text-align: right;\n",
       "    }\n",
       "</style>\n",
       "<table border=\"1\" class=\"dataframe\">\n",
       "  <thead>\n",
       "    <tr style=\"text-align: right;\">\n",
       "      <th></th>\n",
       "      <th>reviewText</th>\n",
       "      <th>Positive</th>\n",
       "    </tr>\n",
       "  </thead>\n",
       "  <tbody>\n",
       "    <tr>\n",
       "      <th>2073</th>\n",
       "      <td>This app works great!  I use it to entertain m...</td>\n",
       "      <td>1</td>\n",
       "    </tr>\n",
       "    <tr>\n",
       "      <th>12398</th>\n",
       "      <td>This is the only alarm I use anymore. It has s...</td>\n",
       "      <td>1</td>\n",
       "    </tr>\n",
       "    <tr>\n",
       "      <th>7442</th>\n",
       "      <td>I have a king James Bible,  But this is a lot ...</td>\n",
       "      <td>1</td>\n",
       "    </tr>\n",
       "    <tr>\n",
       "      <th>3904</th>\n",
       "      <td>I love how this clock has big numbers so it's ...</td>\n",
       "      <td>1</td>\n",
       "    </tr>\n",
       "    <tr>\n",
       "      <th>13744</th>\n",
       "      <td>I love cats and figured I would get this.and I...</td>\n",
       "      <td>1</td>\n",
       "    </tr>\n",
       "    <tr>\n",
       "      <th>5914</th>\n",
       "      <td>Important app for you to work with the kindle ...</td>\n",
       "      <td>1</td>\n",
       "    </tr>\n",
       "    <tr>\n",
       "      <th>6062</th>\n",
       "      <td>I am using it for a journal of sorts for the y...</td>\n",
       "      <td>1</td>\n",
       "    </tr>\n",
       "    <tr>\n",
       "      <th>15867</th>\n",
       "      <td>This is a 5 star rating for sure. I had not fo...</td>\n",
       "      <td>1</td>\n",
       "    </tr>\n",
       "    <tr>\n",
       "      <th>4124</th>\n",
       "      <td>This is the cutest app!!! I tried the free app...</td>\n",
       "      <td>1</td>\n",
       "    </tr>\n",
       "    <tr>\n",
       "      <th>14379</th>\n",
       "      <td>I have this in Kindle and also on my android p...</td>\n",
       "      <td>1</td>\n",
       "    </tr>\n",
       "  </tbody>\n",
       "</table>\n",
       "</div>"
      ],
      "text/plain": [
       "                                              reviewText  Positive\n",
       "2073   This app works great!  I use it to entertain m...         1\n",
       "12398  This is the only alarm I use anymore. It has s...         1\n",
       "7442   I have a king James Bible,  But this is a lot ...         1\n",
       "3904   I love how this clock has big numbers so it's ...         1\n",
       "13744  I love cats and figured I would get this.and I...         1\n",
       "5914   Important app for you to work with the kindle ...         1\n",
       "6062   I am using it for a journal of sorts for the y...         1\n",
       "15867  This is a 5 star rating for sure. I had not fo...         1\n",
       "4124   This is the cutest app!!! I tried the free app...         1\n",
       "14379  I have this in Kindle and also on my android p...         1"
      ]
     },
     "execution_count": 42,
     "metadata": {},
     "output_type": "execute_result"
    }
   ],
   "source": [
    "amazon.sample (10)"
   ]
  },
  {
   "cell_type": "code",
   "execution_count": 46,
   "id": "3f4ca454-5730-41c3-8cf7-fc677c6c5838",
   "metadata": {},
   "outputs": [
    {
     "data": {
      "text/plain": [
       "Index(['reviewText', 'Positive'], dtype='object')"
      ]
     },
     "execution_count": 46,
     "metadata": {},
     "output_type": "execute_result"
    }
   ],
   "source": [
    "amazon.columns"
   ]
  },
  {
   "cell_type": "code",
   "execution_count": 56,
   "id": "47b7f110-b167-4352-a4fb-1095f4c96cd4",
   "metadata": {},
   "outputs": [
    {
     "data": {
      "text/plain": [
       "Positive\n",
       "1    15233\n",
       "0     4767\n",
       "Name: count, dtype: int64"
      ]
     },
     "execution_count": 56,
     "metadata": {},
     "output_type": "execute_result"
    }
   ],
   "source": [
    "recensioni = amazon ['Positive'].value_counts()\n",
    "recensioni"
   ]
  },
  {
   "cell_type": "code",
   "execution_count": null,
   "id": "44f769af-bd95-4221-a75f-4f3d4951ba86",
   "metadata": {},
   "outputs": [],
   "source": [
    "#Il dataset diabetes.csv raccoglie persone con diabete o meno, e il valore di diverse variabili fisiologiche dei pazienti.\n",
    "#Osserviamone le dimensioni e un'anteprima di cinque righe;\n",
    "#Prendiamoci un po' di tempo per dare un'occhiata ai metadati delle colonne;\n",
    "#Stampiamo dei descrittori statistici del dataset;\n",
    "#Selezioniamo i dati relativi a diverse fasce di età: <20, 20-30, 30-40, 40-50, >50;\n",
    "#Qual è la media della pressione sanguigna diastolica per le diverse fasce di età?\n",
    "#Qual è la media della pressione per ogni singolo anno di età?"
   ]
  },
  {
   "cell_type": "code",
   "execution_count": null,
   "id": "279fa992-ff6b-46fc-95bd-e5d42e87d5d3",
   "metadata": {},
   "outputs": [],
   "source": [
    "#Il dataset insurance.csv contiene dati rispetto a caratteristiche e abitudini delle persone, e della zona in cui vivono,\n",
    "#rispetto ai costi individuali per le cure mediche come premio per le assicurazioni sulla salute.\n",
    "#Visualizziamone le dimensioni, un'anteprima, e osserviamo i nomi di colonna;\n",
    "#Quali sono le medie di charges rispetto a region? Ci sono differenze significative?\n",
    "#E rispetto a smoker? E a sex?\n",
    "#Quali sono i descrittori statistici di bmi?\n",
    "#Quali sono minimo, media e massimo di charges rispetto ai diversi quartili dei valori di bmi?"
   ]
  },
  {
   "cell_type": "code",
   "execution_count": null,
   "id": "3638469e-e208-4479-8df7-4645cfcf9812",
   "metadata": {},
   "outputs": [],
   "source": [
    "#Il dataset pokemon.csv contiene un database di Pokémon, con dati quali nome, tipi di attacco, valori di attacco/difesa/eccetera, e se sono o meno leggendari.\n",
    "#Verifichiamo la dimensione, un'anteprima e osserviamo i nomi di colonna;\n",
    "#È verosimile che la prima colonna dovrebbe essere un indice?\n",
    "#Confrontiamolo con l'indice messo automaticamente da Pandas: combaciano?\n",
    "#Se no, settare la prima colonna come indice.\n",
    "#Quali sono i Pokémon leggendari?\n",
    "#E quali sono i leggendari di tipo 1 Grass?\n",
    "#E leggendari di tipo 1 Ice o Fire?\n",
    "#Ordiniamo il dataset per la colonna Name;\n",
    "#Trasformiamo Name nell'indice;\n",
    "# Quali sono i Pokémon della prima generazione con attacco > 50 e HP < 60?"
   ]
  }
 ],
 "metadata": {
  "kernelspec": {
   "display_name": "Python 3 (ipykernel)",
   "language": "python",
   "name": "python3"
  },
  "language_info": {
   "codemirror_mode": {
    "name": "ipython",
    "version": 3
   },
   "file_extension": ".py",
   "mimetype": "text/x-python",
   "name": "python",
   "nbconvert_exporter": "python",
   "pygments_lexer": "ipython3",
   "version": "3.11.7"
  }
 },
 "nbformat": 4,
 "nbformat_minor": 5
}
