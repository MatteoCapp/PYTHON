{
 "cells": [
  {
   "cell_type": "code",
   "execution_count": 3,
   "id": "75af2d76-2cbd-4493-b8f6-263612136dfa",
   "metadata": {},
   "outputs": [
    {
     "name": "stdout",
     "output_type": "stream",
     "text": [
      "E\n",
      "p\n",
      "i\n",
      "c\n",
      "o\n",
      "d\n",
      "e\n"
     ]
    }
   ],
   "source": [
    "#Abbiamo la stringa: nome_scuola = \"Epicode\" Stampare ogni carattere della stringa, uno su ogni riga, utilizzando un costrutto while.\n",
    "nome_scuola = \"Epicode\"\n",
    "for carattere in \"Epicode\":\n",
    "    print (carattere)"
   ]
  },
  {
   "cell_type": "code",
   "execution_count": 1,
   "id": "6a340a0d-dd2d-4a84-9559-ce3d34e677ec",
   "metadata": {},
   "outputs": [
    {
     "name": "stdout",
     "output_type": "stream",
     "text": [
      "E\n",
      "p\n",
      "i\n",
      "c\n",
      "o\n",
      "d\n",
      "e\n"
     ]
    }
   ],
   "source": [
    "#Abbiamo la stringa: nome_scuola = \"Epicode\" Stampare ogni carattere della stringa, uno su ogni riga, utilizzando un costrutto while.\n",
    "nome_scuola = \"Epicode\"\n",
    "i = 0\n",
    "while i < len(nome_scuola):\n",
    "    print(nome_scuola[i])\n",
    "    i += 1"
   ]
  },
  {
   "cell_type": "code",
   "execution_count": 5,
   "id": "c9cf8d19-6b07-4165-8c11-0e24b46a44f8",
   "metadata": {},
   "outputs": [
    {
     "name": "stdout",
     "output_type": "stream",
     "text": [
      "0\n",
      "1\n",
      "2\n",
      "3\n",
      "4\n",
      "5\n",
      "6\n",
      "7\n",
      "8\n",
      "9\n",
      "10\n",
      "11\n",
      "12\n",
      "13\n",
      "14\n",
      "15\n",
      "16\n",
      "17\n",
      "18\n",
      "19\n",
      "20\n"
     ]
    }
   ],
   "source": [
    "#Stampare a video tutti i numeri da 0 a 20 utilizzando il costrutto while. Utilizzeremo:\n",
    "#un ciclo while\n",
    "#la funzione print()\n",
    "#una variabile, che dovrà essere inizializzata\n",
    "#una procedura di incremento\n",
    "n = 0\n",
    "while n < 21:\n",
    "    print (n)\n",
    "    n += 1"
   ]
  },
  {
   "cell_type": "code",
   "execution_count": 13,
   "id": "c3413501-76ce-4249-8571-873c4b3c671c",
   "metadata": {},
   "outputs": [
    {
     "name": "stdout",
     "output_type": "stream",
     "text": [
      "1\n",
      "2\n",
      "4\n",
      "8\n",
      "16\n",
      "32\n",
      "64\n",
      "128\n",
      "256\n",
      "512\n",
      "1024\n"
     ]
    }
   ],
   "source": [
    "#Calcolare e stampare tutte le prime 10 potenze di 2 (e.g., 2⁰, 2¹, 2², …) utilizzando un ciclo while.\n",
    "potenza = pow (2,0)\n",
    "while potenza < pow (2,11):\n",
    "    print (potenza)\n",
    "    potenza *= pow (2,1)"
   ]
  },
  {
   "cell_type": "code",
   "execution_count": 7,
   "id": "2e24f888-5e18-4362-a7f4-537c1c3aff3d",
   "metadata": {},
   "outputs": [
    {
     "name": "stdout",
     "output_type": "stream",
     "text": [
      "1\n",
      "2\n",
      "4\n",
      "8\n",
      "16\n",
      "32\n",
      "64\n",
      "128\n",
      "256\n",
      "512\n",
      "1024\n"
     ]
    }
   ],
   "source": [
    "#Calcolare e stampare tutte le prime 10 potenze di 2 (e.g., 2⁰, 2¹, 2², …) utilizzando un ciclo while.\n",
    "potenza = 2**0\n",
    "while potenza < 2**11:\n",
    "    print (potenza)\n",
    "    potenza *= 2"
   ]
  },
  {
   "cell_type": "code",
   "execution_count": 17,
   "id": "cfee7a04-0772-4c82-988b-19e62afbc25e",
   "metadata": {},
   "outputs": [
    {
     "name": "stdout",
     "output_type": "stream",
     "text": [
      "2^0 = 1\n",
      "2^1 = 2\n",
      "2^2 = 4\n",
      "2^3 = 8\n",
      "2^4 = 16\n",
      "2^5 = 32\n",
      "2^6 = 64\n",
      "2^7 = 128\n",
      "2^8 = 256\n",
      "2^9 = 512\n",
      "2^10 = 1024\n"
     ]
    }
   ],
   "source": [
    "esponente = 0\n",
    "\n",
    "while esponente < 11:\n",
    "    potenza = 2 ** esponente\n",
    "    print(f\"2^{esponente} = {potenza}\")\n",
    "    esponente += 1"
   ]
  },
  {
   "cell_type": "code",
   "execution_count": 35,
   "id": "d0e8c220-a76a-4ad5-94b2-8c9f49737b7e",
   "metadata": {},
   "outputs": [
    {
     "name": "stdin",
     "output_type": "stream",
     "text": [
      "inserisci il numero di potenze fino alla quale si desidera il risultato: 5\n"
     ]
    },
    {
     "name": "stdout",
     "output_type": "stream",
     "text": [
      "1\n",
      "2\n",
      "4\n",
      "8\n",
      "16\n",
      "32\n"
     ]
    }
   ],
   "source": [
    "#Calcolare e stampare tutte le prime N potenze di 2 utilizzando un ciclo while, domandando all'utente di inserire N.\n",
    "esponente = 0\n",
    "N = int(input(\"inserisci il numero di potenze fino alla quale si desidera il risultato:\"))\n",
    "while esponente < N + 1:\n",
    "    print (2**esponente)\n",
    "    esponente += 1"
   ]
  },
  {
   "cell_type": "code",
   "execution_count": 7,
   "id": "73b907ca-0f6c-4ba4-9f5e-66e75454bd9a",
   "metadata": {},
   "outputs": [
    {
     "name": "stdout",
     "output_type": "stream",
     "text": [
      "1\n",
      "2\n",
      "4\n",
      "8\n",
      "16\n",
      "32\n",
      "64\n",
      "128\n",
      "256\n",
      "512\n",
      "1024\n",
      "2048\n",
      "4096\n",
      "8192\n",
      "16384\n"
     ]
    }
   ],
   "source": [
    "#Calcolare e stampare tutte le potenze di 2 minori di 25000.\n",
    "esponente = 0\n",
    "risultato = 2** esponente\n",
    "while risultato < 25001:\n",
    "    print (risultato)\n",
    "    esponente += 1\n",
    "    risultato = 2** esponente"
   ]
  },
  {
   "cell_type": "code",
   "execution_count": 20,
   "id": "8e542c81-a659-4570-bfe9-3e30a42974e5",
   "metadata": {},
   "outputs": [
    {
     "name": "stdout",
     "output_type": "stream",
     "text": [
      "['Cybersecurity', 'Data Analyst', 'Backend', 'Frontend', 'Data Analyst', 'Backend', 'Frontend', 'Cybersecurity']\n"
     ]
    }
   ],
   "source": [
    "#Abbiamo due liste, una di studenti e una di corsi:\n",
    "#studenti = [\"Alex\", \"Bob\", \"Cindy\", \"Dan\", \"Emma\", \"Faith\", \"Grace\", \"Henry\"]\n",
    "#corsi = [\"Cybersecurity\", \"Data Analyst\", \"Backend\", \"Frontend\", \"Data Analyst\", \"Backend\"]\n",
    "#Aggiungere i dati mancanti alla lista corsi, sapendo che:\n",
    "#Emma segue Data Analyst\n",
    "#Faith segue Backend\n",
    "#Grace segue Frontend\n",
    "#Henry segue Cybersecurity\n",
    "#Aggiungeremo i dati mancanti uno alla volta con il metodo per appendere in coda alle liste,\n",
    "#poi verificheremo che sono della stessa lunghezza e se lo sono stamperemo la lista corsi.\n",
    "#Se alcuni dati sono già presenti non vanno aggiunti di nuovo\n",
    "studenti = [\"Alex\", \"Bob\", \"Cindy\", \"Dan\", \"Emma\", \"Faith\", \"Grace\", \"Henry\"]\n",
    "corsi = [\"Cybersecurity\", \"Data Analyst\", \"Backend\", \"Frontend\", \"Data Analyst\", \"Backend\"]\n",
    "corsi.append(\"Frontend\")\n",
    "corsi.append(\"Cybersecurity\")\n",
    "len(studenti)\n",
    "len(corsi)\n",
    "print (corsi)"
   ]
  },
  {
   "cell_type": "code",
   "execution_count": 4,
   "id": "e872bdcd-ab02-42ba-92d3-ede7401bd8f7",
   "metadata": {},
   "outputs": [
    {
     "name": "stdin",
     "output_type": "stream",
     "text": [
      "cosa vuoi che ci sia scritto? oggi\n"
     ]
    },
    {
     "name": "stdout",
     "output_type": "stream",
     "text": [
      "la frase inserita è troppo corta !!! cojone!!!\n"
     ]
    }
   ],
   "source": [
    "#Scriviamo un programma che chiede in input all'utente una stringa e visualizza i primi 3 caratteri,\n",
    "#seguiti da 3 punti di sospensione e quindi gli ultimi 3 caratteri, similmente all'esercizio della lezione scorsa.\n",
    "#Stavolta facciamo attenzione a tutti i casi particolari,\n",
    "#ovvero implementare soluzioni ad hoc per stringhe di lunghezza inferiore a 6 caratteri.\n",
    "frase = str(input(\"cosa vuoi che ci sia scritto?\"))\n",
    "if len(frase) > 6:\n",
    "    print (frase[:3],\" \", frase[-3:])\n",
    "else:\n",
    "    print (\"la frase inserita è troppo corta !!! cojone!!!\")"
   ]
  },
  {
   "cell_type": "code",
   "execution_count": 11,
   "id": "dd83a5db-b556-456d-87d5-ef904a359f54",
   "metadata": {},
   "outputs": [
    {
     "name": "stdin",
     "output_type": "stream",
     "text": [
      "di che numero vuoi sapere i fattori?! 6\n"
     ]
    },
    {
     "name": "stdout",
     "output_type": "stream",
     "text": [
      "6.0\n",
      "3.0\n",
      "2.0\n",
      "1.0\n"
     ]
    }
   ],
   "source": [
    "#Memorizza e stampa tutti i fattori di un numero dato in input. Esempio:\n",
    "#input: 150\n",
    "#output: [2, 3, 5, 5]\n",
    "numero = int(input(\"di che numero vuoi sapere i fattori?!\"))\n",
    "divisore = 1\n",
    "while divisore <= numero:\n",
    "    if numero%divisore == 0:\n",
    "        print (numero/divisore)\n",
    "    divisore += 1"
   ]
  },
  {
   "cell_type": "code",
   "execution_count": 31,
   "id": "eb4d63b3-f093-4185-a607-48c9c7b4a600",
   "metadata": {},
   "outputs": [
    {
     "name": "stdout",
     "output_type": "stream",
     "text": [
      "E\n",
      "p\n",
      "i\n",
      "c\n",
      "o\n",
      "d\n",
      "e\n"
     ]
    }
   ],
   "source": [
    "#Abbiamo la stringa: nome_scuola = \"Epicode\" Stampare ogni carattere della stringa, uno su ogni riga, utilizzando un costrutto for.\n",
    "nome_scuola = \"Epicode\"\n",
    "for carattere in \"Epicode\":\n",
    "    print (carattere)"
   ]
  },
  {
   "cell_type": "code",
   "execution_count": 8,
   "id": "0ddb0764-559c-4d80-8c30-09340b2a905e",
   "metadata": {},
   "outputs": [
    {
     "name": "stdout",
     "output_type": "stream",
     "text": [
      "1\n",
      "2\n",
      "4\n",
      "8\n",
      "16\n",
      "32\n",
      "64\n",
      "128\n",
      "256\n",
      "512\n",
      "1024\n"
     ]
    }
   ],
   "source": [
    "#Calcolare e stampare tutte le prime 10 potenze di 2 utilizzando un ciclo.\n",
    "#Utilizzeremo:\n",
    "#un ciclo per generare i primi 10 numeri,\n",
    "#e.g.: range_numerico = list()\n",
    "# init num = 1\n",
    "# init while num <= 10: range_numerico.append(num) num += 1\n",
    "\n",
    "esponente = 0\n",
    "while esponente < 11:\n",
    "    print (2**esponente)\n",
    "    esponente += 1"
   ]
  },
  {
   "cell_type": "code",
   "execution_count": 26,
   "id": "6b6d7239-2a6b-4016-a9b1-0c4760bbe89f",
   "metadata": {},
   "outputs": [
    {
     "name": "stdin",
     "output_type": "stream",
     "text": [
      "inserire il valore che si desidera come esponente massimo 12\n",
      "inserire il valore che si desidera come base 4\n"
     ]
    },
    {
     "name": "stdout",
     "output_type": "stream",
     "text": [
      "[1, 4, 16, 64, 256, 1024, 4096, 16384, 65536, 262144, 1048576, 4194304]\n"
     ]
    }
   ],
   "source": [
    "#Calcolare (ma non stampare) le prime N potenze di K; ognuna di esse andrà memorizzata in coda a una lista.\n",
    "#Alla fine, stampare la lista risultante.\n",
    "#Proviamo con diversi valori di K, oppure facciamola inserire all'utente.\n",
    "#Realizzare due versioni: • con un ciclo while.\n",
    "potenze_di_K=[]\n",
    "esponente=0\n",
    "N = int(input(\"inserire il valore che si desidera come esponente massimo\"))\n",
    "K = int(input(\"inserire il valore che si desidera come base\"))\n",
    "while esponente < N:\n",
    "    potenze_di_K.append (K**esponente)\n",
    "    esponente += 1\n",
    "print (potenze_di_K)"
   ]
  },
  {
   "cell_type": "code",
   "execution_count": 28,
   "id": "18418f02-1dc0-473a-aed9-6084c380e633",
   "metadata": {},
   "outputs": [
    {
     "name": "stdin",
     "output_type": "stream",
     "text": [
      "inserire il valore che si desidera come esponente massimo 13\n",
      "inserire il valore che si desidera come base 55\n"
     ]
    },
    {
     "name": "stdout",
     "output_type": "stream",
     "text": [
      "[1, 55, 3025, 166375, 9150625, 503284375, 27680640625, 1522435234375, 83733937890625, 4605366583984375, 253295162119140625, 13931233916552734375, 766217865410400390625]\n"
     ]
    }
   ],
   "source": [
    "#Calcolare (ma non stampare) le prime N potenze di K; ognuna di esse andrà memorizzata in coda a una lista.\n",
    "#Alla fine, stampare la lista risultante.\n",
    "#Proviamo con diversi valori di K, oppure facciamola inserire all'utente.\n",
    "#Realizzare due versioni: • con un ciclo for.\n",
    "potenze_di_K_2=[]\n",
    "esponente=0\n",
    "N = int(input(\"inserire il valore che si desidera come esponente massimo\"))\n",
    "K = int(input(\"inserire il valore che si desidera come base\"))\n",
    "for esponente in range(N):\n",
    "    potenze_di_K_2.append(K ** esponente)\n",
    "print (potenze_di_K_2)"
   ]
  },
  {
   "cell_type": "code",
   "execution_count": 40,
   "id": "11eed86b-d172-42fa-b3a4-892f378c0a10",
   "metadata": {},
   "outputs": [
    {
     "name": "stdout",
     "output_type": "stream",
     "text": [
      "{'Ada': 'Punto', 'Ben': 'Multipla', 'Charlie': 'Golf', 'Debbie': '107'}\n",
      "Debbie è la proprietaria di una bellissima 107.\n"
     ]
    }
   ],
   "source": [
    "#Creiamo un dizionario che assegni ad ogni proprietario la sua auto, sapendo che:\n",
    "#Ada guida una Punto\n",
    "#Ben guida una Multipla\n",
    "#Charlie guida una Golf\n",
    "#Debbie guida una 107\n",
    "#Stampiamo il dizionario per intero, e poi l'auto associata a Debbie.\n",
    "\n",
    "proprietari = {\"Ada\":\"Punto\",\n",
    "               \"Ben\":\"Multipla\",\n",
    "               \"Charlie\":\"Golf\",\n",
    "               \"Debbie\":\"107\"}\n",
    "print (proprietari)\n",
    "print (\"Debbie è la proprietaria di una bellissima \" + proprietari [\"Debbie\"] + \".\")"
   ]
  },
  {
   "cell_type": "code",
   "execution_count": 48,
   "id": "6c20419e-7b25-4ca0-b2b4-2707ee4f7550",
   "metadata": {},
   "outputs": [
    {
     "name": "stdout",
     "output_type": "stream",
     "text": [
      "{'Ada': 'Punto', 'Ben': 'Polo', 'Charlie': 'Golf', 'Debbie': '107', 'Emily': 'A1', 'Fred': 'Octavia', 'Grace': 'Yaris', 'Hugh': 'Clio'}\n"
     ]
    }
   ],
   "source": [
    "#Abbiamo due dizionari che assegnano ad ogni proprietario la propria auto:\n",
    "#dizionario_auto = {\"Ada\": \"Punto\", \"Ben\": \"Multipla\", \"Charlie\": \"Golf\", \"Debbie\": \"107\", \"Emily\": \"A1\"}\n",
    "# nuovi_proprietari = {\"Ben\": \"Polo\", \"Fred\": \"Octavia\", \"Grace\": \"Yaris\", \"Hugh\": \"Clio\"}\n",
    "#Aggiornare il dizionario dizionario_auto con i dati contenuti in nuovi_proprietari e stamparlo. Cosa è successo a Ben?\n",
    "dizionario_auto = {\"Ada\": \"Punto\", \"Ben\": \"Multipla\", \"Charlie\": \"Golf\", \"Debbie\": \"107\", \"Emily\": \"A1\"}\n",
    "nuovi_proprietari = {\"Ben\": \"Polo\", \"Fred\": \"Octavia\", \"Grace\": \"Yaris\", \"Hugh\": \"Clio\"}\n",
    "dizionario_auto.update(nuovi_proprietari)\n",
    "print (dizionario_auto)"
   ]
  },
  {
   "cell_type": "code",
   "execution_count": 50,
   "id": "f65e509b-c79e-4e30-b728-8fcc51a3f2ac",
   "metadata": {},
   "outputs": [
    {
     "name": "stdout",
     "output_type": "stream",
     "text": [
      "4\n",
      "80\n"
     ]
    }
   ],
   "source": [
    "#Scrivere un programma che, data una lista di numeri, fornisca in output il minimo e il massimo (possiamo usare o meno le funzioni built-in min() e max()).\n",
    "numeri = [10,40,70,80,30,12,4,67]\n",
    "print (min(numeri))\n",
    "print (max(numeri))"
   ]
  },
  {
   "cell_type": "code",
   "execution_count": 14,
   "id": "5e2051fc-49f7-4e3e-b29a-b90c7005d24f",
   "metadata": {},
   "outputs": [
    {
     "name": "stdout",
     "output_type": "stream",
     "text": [
      "70.0\n"
     ]
    }
   ],
   "source": [
    "#Abbiamo una lista con i guadagni degli ultimi 12 mesi: guadagni = [100, 90, 70, 40, 50, 80, 90, 120, 80, 20, 50, 50]\n",
    "#usando un costrutto for, calcolare la media dei guadagni e stamparla a video.\n",
    "guadagni = [100, 90, 70, 40, 50, 80, 90, 120, 80, 20, 50, 50]\n",
    "somma = 0\n",
    "\n",
    "for guadagno in guadagni:\n",
    "    somma += guadagno\n",
    "\n",
    "media = somma / len(guadagni)\n",
    "print(media)\n"
   ]
  },
  {
   "cell_type": "code",
   "execution_count": 44,
   "id": "18f0fc77-e57b-437f-87e3-311af3b3d4a8",
   "metadata": {},
   "outputs": [
    {
     "name": "stdout",
     "output_type": "stream",
     "text": [
      "Albergo 1\n",
      "Sedia 1\n",
      "Borgo 0\n",
      "Petalo 1\n",
      "Eremo 2\n",
      "Belvedere 4\n",
      "Semestre 3\n",
      "Esteta 2\n",
      "Sosta 0\n",
      "Orpello 1\n",
      "Abete 2\n",
      "Orologio 0\n",
      "Cesta 1\n",
      "Ermellino 2\n"
     ]
    }
   ],
   "source": [
    "#Abbiamo una lista di parole:\n",
    "#parole = [\"Albergo\", \"Sedia\", \"Borgo\", \"Petalo\", \"Eremo\", \"Belvedere\", \"Semestre\", \"Esteta\", \"Sosta\", \"Orpello\", \"Abete\", \"Orologio\", \"Cesta\", \"Ermellino\"]\n",
    "#stampiamo, per ogni parola, quante volte appare la lettera \"e\";\n",
    "#facciamo attenzione al fatto che appare sia maiuscola che minuscola.\n",
    "parole = [\"Albergo\", \"Sedia\", \"Borgo\", \"Petalo\", \"Eremo\", \"Belvedere\", \"Semestre\", \"Esteta\", \"Sosta\", \"Orpello\", \"Abete\", \"Orologio\", \"Cesta\", \"Ermellino\"]\n",
    "for parola in parole:\n",
    "    contatore = 0\n",
    "    for lettera in parola:\n",
    "        if lettera == \"e\" or lettera == \"E\":\n",
    "            contatore += 1\n",
    "    print (parola, contatore)"
   ]
  },
  {
   "cell_type": "code",
   "execution_count": 73,
   "id": "0829d683-ac20-4d24-a95b-214fbbe2dbe0",
   "metadata": {},
   "outputs": [
    {
     "name": "stdout",
     "output_type": "stream",
     "text": [
      "120\n",
      "100\n",
      "90\n"
     ]
    }
   ],
   "source": [
    "#Scrivere un programma che, data una lista di numeri, fornisca in output i tre numeri più grandi; gestire il caso in cui la lista sia più corta di tre,\n",
    "#e quando uno o più dei numeri selezionati sono uguali.\n",
    "guadagni = [100, 90,70, 40, 50, 80, 90, 120, 80, 20, 50, 50]\n",
    "contatore = 0\n",
    "primi = 3\n",
    "if len (guadagni) < 3:\n",
    "    print (guadagni)\n",
    "else:\n",
    "    while contatore < primi:\n",
    "        massimo = max(guadagni)\n",
    "        print (massimo)\n",
    "        guadagni.remove (massimo)\n",
    "        contatore +=1"
   ]
  },
  {
   "cell_type": "code",
   "execution_count": 91,
   "id": "9c97b09f-8625-46be-a548-fc37d451f28c",
   "metadata": {},
   "outputs": [
    {
     "name": "stdout",
     "output_type": "stream",
     "text": [
      "DEFG\n"
     ]
    }
   ],
   "source": [
    "#Abbiamo una lista di codici fiscali:\n",
    "#lista_cf = [\"ABCDEF95G01A123B\", \"GHIJKL91M02A321C\", \"MNOPQR89S03A456D\", \"STUVWX95Z04A654E\", \"XYZABC01D05A789F\", \"DEFGHI95J06A987G\"] \n",
    "#trovare i codici fiscali che contengono \"95\", metterli in una lista, e alla fine stamparla;\n",
    "#inoltre, per ognuno di essi, stampare a video i caratteri relativi al nome e quelli relativi al cognome.\n",
    "lista_cf = [\"ABCDEF95G01A123B\", \"GHIJKL91M02A321C\", \"MNOPQR89S03A456D\", \"STUVWX95Z04A654E\", \"XYZABC01D05A789F\", \"DEFGHI95J06A987G\"]\n",
    "cf_95 = []\n",
    "for cf in lista_cf:\n",
    "    if \"95\" in cf:\n",
    "        cf_95.append (cf)\n",
    "for cf in cf_95:\n",
    "    print (cf [:4])"
   ]
  },
  {
   "cell_type": "code",
   "execution_count": 95,
   "id": "03bb9096-e72a-4ec9-b7c7-be6de16b64f0",
   "metadata": {},
   "outputs": [
    {
     "name": "stdout",
     "output_type": "stream",
     "text": [
      "Alex\n",
      "Faith\n"
     ]
    }
   ],
   "source": [
    "#Abbiamo tre liste della stessa lunghezza, dove ogni elemento nella medesima posizione si riferisce ai dati dello stesso studente:\n",
    "#studenti = [\"Alex\", \"Bob\", \"Cindy\", \"Dan\", \"Emma\", \"Faith\", \"Grace\", \"Henry\"]\n",
    "#corsi = [\"Cybersecurity\", \"Data Analyst\", \"Backend\", \"Frontend\", \"Data Analyst\", \"Backend\", \"Frontend\", \"Cybersecurity\"]\n",
    "#edizioni = [1, 2, 3, 2, 2, 1, 3, 3]\n",
    "#Stampare a video tutti e soli gli studenti che frequentano una prima edizione; non tutti i dati potrebbero essere necessari.\n",
    "studenti = [\"Alex\", \"Bob\", \"Cindy\", \"Dan\", \"Emma\", \"Faith\", \"Grace\", \"Henry\"]\n",
    "corsi = [\"Cybersecurity\", \"Data Analyst\", \"Backend\", \"Frontend\", \"Data Analyst\", \"Backend\", \"Frontend\", \"Cybersecurity\"]\n",
    "edizioni = [1, 2, 3, 2, 2, 1, 3, 3]\n",
    "indici = list(range(len(studenti)))\n",
    "\n",
    "for indice in indici:\n",
    "    studente = studenti [indice]\n",
    "    edizione = edizioni [indice]\n",
    "    if edizione == 1:\n",
    "        print (studente)"
   ]
  }
 ],
 "metadata": {
  "kernelspec": {
   "display_name": "Python 3 (ipykernel)",
   "language": "python",
   "name": "python3"
  },
  "language_info": {
   "codemirror_mode": {
    "name": "ipython",
    "version": 3
   },
   "file_extension": ".py",
   "mimetype": "text/x-python",
   "name": "python",
   "nbconvert_exporter": "python",
   "pygments_lexer": "ipython3",
   "version": "3.11.7"
  }
 },
 "nbformat": 4,
 "nbformat_minor": 5
}
