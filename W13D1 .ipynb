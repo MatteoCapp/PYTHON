{
 "cells": [
  {
   "cell_type": "code",
   "execution_count": 11,
   "id": "62d69f08-de58-457c-b2eb-3decb734f427",
   "metadata": {},
   "outputs": [
    {
     "name": "stdout",
     "output_type": "stream",
     "text": [
      "25\n"
     ]
    }
   ],
   "source": [
    "#fare la spesa\n",
    "#se il frigo è vuoto allora vai a fare la spesa;\n",
    "\n",
    "\n",
    "#Abbiamo 25 studenti; memorizzare questo dato in una variabile.\n",
    "#numero_studenti = 25\n",
    "\n",
    "#Abbiamo 25 studenti; memorizzare questo dato in una variabile e stamparla a video.\n",
    "numero_studenti = 25\n",
    "print(numero_studenti)"
   ]
  },
  {
   "cell_type": "code",
   "execution_count": 13,
   "id": "b0aeb392-14be-4c34-845e-d3ae2e66d1fd",
   "metadata": {},
   "outputs": [
    {
     "name": "stdout",
     "output_type": "stream",
     "text": [
      "28\n"
     ]
    }
   ],
   "source": [
    "#Abbiamo 25 studenti; memorizzare questo dato in una variabile. Arrivano altri 3 studenti; memorizzare questo dato in un'altra variabile.\n",
    "numero_studenti = 25\n",
    "studenti_nuovi = 3\n",
    "print(numero_studenti + studenti_nuovi)"
   ]
  },
  {
   "cell_type": "code",
   "execution_count": 15,
   "id": "73f34536-2205-4944-a873-2c1c7f991225",
   "metadata": {},
   "outputs": [
    {
     "name": "stdout",
     "output_type": "stream",
     "text": [
      "28\n"
     ]
    }
   ],
   "source": [
    "#Abbiamo 25 studenti; memorizzare questo dato in una variabile.\n",
    "#Arrivano altri 3 studenti; memorizzare questo dato in un'altra variabile.\n",
    "#Creare un'altra variabile ancora che conterrà la somma delle prime due, poi stamparla a video.\n",
    "numero_studenti = 25\n",
    "studenti_nuovi = 3\n",
    "tot_studenti = numero_studenti + studenti_nuovi\n",
    "print (tot_studenti)"
   ]
  },
  {
   "cell_type": "code",
   "execution_count": 17,
   "id": "f81ec487-0c29-48a6-8876-70abe560f925",
   "metadata": {},
   "outputs": [
    {
     "name": "stdout",
     "output_type": "stream",
     "text": [
      "Epicode\n"
     ]
    }
   ],
   "source": [
    "#Creare una variabile che contiene la stringa \"Epicode\", quindi stamparla a video.\n",
    "parola = \"Epicode\"\n",
    "print (parola)"
   ]
  },
  {
   "cell_type": "code",
   "execution_count": 27,
   "id": "4ca24c66-e56c-47ea-bc1c-35c6fcef2e5c",
   "metadata": {},
   "outputs": [
    {
     "name": "stdout",
     "output_type": "stream",
     "text": [
      "36\n",
      "36\n"
     ]
    }
   ],
   "source": [
    "#Abbiamo la variabile: x = 10 Incrementarla di 2 e poi moltiplicarla per 3\n",
    "#Usare due metodi diversi (ad esempio, uno utilizzando gli operatori di assegnazione, e uno senza)\n",
    "x = 10\n",
    "y = 2\n",
    "z = 3\n",
    "a = x + y\n",
    "b = a * z\n",
    "print (a * z)\n",
    "print ( b )"
   ]
  },
  {
   "cell_type": "code",
   "execution_count": 4,
   "id": "382cf89c-7f04-42a0-b41f-1c00305b8016",
   "metadata": {},
   "outputs": [
    {
     "name": "stdout",
     "output_type": "stream",
     "text": [
      "La lunghezza di 'Windows' (7 caratteri) è compresa tra 5 e 8.\n",
      "La lunghezza di 'Excel' (5 caratteri) è compresa tra 5 e 8.\n",
      "La lunghezza di 'Powerpoint' (10 caratteri) NON è compresa tra 5 e 8.\n",
      "La lunghezza di 'Word' (4 caratteri) NON è compresa tra 5 e 8.\n"
     ]
    }
   ],
   "source": [
    "#Verificare, per ognuna delle seguenti stringhe, se il numero di caratteri è compreso tra 5 e 8:\n",
    "str1 = \"Windows\"\n",
    "str2 = \"Excel\"\n",
    "str3 = \"Powerpoint\"\n",
    "str4 = \"Word\"\n",
    "def verifica_lunghezza(stringa):\n",
    "    lunghezza = len(stringa)\n",
    "    if 5 <= lunghezza <= 8:\n",
    "        return f\"La lunghezza di '{stringa}' ({lunghezza} caratteri) è compresa tra 5 e 8.\"\n",
    "    else:\n",
    "        return f\"La lunghezza di '{stringa}' ({lunghezza} caratteri) NON è compresa tra 5 e 8.\"\n",
    "\n",
    "# Verifica per ciascuna stringa\n",
    "print(verifica_lunghezza(str1))\n",
    "print(verifica_lunghezza(str2))\n",
    "print(verifica_lunghezza(str3))\n",
    "print(verifica_lunghezza(str4))\n"
   ]
  },
  {
   "cell_type": "code",
   "execution_count": 20,
   "id": "3f56ee89-aaf5-490f-90e6-0a25d9a2a00b",
   "metadata": {},
   "outputs": [
    {
     "name": "stdout",
     "output_type": "stream",
     "text": [
      "In un anno ci sono 31536000 secondi\n"
     ]
    }
   ],
   "source": [
    "#Calcolare e stampare a video quanti secondi ci sono in un anno non bisestile.\n",
    "secondi_per_minuto = 60\n",
    "minuti_per_ora = 60\n",
    "ore_per_giorno = 24\n",
    "giorni_per_anno = 365\n",
    "secondi_per_anno = secondi_per_minuto * minuti_per_ora * ore_per_giorno * giorni_per_anno\n",
    "print (\"In un anno ci sono\", secondi_per_anno, \"secondi\") "
   ]
  },
  {
   "cell_type": "code",
   "execution_count": 39,
   "id": "be202cf8-872e-4982-b8ac-f67d14b76799",
   "metadata": {},
   "outputs": [
    {
     "name": "stdout",
     "output_type": "stream",
     "text": [
      "I am studying Python\n"
     ]
    }
   ],
   "source": [
    "#Abbiamo la seguente stringa: my_string = \"I am studying Python\"\n",
    "#Trasformarla in modo che tutti i caratteri siano maiuscoli (uppercase)\n",
    "#Trasformarla in modo che tutti i caratteri siano minuscoli (lowercase)\n",
    "#Sostituire la sottostringa \"Python\" con la stringa \"a lot\"\n",
    "#Usare il metodo .strip(); cambia qualcosa? Perché?\n",
    "\n",
    "my_string = \"I am studying Python\"\n",
    "MY_STRING = my_string.upper()\n",
    "mystring = MY_STRING.lower()\n",
    "nuova_stringa = my_string.replace (\"Python\",\"a lot\")\n",
    "test_nuova_stringa = my_string.strip ()\n",
    "print (test_nuova_stringa)"
   ]
  },
  {
   "cell_type": "code",
   "execution_count": null,
   "id": "b78bc738-98c9-4c50-959f-43ddf68edfc4",
   "metadata": {},
   "outputs": [],
   "source": []
  }
 ],
 "metadata": {
  "kernelspec": {
   "display_name": "Python 3 (ipykernel)",
   "language": "python",
   "name": "python3"
  },
  "language_info": {
   "codemirror_mode": {
    "name": "ipython",
    "version": 3
   },
   "file_extension": ".py",
   "mimetype": "text/x-python",
   "name": "python",
   "nbconvert_exporter": "python",
   "pygments_lexer": "ipython3",
   "version": "3.11.7"
  }
 },
 "nbformat": 4,
 "nbformat_minor": 5
}
