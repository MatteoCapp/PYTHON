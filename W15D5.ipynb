{
 "cells": [
  {
   "cell_type": "code",
   "execution_count": 2,
   "id": "d0712944-06d0-418d-bf14-65afcbe4d293",
   "metadata": {},
   "outputs": [
    {
     "name": "stdout",
     "output_type": "stream",
     "text": [
      "Requirement already satisfied: pandas in c:\\users\\matte\\anaconda3\\lib\\site-packages (2.1.4)\n",
      "Requirement already satisfied: numpy<2,>=1.23.2 in c:\\users\\matte\\anaconda3\\lib\\site-packages (from pandas) (1.26.4)\n",
      "Requirement already satisfied: python-dateutil>=2.8.2 in c:\\users\\matte\\anaconda3\\lib\\site-packages (from pandas) (2.8.2)\n",
      "Requirement already satisfied: pytz>=2020.1 in c:\\users\\matte\\anaconda3\\lib\\site-packages (from pandas) (2023.3.post1)\n",
      "Requirement already satisfied: tzdata>=2022.1 in c:\\users\\matte\\anaconda3\\lib\\site-packages (from pandas) (2023.3)\n",
      "Requirement already satisfied: six>=1.5 in c:\\users\\matte\\anaconda3\\lib\\site-packages (from python-dateutil>=2.8.2->pandas) (1.16.0)\n",
      "Note: you may need to restart the kernel to use updated packages.\n"
     ]
    }
   ],
   "source": [
    "pip install pandas"
   ]
  },
  {
   "cell_type": "code",
   "execution_count": 4,
   "id": "2225ced2-bdad-49b3-98f8-fe5a596e4895",
   "metadata": {},
   "outputs": [],
   "source": [
    "import pandas as pd"
   ]
  },
  {
   "cell_type": "code",
   "execution_count": null,
   "id": "d799af78-a00f-4ee7-93dd-dc8f82279339",
   "metadata": {},
   "outputs": [],
   "source": [
    "#Andiamo su http://www.datiopen.it/it/opendata/Mappa_dei_pub_circoli_locali_in_Italia e scarichiamo il file (in formato JSON)\n",
    "#della mappa dei pub, circoli e locali in Italia Nota:\n",
    "#per leggerlo nella funzione open() dovremo aggiungere il parametro encoding=\"latin1\",\n",
    "#ad esempio: f = open(file_path, \"r\", encoding=\"latin1\")\n",
    "#dove file_path è chiaramente la posizione del file nel nostro calcolatore.\n",
    "#Esaminiamo il dataset:\n",
    "#quanti dati ci sono in totale?\n",
    "#quali sono i metadati?\n",
    "#stampiamo il primo elemento\n",
    "#stampiamo l'ultimo elemento\n",
    "#riusciamo a stampare un elemento a caso?\n",
    "#quali sono gli anni di inserimento presenti?\n",
    "#quante attività ci sono nel quadrato di longitudine 9-10 e latitudine 45-46?\n",
    "#quante attività ci sono nella provincia di Vicenza?\n",
    "#ante enoteche ci sono, e come si chiamano?\n",
    "#quante attività ci sono in Lazio e Abruzzo assieme?"
   ]
  },
  {
   "cell_type": "code",
   "execution_count": 13,
   "id": "e1f2c14a-8ff3-4896-85ff-57eee85ac5d5",
   "metadata": {},
   "outputs": [
    {
     "name": "stdout",
     "output_type": "stream",
     "text": [
      "             ccomune             cprovincia  cregione            cnome  \\\n",
      "0              ALTRO                  ALTRO     ALTRO                    \n",
      "1              ALTRO                  ALTRO     ALTRO      Lenny's Pub   \n",
      "2              ALTRO                  ALTRO     ALTRO  Murrayfield Pub   \n",
      "3              ALTRO                  ALTRO     ALTRO           Snop?e   \n",
      "4       Ala di Stura                 TORINO  Piemonte                    \n",
      "...              ...                    ...       ...              ...   \n",
      "2492   Barletta (BT)  BARLETTA ANDRIA TRANI    Puglia      Santa Croce   \n",
      "2493  Bisceglie (BT)  BARLETTA ANDRIA TRANI    Puglia      Auld Dublin   \n",
      "2494  Bisceglie (BT)  BARLETTA ANDRIA TRANI    Puglia            Ferus   \n",
      "2495      Trani (BT)  BARLETTA ANDRIA TRANI    Puglia          Re Artù   \n",
      "2496      Trani (BT)  BARLETTA ANDRIA TRANI    Puglia     Well's Fargo   \n",
      "\n",
      "      canno_inserimento cdata_e_ora_inserimento  \\\n",
      "0                  2011    2011-06-25T23:17:43Z   \n",
      "1                  2011    2011-07-29T17:22:56Z   \n",
      "2                  2015    2015-10-24T09:28:06Z   \n",
      "3                  2010    2010-09-22T08:32:52Z   \n",
      "4                  2012    2012-05-21T14:28:45Z   \n",
      "...                 ...                     ...   \n",
      "2492               2010    2010-01-17T16:15:08Z   \n",
      "2493               2014    2014-03-03T20:56:16Z   \n",
      "2494               2014    2014-01-07T19:22:18Z   \n",
      "2495               2009    2009-09-04T07:57:05Z   \n",
      "2496               2009    2009-08-10T12:44:03Z   \n",
      "\n",
      "      cidentificatore_in_openstreetmap  clongitudine  clatitudine  \n",
      "0                           1339088150     13.733257    45.575830  \n",
      "1                           1375887295     12.418681    46.747584  \n",
      "2                           3323888102      9.029585    45.831340  \n",
      "3                            921157802     13.640939    45.954607  \n",
      "4                           1760949034      7.307306    45.313150  \n",
      "...                                ...           ...          ...  \n",
      "2492                         615632993     16.285782    41.320671  \n",
      "2493                        2613737619     16.497204    41.241814  \n",
      "2494                        2613737620     16.506175    41.240957  \n",
      "2495                         482836935     16.418124    41.281518  \n",
      "2496                         387223648     16.436765    41.267264  \n",
      "\n",
      "[2497 rows x 9 columns]\n"
     ]
    }
   ],
   "source": [
    "pub = pd.read_json(r'C:\\Users\\matte\\Desktop\\Data analyst corso\\PYTHON\\Mappa_pub_ita.json', encoding='latin1')\n",
    "print(pub)"
   ]
  },
  {
   "cell_type": "code",
   "execution_count": 17,
   "id": "9448f8be-d1fd-4ed5-9680-daa12d986eb0",
   "metadata": {},
   "outputs": [
    {
     "data": {
      "text/html": [
       "<div>\n",
       "<style scoped>\n",
       "    .dataframe tbody tr th:only-of-type {\n",
       "        vertical-align: middle;\n",
       "    }\n",
       "\n",
       "    .dataframe tbody tr th {\n",
       "        vertical-align: top;\n",
       "    }\n",
       "\n",
       "    .dataframe thead th {\n",
       "        text-align: right;\n",
       "    }\n",
       "</style>\n",
       "<table border=\"1\" class=\"dataframe\">\n",
       "  <thead>\n",
       "    <tr style=\"text-align: right;\">\n",
       "      <th></th>\n",
       "      <th>ccomune</th>\n",
       "      <th>cprovincia</th>\n",
       "      <th>cregione</th>\n",
       "      <th>cnome</th>\n",
       "      <th>canno_inserimento</th>\n",
       "      <th>cdata_e_ora_inserimento</th>\n",
       "      <th>cidentificatore_in_openstreetmap</th>\n",
       "      <th>clongitudine</th>\n",
       "      <th>clatitudine</th>\n",
       "    </tr>\n",
       "  </thead>\n",
       "  <tbody>\n",
       "    <tr>\n",
       "      <th>2327</th>\n",
       "      <td>Casarsa della Delizia</td>\n",
       "      <td>PORDENONE</td>\n",
       "      <td>Friuli-Venezia Giulia</td>\n",
       "      <td>Real Cerveceria</td>\n",
       "      <td>2013</td>\n",
       "      <td>2013-03-16T13:00:37Z</td>\n",
       "      <td>987707322</td>\n",
       "      <td>12.835193</td>\n",
       "      <td>45.958099</td>\n",
       "    </tr>\n",
       "    <tr>\n",
       "      <th>1215</th>\n",
       "      <td>Padova</td>\n",
       "      <td>PADOVA</td>\n",
       "      <td>Veneto</td>\n",
       "      <td>Joyce's</td>\n",
       "      <td>2011</td>\n",
       "      <td>2011-10-10T07:42:59Z</td>\n",
       "      <td>1459133994</td>\n",
       "      <td>11.867749</td>\n",
       "      <td>45.405517</td>\n",
       "    </tr>\n",
       "    <tr>\n",
       "      <th>502</th>\n",
       "      <td>Milano</td>\n",
       "      <td>MILANO</td>\n",
       "      <td>Lombardia</td>\n",
       "      <td>Harp Pub</td>\n",
       "      <td>2014</td>\n",
       "      <td>2014-01-10T21:48:40Z</td>\n",
       "      <td>1679695858</td>\n",
       "      <td>9.225522</td>\n",
       "      <td>45.477255</td>\n",
       "    </tr>\n",
       "    <tr>\n",
       "      <th>2329</th>\n",
       "      <td>Fanna</td>\n",
       "      <td>PORDENONE</td>\n",
       "      <td>Friuli-Venezia Giulia</td>\n",
       "      <td>Friends</td>\n",
       "      <td>2010</td>\n",
       "      <td>2010-06-02T20:35:39Z</td>\n",
       "      <td>762701085</td>\n",
       "      <td>12.754235</td>\n",
       "      <td>46.187325</td>\n",
       "    </tr>\n",
       "    <tr>\n",
       "      <th>1836</th>\n",
       "      <td>Roma</td>\n",
       "      <td>ROMA</td>\n",
       "      <td>Lazio</td>\n",
       "      <td>ABC</td>\n",
       "      <td>2012</td>\n",
       "      <td>2012-06-01T15:53:42Z</td>\n",
       "      <td>1772764791</td>\n",
       "      <td>12.518685</td>\n",
       "      <td>41.962276</td>\n",
       "    </tr>\n",
       "  </tbody>\n",
       "</table>\n",
       "</div>"
      ],
      "text/plain": [
       "                    ccomune cprovincia               cregione  \\\n",
       "2327  Casarsa della Delizia  PORDENONE  Friuli-Venezia Giulia   \n",
       "1215                 Padova     PADOVA                 Veneto   \n",
       "502                  Milano     MILANO              Lombardia   \n",
       "2329                  Fanna  PORDENONE  Friuli-Venezia Giulia   \n",
       "1836                   Roma       ROMA                  Lazio   \n",
       "\n",
       "                cnome  canno_inserimento cdata_e_ora_inserimento  \\\n",
       "2327  Real Cerveceria               2013    2013-03-16T13:00:37Z   \n",
       "1215          Joyce's               2011    2011-10-10T07:42:59Z   \n",
       "502          Harp Pub               2014    2014-01-10T21:48:40Z   \n",
       "2329          Friends               2010    2010-06-02T20:35:39Z   \n",
       "1836              ABC               2012    2012-06-01T15:53:42Z   \n",
       "\n",
       "      cidentificatore_in_openstreetmap  clongitudine  clatitudine  \n",
       "2327                         987707322     12.835193    45.958099  \n",
       "1215                        1459133994     11.867749    45.405517  \n",
       "502                         1679695858      9.225522    45.477255  \n",
       "2329                         762701085     12.754235    46.187325  \n",
       "1836                        1772764791     12.518685    41.962276  "
      ]
     },
     "execution_count": 17,
     "metadata": {},
     "output_type": "execute_result"
    }
   ],
   "source": [
    "pub.sample(5)"
   ]
  },
  {
   "cell_type": "code",
   "execution_count": 21,
   "id": "5ddbf1b8-eb37-46e9-8fa3-4454cac87d08",
   "metadata": {},
   "outputs": [
    {
     "data": {
      "text/plain": [
       "(2497, 9)"
      ]
     },
     "execution_count": 21,
     "metadata": {},
     "output_type": "execute_result"
    }
   ],
   "source": [
    "pub.shape"
   ]
  },
  {
   "cell_type": "code",
   "execution_count": 133,
   "id": "3db18b11-3eda-4eae-902f-6d156e570db3",
   "metadata": {},
   "outputs": [
    {
     "name": "stdout",
     "output_type": "stream",
     "text": [
      "<class 'pandas.core.frame.DataFrame'>\n",
      "RangeIndex: 2497 entries, 0 to 2496\n",
      "Data columns (total 9 columns):\n",
      " #   Column                            Non-Null Count  Dtype  \n",
      "---  ------                            --------------  -----  \n",
      " 0   ccomune                           2497 non-null   object \n",
      " 1   cprovincia                        2497 non-null   object \n",
      " 2   cregione                          2497 non-null   object \n",
      " 3   cnome                             2497 non-null   object \n",
      " 4   canno_inserimento                 2497 non-null   int64  \n",
      " 5   cdata_e_ora_inserimento           2497 non-null   object \n",
      " 6   cidentificatore_in_openstreetmap  2497 non-null   int64  \n",
      " 7   clongitudine                      2497 non-null   float64\n",
      " 8   clatitudine                       2497 non-null   float64\n",
      "dtypes: float64(2), int64(2), object(5)\n",
      "memory usage: 175.7+ KB\n",
      "Info:\n",
      " None\n",
      "nomi delle colonne:\n",
      " Index(['ccomune', 'cprovincia', 'cregione', 'cnome', 'canno_inserimento',\n",
      "       'cdata_e_ora_inserimento', 'cidentificatore_in_openstreetmap',\n",
      "       'clongitudine', 'clatitudine'],\n",
      "      dtype='object')\n",
      "tipi di dati:\n",
      " ccomune                              object\n",
      "cprovincia                           object\n",
      "cregione                             object\n",
      "cnome                                object\n",
      "canno_inserimento                     int64\n",
      "cdata_e_ora_inserimento              object\n",
      "cidentificatore_in_openstreetmap      int64\n",
      "clongitudine                        float64\n",
      "clatitudine                         float64\n",
      "dtype: object\n",
      "descrizione statistica:\n",
      "        canno_inserimento  cidentificatore_in_openstreetmap  clongitudine  \\\n",
      "count        2497.000000                      2.497000e+03   2497.000000   \n",
      "mean         2012.816179                      1.847805e+09     11.412889   \n",
      "std             1.915547                      1.057789e+09      2.381334   \n",
      "min          2007.000000                      3.203094e+07      6.708958   \n",
      "25%          2012.000000                      9.195678e+08      9.214541   \n",
      "50%          2013.000000                      1.769765e+09     11.301761   \n",
      "75%          2014.000000                      2.616963e+09     12.682012   \n",
      "max          2016.000000                      4.012443e+09     18.444577   \n",
      "\n",
      "       clatitudine  \n",
      "count  2497.000000  \n",
      "mean     44.106531  \n",
      "std       2.108361  \n",
      "min      36.680786  \n",
      "25%      42.885316  \n",
      "50%      45.049664  \n",
      "75%      45.617151  \n",
      "max      46.983781  \n"
     ]
    }
   ],
   "source": [
    "#quali sono i metadati?\n",
    "#stampiamo il primo elemento\n",
    "#stampiamo l'ultimo elemento\n",
    "#riusciamo a stampare un elemento a caso?\n",
    "#quali sono gli anni di inserimento presenti?\n",
    "#quante attività ci sono nel quadrato di longitudine 9-10 e latitudine 45-46?\n",
    "#quante attività ci sono nella provincia di Vicenza?\n",
    "#quante enoteche ci sono, e come si chiamano?\n",
    "#quante attività ci sono in Lazio e Abruzzo assieme?\n",
    "print(\"Info:\\n\", pub.info())\n",
    "print(\"nomi delle colonne:\\n\", pub.columns)\n",
    "print(\"tipi di dati:\\n\", pub.dtypes)\n",
    "print(\"descrizione statistica:\\n\", pub.describe())"
   ]
  },
  {
   "cell_type": "code",
   "execution_count": 39,
   "id": "6a8e6068-b865-451c-876c-f1cd7d023c1f",
   "metadata": {},
   "outputs": [
    {
     "name": "stdout",
     "output_type": "stream",
     "text": [
      "il primo elemento è: \n",
      "   ccomune cprovincia cregione cnome  canno_inserimento  \\\n",
      "0   ALTRO      ALTRO    ALTRO                     2011   \n",
      "\n",
      "  cdata_e_ora_inserimento  cidentificatore_in_openstreetmap  clongitudine  \\\n",
      "0    2011-06-25T23:17:43Z                        1339088150     13.733257   \n",
      "\n",
      "   clatitudine  \n",
      "0     45.57583  \n",
      "l'ultimo elemento è: \n",
      "          ccomune             cprovincia cregione         cnome  \\\n",
      "2496  Trani (BT)  BARLETTA ANDRIA TRANI   Puglia  Well's Fargo   \n",
      "\n",
      "      canno_inserimento cdata_e_ora_inserimento  \\\n",
      "2496               2009    2009-08-10T12:44:03Z   \n",
      "\n",
      "      cidentificatore_in_openstreetmap  clongitudine  clatitudine  \n",
      "2496                         387223648     16.436765    41.267264  \n",
      "un elemento casuale è: \n",
      "                ccomune cprovincia             cregione               cnome  \\\n",
      "864  Pergine Valsugana     TRENTO  Trentino-Alto Adige  La Vecchia Pergine   \n",
      "\n",
      "     canno_inserimento cdata_e_ora_inserimento  \\\n",
      "864               2016    2016-01-17T10:20:47Z   \n",
      "\n",
      "     cidentificatore_in_openstreetmap  clongitudine  clatitudine  \n",
      "864                         293870954      11.24005    46.058407  \n"
     ]
    }
   ],
   "source": [
    "#stampiamo il primo elemento\n",
    "#stampiamo l'ultimo elemento\n",
    "#riusciamo a stampare un elemento a caso?\n",
    "print (\"il primo elemento è: \\n\", pub.head(1))\n",
    "print (\"l'ultimo elemento è: \\n\",pub.tail(1))\n",
    "print (\"un elemento casuale è: \\n\",pub.sample(1))"
   ]
  },
  {
   "cell_type": "code",
   "execution_count": 53,
   "id": "1395d93d-56d0-40d7-942b-b5166d0de578",
   "metadata": {},
   "outputs": [
    {
     "name": "stdout",
     "output_type": "stream",
     "text": [
      "[2011 2015 2010 2012 2014 2016 2013 2008 2009 2007]\n"
     ]
    }
   ],
   "source": [
    "#quali sono gli anni di inserimento presenti?\n",
    "anno = pub['canno_inserimento'].unique()\n",
    "print (anno)"
   ]
  },
  {
   "cell_type": "code",
   "execution_count": 79,
   "id": "74ee5f59-36fb-4ea6-a0eb-1657003b009a",
   "metadata": {},
   "outputs": [
    {
     "name": "stdout",
     "output_type": "stream",
     "text": [
      "303\n"
     ]
    }
   ],
   "source": [
    "#quante attività ci sono nel quadrato di longitudine 9-10 e latitudine 45-46?\n",
    "quadrato = (pub['clongitudine']> 9) & (pub['clongitudine']< 10) & (pub['clatitudine']> 45) & (pub['clatitudine']< 46)\n",
    "attività = len(pub[quadrato])\n",
    "print (attività)"
   ]
  },
  {
   "cell_type": "code",
   "execution_count": 77,
   "id": "096c6b27-2650-416e-86c2-e86508de0927",
   "metadata": {},
   "outputs": [
    {
     "name": "stdout",
     "output_type": "stream",
     "text": [
      "73\n"
     ]
    }
   ],
   "source": [
    "#quante attività ci sono nella provincia di Vicenza?\n",
    "vicenza = len(pub[pub['cprovincia'] == 'VICENZA'])\n",
    "print (vicenza)"
   ]
  },
  {
   "cell_type": "code",
   "execution_count": 131,
   "id": "71f86c2c-ed35-479e-ad69-80929b135986",
   "metadata": {},
   "outputs": [
    {
     "name": "stdout",
     "output_type": "stream",
     "text": [
      "il numero totale di attività contenenti bar nel nome é: \n",
      " 194 \n",
      " di seguito la lista.\n",
      "46                      Ambharabar\n",
      "70                       Lo Sbarco\n",
      "89      Bar da Mario la Tavernetta\n",
      "92                          Bar OK\n",
      "94                         Bar Bon\n",
      "                   ...            \n",
      "2425         Bar Pizzeria da Peppe\n",
      "2426                   Central Bar\n",
      "2427                  Bar Sa Giara\n",
      "2429                     Blues Bar\n",
      "2474                   bar moderno\n",
      "Name: cnome, Length: 194, dtype: object\n"
     ]
    }
   ],
   "source": [
    "#quanti locali contengono bar nel nome, e come si chiamano?\n",
    "nome = pub[pub['cnome'].str.contains('bar', case=False)]['cnome']\n",
    "print (\"il numero totale di attività contenenti bar nel nome é: \\n\", nome.count(), \"\\n di seguito la lista.\")\n",
    "print (nome)"
   ]
  },
  {
   "cell_type": "code",
   "execution_count": 135,
   "id": "ee639374-1df4-4b63-90af-d7b7da0c1a58",
   "metadata": {},
   "outputs": [
    {
     "name": "stdout",
     "output_type": "stream",
     "text": [
      "0\n"
     ]
    }
   ],
   "source": [
    "#quante attività ci sono in Lazio e Abruzzo assieme?\n",
    "boolena = (pub['cregione'] == 'Lazio') & (pub['cregione'] == 'Abruzzo')\n",
    "numero_lazioeabruzzo = len(pub[boolena])\n",
    "print (numero_lazioeabruzzo)"
   ]
  }
 ],
 "metadata": {
  "kernelspec": {
   "display_name": "Python 3 (ipykernel)",
   "language": "python",
   "name": "python3"
  },
  "language_info": {
   "codemirror_mode": {
    "name": "ipython",
    "version": 3
   },
   "file_extension": ".py",
   "mimetype": "text/x-python",
   "name": "python",
   "nbconvert_exporter": "python",
   "pygments_lexer": "ipython3",
   "version": "3.11.7"
  }
 },
 "nbformat": 4,
 "nbformat_minor": 5
}
