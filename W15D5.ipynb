{
 "cells": [
  {
   "cell_type": "code",
   "execution_count": 2,
   "id": "d0712944-06d0-418d-bf14-65afcbe4d293",
   "metadata": {},
   "outputs": [
    {
     "name": "stdout",
     "output_type": "stream",
     "text": [
      "Requirement already satisfied: pandas in c:\\users\\matte\\anaconda3\\lib\\site-packages (2.1.4)\n",
      "Requirement already satisfied: numpy<2,>=1.23.2 in c:\\users\\matte\\anaconda3\\lib\\site-packages (from pandas) (1.26.4)\n",
      "Requirement already satisfied: python-dateutil>=2.8.2 in c:\\users\\matte\\anaconda3\\lib\\site-packages (from pandas) (2.8.2)\n",
      "Requirement already satisfied: pytz>=2020.1 in c:\\users\\matte\\anaconda3\\lib\\site-packages (from pandas) (2023.3.post1)\n",
      "Requirement already satisfied: tzdata>=2022.1 in c:\\users\\matte\\anaconda3\\lib\\site-packages (from pandas) (2023.3)\n",
      "Requirement already satisfied: six>=1.5 in c:\\users\\matte\\anaconda3\\lib\\site-packages (from python-dateutil>=2.8.2->pandas) (1.16.0)\n",
      "Note: you may need to restart the kernel to use updated packages.\n"
     ]
    }
   ],
   "source": [
    "pip install pandas"
   ]
  },
  {
   "cell_type": "code",
   "execution_count": 4,
   "id": "2225ced2-bdad-49b3-98f8-fe5a596e4895",
   "metadata": {},
   "outputs": [],
   "source": [
    "import pandas as pd"
   ]
  },
  {
   "cell_type": "code",
   "execution_count": null,
   "id": "d799af78-a00f-4ee7-93dd-dc8f82279339",
   "metadata": {},
   "outputs": [],
   "source": [
    "#Andiamo su http://www.datiopen.it/it/opendata/Mappa_dei_pub_circoli_locali_in_Italia e scarichiamo il file (in formato JSON)\n",
    "#della mappa dei pub, circoli e locali in Italia Nota:\n",
    "#per leggerlo nella funzione open() dovremo aggiungere il parametro encoding=\"latin1\",\n",
    "#ad esempio: f = open(file_path, \"r\", encoding=\"latin1\")\n",
    "#dove file_path è chiaramente la posizione del file nel nostro calcolatore.\n",
    "#Esaminiamo il dataset:\n",
    "#quanti dati ci sono in totale?\n",
    "#quali sono i metadati?\n",
    "#stampiamo il primo elemento\n",
    "#stampiamo l'ultimo elemento\n",
    "#riusciamo a stampare un elemento a caso?\n",
    "#quali sono gli anni di inserimento presenti?\n",
    "#quante attività ci sono nel quadrato di longitudine 9-10 e latitudine 45-46?\n",
    "#quante attività ci sono nella provincia di Vicenza?\n",
    "#ante enoteche ci sono, e come si chiamano?\n",
    "#quante attività ci sono in Lazio e Abruzzo assieme?"
   ]
  },
  {
   "cell_type": "code",
   "execution_count": 13,
   "id": "e1f2c14a-8ff3-4896-85ff-57eee85ac5d5",
   "metadata": {},
   "outputs": [
    {
     "name": "stdout",
     "output_type": "stream",
     "text": [
      "             ccomune             cprovincia  cregione            cnome  \\\n",
      "0              ALTRO                  ALTRO     ALTRO                    \n",
      "1              ALTRO                  ALTRO     ALTRO      Lenny's Pub   \n",
      "2              ALTRO                  ALTRO     ALTRO  Murrayfield Pub   \n",
      "3              ALTRO                  ALTRO     ALTRO           Snop?e   \n",
      "4       Ala di Stura                 TORINO  Piemonte                    \n",
      "...              ...                    ...       ...              ...   \n",
      "2492   Barletta (BT)  BARLETTA ANDRIA TRANI    Puglia      Santa Croce   \n",
      "2493  Bisceglie (BT)  BARLETTA ANDRIA TRANI    Puglia      Auld Dublin   \n",
      "2494  Bisceglie (BT)  BARLETTA ANDRIA TRANI    Puglia            Ferus   \n",
      "2495      Trani (BT)  BARLETTA ANDRIA TRANI    Puglia          Re Artù   \n",
      "2496      Trani (BT)  BARLETTA ANDRIA TRANI    Puglia     Well's Fargo   \n",
      "\n",
      "      canno_inserimento cdata_e_ora_inserimento  \\\n",
      "0                  2011    2011-06-25T23:17:43Z   \n",
      "1                  2011    2011-07-29T17:22:56Z   \n",
      "2                  2015    2015-10-24T09:28:06Z   \n",
      "3                  2010    2010-09-22T08:32:52Z   \n",
      "4                  2012    2012-05-21T14:28:45Z   \n",
      "...                 ...                     ...   \n",
      "2492               2010    2010-01-17T16:15:08Z   \n",
      "2493               2014    2014-03-03T20:56:16Z   \n",
      "2494               2014    2014-01-07T19:22:18Z   \n",
      "2495               2009    2009-09-04T07:57:05Z   \n",
      "2496               2009    2009-08-10T12:44:03Z   \n",
      "\n",
      "      cidentificatore_in_openstreetmap  clongitudine  clatitudine  \n",
      "0                           1339088150     13.733257    45.575830  \n",
      "1                           1375887295     12.418681    46.747584  \n",
      "2                           3323888102      9.029585    45.831340  \n",
      "3                            921157802     13.640939    45.954607  \n",
      "4                           1760949034      7.307306    45.313150  \n",
      "...                                ...           ...          ...  \n",
      "2492                         615632993     16.285782    41.320671  \n",
      "2493                        2613737619     16.497204    41.241814  \n",
      "2494                        2613737620     16.506175    41.240957  \n",
      "2495                         482836935     16.418124    41.281518  \n",
      "2496                         387223648     16.436765    41.267264  \n",
      "\n",
      "[2497 rows x 9 columns]\n"
     ]
    }
   ],
   "source": [
    "pub = pd.read_json(r'C:\\Users\\matte\\Desktop\\Data analyst corso\\PYTHON\\Mappa_pub_ita.json', encoding='latin1')\n",
    "print(pub)"
   ]
  },
  {
   "cell_type": "code",
   "execution_count": 17,
   "id": "9448f8be-d1fd-4ed5-9680-daa12d986eb0",
   "metadata": {},
   "outputs": [
    {
     "data": {
      "text/html": [
       "<div>\n",
       "<style scoped>\n",
       "    .dataframe tbody tr th:only-of-type {\n",
       "        vertical-align: middle;\n",
       "    }\n",
       "\n",
       "    .dataframe tbody tr th {\n",
       "        vertical-align: top;\n",
       "    }\n",
       "\n",
       "    .dataframe thead th {\n",
       "        text-align: right;\n",
       "    }\n",
       "</style>\n",
       "<table border=\"1\" class=\"dataframe\">\n",
       "  <thead>\n",
       "    <tr style=\"text-align: right;\">\n",
       "      <th></th>\n",
       "      <th>ccomune</th>\n",
       "      <th>cprovincia</th>\n",
       "      <th>cregione</th>\n",
       "      <th>cnome</th>\n",
       "      <th>canno_inserimento</th>\n",
       "      <th>cdata_e_ora_inserimento</th>\n",
       "      <th>cidentificatore_in_openstreetmap</th>\n",
       "      <th>clongitudine</th>\n",
       "      <th>clatitudine</th>\n",
       "    </tr>\n",
       "  </thead>\n",
       "  <tbody>\n",
       "    <tr>\n",
       "      <th>2327</th>\n",
       "      <td>Casarsa della Delizia</td>\n",
       "      <td>PORDENONE</td>\n",
       "      <td>Friuli-Venezia Giulia</td>\n",
       "      <td>Real Cerveceria</td>\n",
       "      <td>2013</td>\n",
       "      <td>2013-03-16T13:00:37Z</td>\n",
       "      <td>987707322</td>\n",
       "      <td>12.835193</td>\n",
       "      <td>45.958099</td>\n",
       "    </tr>\n",
       "    <tr>\n",
       "      <th>1215</th>\n",
       "      <td>Padova</td>\n",
       "      <td>PADOVA</td>\n",
       "      <td>Veneto</td>\n",
       "      <td>Joyce's</td>\n",
       "      <td>2011</td>\n",
       "      <td>2011-10-10T07:42:59Z</td>\n",
       "      <td>1459133994</td>\n",
       "      <td>11.867749</td>\n",
       "      <td>45.405517</td>\n",
       "    </tr>\n",
       "    <tr>\n",
       "      <th>502</th>\n",
       "      <td>Milano</td>\n",
       "      <td>MILANO</td>\n",
       "      <td>Lombardia</td>\n",
       "      <td>Harp Pub</td>\n",
       "      <td>2014</td>\n",
       "      <td>2014-01-10T21:48:40Z</td>\n",
       "      <td>1679695858</td>\n",
       "      <td>9.225522</td>\n",
       "      <td>45.477255</td>\n",
       "    </tr>\n",
       "    <tr>\n",
       "      <th>2329</th>\n",
       "      <td>Fanna</td>\n",
       "      <td>PORDENONE</td>\n",
       "      <td>Friuli-Venezia Giulia</td>\n",
       "      <td>Friends</td>\n",
       "      <td>2010</td>\n",
       "      <td>2010-06-02T20:35:39Z</td>\n",
       "      <td>762701085</td>\n",
       "      <td>12.754235</td>\n",
       "      <td>46.187325</td>\n",
       "    </tr>\n",
       "    <tr>\n",
       "      <th>1836</th>\n",
       "      <td>Roma</td>\n",
       "      <td>ROMA</td>\n",
       "      <td>Lazio</td>\n",
       "      <td>ABC</td>\n",
       "      <td>2012</td>\n",
       "      <td>2012-06-01T15:53:42Z</td>\n",
       "      <td>1772764791</td>\n",
       "      <td>12.518685</td>\n",
       "      <td>41.962276</td>\n",
       "    </tr>\n",
       "  </tbody>\n",
       "</table>\n",
       "</div>"
      ],
      "text/plain": [
       "                    ccomune cprovincia               cregione  \\\n",
       "2327  Casarsa della Delizia  PORDENONE  Friuli-Venezia Giulia   \n",
       "1215                 Padova     PADOVA                 Veneto   \n",
       "502                  Milano     MILANO              Lombardia   \n",
       "2329                  Fanna  PORDENONE  Friuli-Venezia Giulia   \n",
       "1836                   Roma       ROMA                  Lazio   \n",
       "\n",
       "                cnome  canno_inserimento cdata_e_ora_inserimento  \\\n",
       "2327  Real Cerveceria               2013    2013-03-16T13:00:37Z   \n",
       "1215          Joyce's               2011    2011-10-10T07:42:59Z   \n",
       "502          Harp Pub               2014    2014-01-10T21:48:40Z   \n",
       "2329          Friends               2010    2010-06-02T20:35:39Z   \n",
       "1836              ABC               2012    2012-06-01T15:53:42Z   \n",
       "\n",
       "      cidentificatore_in_openstreetmap  clongitudine  clatitudine  \n",
       "2327                         987707322     12.835193    45.958099  \n",
       "1215                        1459133994     11.867749    45.405517  \n",
       "502                         1679695858      9.225522    45.477255  \n",
       "2329                         762701085     12.754235    46.187325  \n",
       "1836                        1772764791     12.518685    41.962276  "
      ]
     },
     "execution_count": 17,
     "metadata": {},
     "output_type": "execute_result"
    }
   ],
   "source": [
    "pub.sample(5)"
   ]
  },
  {
   "cell_type": "code",
   "execution_count": 21,
   "id": "5ddbf1b8-eb37-46e9-8fa3-4454cac87d08",
   "metadata": {},
   "outputs": [
    {
     "data": {
      "text/plain": [
       "(2497, 9)"
      ]
     },
     "execution_count": 21,
     "metadata": {},
     "output_type": "execute_result"
    }
   ],
   "source": [
    "pub.shape"
   ]
  },
  {
   "cell_type": "code",
   "execution_count": 133,
   "id": "3db18b11-3eda-4eae-902f-6d156e570db3",
   "metadata": {},
   "outputs": [
    {
     "name": "stdout",
     "output_type": "stream",
     "text": [
      "<class 'pandas.core.frame.DataFrame'>\n",
      "RangeIndex: 2497 entries, 0 to 2496\n",
      "Data columns (total 9 columns):\n",
      " #   Column                            Non-Null Count  Dtype  \n",
      "---  ------                            --------------  -----  \n",
      " 0   ccomune                           2497 non-null   object \n",
      " 1   cprovincia                        2497 non-null   object \n",
      " 2   cregione                          2497 non-null   object \n",
      " 3   cnome                             2497 non-null   object \n",
      " 4   canno_inserimento                 2497 non-null   int64  \n",
      " 5   cdata_e_ora_inserimento           2497 non-null   object \n",
      " 6   cidentificatore_in_openstreetmap  2497 non-null   int64  \n",
      " 7   clongitudine                      2497 non-null   float64\n",
      " 8   clatitudine                       2497 non-null   float64\n",
      "dtypes: float64(2), int64(2), object(5)\n",
      "memory usage: 175.7+ KB\n",
      "Info:\n",
      " None\n",
      "nomi delle colonne:\n",
      " Index(['ccomune', 'cprovincia', 'cregione', 'cnome', 'canno_inserimento',\n",
      "       'cdata_e_ora_inserimento', 'cidentificatore_in_openstreetmap',\n",
      "       'clongitudine', 'clatitudine'],\n",
      "      dtype='object')\n",
      "tipi di dati:\n",
      " ccomune                              object\n",
      "cprovincia                           object\n",
      "cregione                             object\n",
      "cnome                                object\n",
      "canno_inserimento                     int64\n",
      "cdata_e_ora_inserimento              object\n",
      "cidentificatore_in_openstreetmap      int64\n",
      "clongitudine                        float64\n",
      "clatitudine                         float64\n",
      "dtype: object\n",
      "descrizione statistica:\n",
      "        canno_inserimento  cidentificatore_in_openstreetmap  clongitudine  \\\n",
      "count        2497.000000                      2.497000e+03   2497.000000   \n",
      "mean         2012.816179                      1.847805e+09     11.412889   \n",
      "std             1.915547                      1.057789e+09      2.381334   \n",
      "min          2007.000000                      3.203094e+07      6.708958   \n",
      "25%          2012.000000                      9.195678e+08      9.214541   \n",
      "50%          2013.000000                      1.769765e+09     11.301761   \n",
      "75%          2014.000000                      2.616963e+09     12.682012   \n",
      "max          2016.000000                      4.012443e+09     18.444577   \n",
      "\n",
      "       clatitudine  \n",
      "count  2497.000000  \n",
      "mean     44.106531  \n",
      "std       2.108361  \n",
      "min      36.680786  \n",
      "25%      42.885316  \n",
      "50%      45.049664  \n",
      "75%      45.617151  \n",
      "max      46.983781  \n"
     ]
    }
   ],
   "source": [
    "#quali sono i metadati?\n",
    "#stampiamo il primo elemento\n",
    "#stampiamo l'ultimo elemento\n",
    "#riusciamo a stampare un elemento a caso?\n",
    "#quali sono gli anni di inserimento presenti?\n",
    "#quante attività ci sono nel quadrato di longitudine 9-10 e latitudine 45-46?\n",
    "#quante attività ci sono nella provincia di Vicenza?\n",
    "#quante enoteche ci sono, e come si chiamano?\n",
    "#quante attività ci sono in Lazio e Abruzzo assieme?\n",
    "print(\"Info:\\n\", pub.info())\n",
    "print(\"nomi delle colonne:\\n\", pub.columns)\n",
    "print(\"tipi di dati:\\n\", pub.dtypes)\n",
    "print(\"descrizione statistica:\\n\", pub.describe())"
   ]
  },
  {
   "cell_type": "code",
   "execution_count": 39,
   "id": "6a8e6068-b865-451c-876c-f1cd7d023c1f",
   "metadata": {},
   "outputs": [
    {
     "name": "stdout",
     "output_type": "stream",
     "text": [
      "il primo elemento è: \n",
      "   ccomune cprovincia cregione cnome  canno_inserimento  \\\n",
      "0   ALTRO      ALTRO    ALTRO                     2011   \n",
      "\n",
      "  cdata_e_ora_inserimento  cidentificatore_in_openstreetmap  clongitudine  \\\n",
      "0    2011-06-25T23:17:43Z                        1339088150     13.733257   \n",
      "\n",
      "   clatitudine  \n",
      "0     45.57583  \n",
      "l'ultimo elemento è: \n",
      "          ccomune             cprovincia cregione         cnome  \\\n",
      "2496  Trani (BT)  BARLETTA ANDRIA TRANI   Puglia  Well's Fargo   \n",
      "\n",
      "      canno_inserimento cdata_e_ora_inserimento  \\\n",
      "2496               2009    2009-08-10T12:44:03Z   \n",
      "\n",
      "      cidentificatore_in_openstreetmap  clongitudine  clatitudine  \n",
      "2496                         387223648     16.436765    41.267264  \n",
      "un elemento casuale è: \n",
      "                ccomune cprovincia             cregione               cnome  \\\n",
      "864  Pergine Valsugana     TRENTO  Trentino-Alto Adige  La Vecchia Pergine   \n",
      "\n",
      "     canno_inserimento cdata_e_ora_inserimento  \\\n",
      "864               2016    2016-01-17T10:20:47Z   \n",
      "\n",
      "     cidentificatore_in_openstreetmap  clongitudine  clatitudine  \n",
      "864                         293870954      11.24005    46.058407  \n"
     ]
    }
   ],
   "source": [
    "#stampiamo il primo elemento\n",
    "#stampiamo l'ultimo elemento\n",
    "#riusciamo a stampare un elemento a caso?\n",
    "print (\"il primo elemento è: \\n\", pub.head(1))\n",
    "print (\"l'ultimo elemento è: \\n\",pub.tail(1))\n",
    "print (\"un elemento casuale è: \\n\",pub.sample(1))"
   ]
  },
  {
   "cell_type": "code",
   "execution_count": 53,
   "id": "1395d93d-56d0-40d7-942b-b5166d0de578",
   "metadata": {},
   "outputs": [
    {
     "name": "stdout",
     "output_type": "stream",
     "text": [
      "[2011 2015 2010 2012 2014 2016 2013 2008 2009 2007]\n"
     ]
    }
   ],
   "source": [
    "#quali sono gli anni di inserimento presenti?\n",
    "anno = pub['canno_inserimento'].unique()\n",
    "print (anno)"
   ]
  },
  {
   "cell_type": "code",
   "execution_count": 79,
   "id": "74ee5f59-36fb-4ea6-a0eb-1657003b009a",
   "metadata": {},
   "outputs": [
    {
     "name": "stdout",
     "output_type": "stream",
     "text": [
      "303\n"
     ]
    }
   ],
   "source": [
    "#quante attività ci sono nel quadrato di longitudine 9-10 e latitudine 45-46?\n",
    "quadrato = (pub['clongitudine']> 9) & (pub['clongitudine']< 10) & (pub['clatitudine']> 45) & (pub['clatitudine']< 46)\n",
    "attività = len(pub[quadrato])\n",
    "print (attività)"
   ]
  },
  {
   "cell_type": "code",
   "execution_count": 77,
   "id": "096c6b27-2650-416e-86c2-e86508de0927",
   "metadata": {},
   "outputs": [
    {
     "name": "stdout",
     "output_type": "stream",
     "text": [
      "73\n"
     ]
    }
   ],
   "source": [
    "#quante attività ci sono nella provincia di Vicenza?\n",
    "vicenza = len(pub[pub['cprovincia'] == 'VICENZA'])\n",
    "print (vicenza)"
   ]
  },
  {
   "cell_type": "code",
   "execution_count": 131,
   "id": "71f86c2c-ed35-479e-ad69-80929b135986",
   "metadata": {},
   "outputs": [
    {
     "name": "stdout",
     "output_type": "stream",
     "text": [
      "il numero totale di attività contenenti bar nel nome é: \n",
      " 194 \n",
      " di seguito la lista.\n",
      "46                      Ambharabar\n",
      "70                       Lo Sbarco\n",
      "89      Bar da Mario la Tavernetta\n",
      "92                          Bar OK\n",
      "94                         Bar Bon\n",
      "                   ...            \n",
      "2425         Bar Pizzeria da Peppe\n",
      "2426                   Central Bar\n",
      "2427                  Bar Sa Giara\n",
      "2429                     Blues Bar\n",
      "2474                   bar moderno\n",
      "Name: cnome, Length: 194, dtype: object\n"
     ]
    }
   ],
   "source": [
    "#quanti locali contengono bar nel nome, e come si chiamano?\n",
    "nome = pub[pub['cnome'].str.contains('bar', case=False)]['cnome']\n",
    "print (\"il numero totale di attività contenenti bar nel nome é: \\n\", nome.count(), \"\\n di seguito la lista.\")\n",
    "print (nome)"
   ]
  },
  {
   "cell_type": "code",
   "execution_count": 135,
   "id": "ee639374-1df4-4b63-90af-d7b7da0c1a58",
   "metadata": {},
   "outputs": [
    {
     "name": "stdout",
     "output_type": "stream",
     "text": [
      "0\n"
     ]
    }
   ],
   "source": [
    "#quante attività ci sono in Lazio e Abruzzo assieme?\n",
    "boolena = (pub['cregione'] == 'Lazio') & (pub['cregione'] == 'Abruzzo')\n",
    "numero_lazioeabruzzo = len(pub[boolena])\n",
    "print (numero_lazioeabruzzo)"
   ]
  },
  {
   "cell_type": "code",
   "execution_count": 5,
   "id": "80edbac0-4539-4a90-bfce-f3c984c82d4f",
   "metadata": {},
   "outputs": [],
   "source": [
    "#Carichiamo in un DataFrame il dataset iris.csv dei beginner_datasets e calcoliamo:\n",
    "#La media della lunghezza dei petali di tutto il dataset\n",
    "#La media della lunghezza dei petali per ogni specie di Iris, utilizzando il metodo .groupby()\n",
    "#Media, minimo e massimo della larghezza dei sepali per ogni specie, utilizzando .groupby() e .agg()\n",
    "import pandas as pd\n",
    "file_path = \"/Users/matte/Desktop/Data analyst corso/PYTHON/beginner_datasets/iris.csv\"\n",
    "iris = pd.read_csv(file_path)"
   ]
  },
  {
   "cell_type": "code",
   "execution_count": 9,
   "id": "7b6aad82-56f2-483c-80c3-a44a6272aad7",
   "metadata": {},
   "outputs": [
    {
     "data": {
      "text/html": [
       "<div>\n",
       "<style scoped>\n",
       "    .dataframe tbody tr th:only-of-type {\n",
       "        vertical-align: middle;\n",
       "    }\n",
       "\n",
       "    .dataframe tbody tr th {\n",
       "        vertical-align: top;\n",
       "    }\n",
       "\n",
       "    .dataframe thead th {\n",
       "        text-align: right;\n",
       "    }\n",
       "</style>\n",
       "<table border=\"1\" class=\"dataframe\">\n",
       "  <thead>\n",
       "    <tr style=\"text-align: right;\">\n",
       "      <th></th>\n",
       "      <th>sepal_length</th>\n",
       "      <th>sepal_width</th>\n",
       "      <th>petal_length</th>\n",
       "      <th>petal_width</th>\n",
       "      <th>species</th>\n",
       "    </tr>\n",
       "  </thead>\n",
       "  <tbody>\n",
       "    <tr>\n",
       "      <th>78</th>\n",
       "      <td>6.0</td>\n",
       "      <td>2.9</td>\n",
       "      <td>4.5</td>\n",
       "      <td>1.5</td>\n",
       "      <td>Iris-versicolor</td>\n",
       "    </tr>\n",
       "    <tr>\n",
       "      <th>90</th>\n",
       "      <td>5.5</td>\n",
       "      <td>2.6</td>\n",
       "      <td>4.4</td>\n",
       "      <td>1.2</td>\n",
       "      <td>Iris-versicolor</td>\n",
       "    </tr>\n",
       "    <tr>\n",
       "      <th>49</th>\n",
       "      <td>5.0</td>\n",
       "      <td>3.3</td>\n",
       "      <td>1.4</td>\n",
       "      <td>0.2</td>\n",
       "      <td>Iris-setosa</td>\n",
       "    </tr>\n",
       "    <tr>\n",
       "      <th>86</th>\n",
       "      <td>6.7</td>\n",
       "      <td>3.1</td>\n",
       "      <td>4.7</td>\n",
       "      <td>1.5</td>\n",
       "      <td>Iris-versicolor</td>\n",
       "    </tr>\n",
       "    <tr>\n",
       "      <th>2</th>\n",
       "      <td>4.7</td>\n",
       "      <td>3.2</td>\n",
       "      <td>1.3</td>\n",
       "      <td>0.2</td>\n",
       "      <td>Iris-setosa</td>\n",
       "    </tr>\n",
       "  </tbody>\n",
       "</table>\n",
       "</div>"
      ],
      "text/plain": [
       "    sepal_length  sepal_width  petal_length  petal_width          species\n",
       "78           6.0          2.9           4.5          1.5  Iris-versicolor\n",
       "90           5.5          2.6           4.4          1.2  Iris-versicolor\n",
       "49           5.0          3.3           1.4          0.2      Iris-setosa\n",
       "86           6.7          3.1           4.7          1.5  Iris-versicolor\n",
       "2            4.7          3.2           1.3          0.2      Iris-setosa"
      ]
     },
     "execution_count": 9,
     "metadata": {},
     "output_type": "execute_result"
    }
   ],
   "source": [
    "iris.sample(5)"
   ]
  },
  {
   "cell_type": "code",
   "execution_count": 13,
   "id": "196be682-186f-427c-82ec-3bb7f521484d",
   "metadata": {},
   "outputs": [
    {
     "data": {
      "text/plain": [
       "3.76"
      ]
     },
     "execution_count": 13,
     "metadata": {},
     "output_type": "execute_result"
    }
   ],
   "source": [
    "round(iris['petal_length'].mean(),2)"
   ]
  },
  {
   "cell_type": "code",
   "execution_count": 21,
   "id": "ba0524c3-10be-4e05-9fc4-ecb2da0980a1",
   "metadata": {},
   "outputs": [
    {
     "name": "stdout",
     "output_type": "stream",
     "text": [
      "species\n",
      "Iris-setosa        1.464\n",
      "Iris-versicolor    4.260\n",
      "Iris-virginica     5.552\n",
      "Name: petal_length, dtype: float64\n"
     ]
    }
   ],
   "source": [
    "grouped = iris.groupby('species')['petal_length']\n",
    "lunghezza_media = grouped.mean()\n",
    "print (lunghezza_media)"
   ]
  },
  {
   "cell_type": "code",
   "execution_count": 25,
   "id": "b1d05d3b-65e8-4a6d-b9ac-6266f427cb48",
   "metadata": {},
   "outputs": [
    {
     "name": "stdout",
     "output_type": "stream",
     "text": [
      "                  mean  min  max\n",
      "species                         \n",
      "Iris-setosa      3.418  2.3  4.4\n",
      "Iris-versicolor  2.770  2.0  3.4\n",
      "Iris-virginica   2.974  2.2  3.8\n"
     ]
    }
   ],
   "source": [
    "#Media, minimo e massimo della larghezza dei sepali per ogni specie, utilizzando .groupby() e .agg()\n",
    "grouped = iris.groupby('species')['sepal_width']\n",
    "risultato = grouped.agg(['mean', 'min', 'max'])\n",
    "print(risultato)"
   ]
  },
  {
   "cell_type": "code",
   "execution_count": 27,
   "id": "b6b9c37d-2ff6-40ba-a79b-ef3605338fcc",
   "metadata": {},
   "outputs": [],
   "source": [
    "#Nei beginner_datasets, il dataset wine.csv contiene delle analisi organolettiche su diverse qualità di vini:\n",
    "#Qual è la media di concentrazione alcolica per ogni qualità? Ci sono differenze? E rispetto alla media totale?\n",
    "#C'è differenza nella concentrazione alcolica per vini bianchi e vini rossi?\n",
    "#Rifacendo le analisi delle domande precedenti ma per il pH, cambia qualcosa?\n",
    "#E per i solfati?\n",
    "file_path1 = \"/Users/matte/Desktop/Data analyst corso/PYTHON/beginner_datasets/wine.csv\"\n",
    "vino = pd.read_csv(file_path1)"
   ]
  },
  {
   "cell_type": "code",
   "execution_count": 31,
   "id": "8b99f43b-3207-422e-89b3-07315c223cce",
   "metadata": {},
   "outputs": [
    {
     "data": {
      "text/html": [
       "<div>\n",
       "<style scoped>\n",
       "    .dataframe tbody tr th:only-of-type {\n",
       "        vertical-align: middle;\n",
       "    }\n",
       "\n",
       "    .dataframe tbody tr th {\n",
       "        vertical-align: top;\n",
       "    }\n",
       "\n",
       "    .dataframe thead th {\n",
       "        text-align: right;\n",
       "    }\n",
       "</style>\n",
       "<table border=\"1\" class=\"dataframe\">\n",
       "  <thead>\n",
       "    <tr style=\"text-align: right;\">\n",
       "      <th></th>\n",
       "      <th>fixed acidity</th>\n",
       "      <th>volatile acidity</th>\n",
       "      <th>citric acid</th>\n",
       "      <th>residual sugar</th>\n",
       "      <th>chlorides</th>\n",
       "      <th>free sulfur dioxide</th>\n",
       "      <th>total sulfur dioxide</th>\n",
       "      <th>density</th>\n",
       "      <th>pH</th>\n",
       "      <th>sulphates</th>\n",
       "      <th>alcohol</th>\n",
       "      <th>quality</th>\n",
       "      <th>type</th>\n",
       "    </tr>\n",
       "  </thead>\n",
       "  <tbody>\n",
       "    <tr>\n",
       "      <th>1639</th>\n",
       "      <td>6.7</td>\n",
       "      <td>0.23</td>\n",
       "      <td>0.39</td>\n",
       "      <td>2.5</td>\n",
       "      <td>0.172</td>\n",
       "      <td>63.0</td>\n",
       "      <td>158.0</td>\n",
       "      <td>0.99370</td>\n",
       "      <td>3.11</td>\n",
       "      <td>0.36</td>\n",
       "      <td>9.4</td>\n",
       "      <td>6</td>\n",
       "      <td>white</td>\n",
       "    </tr>\n",
       "    <tr>\n",
       "      <th>5051</th>\n",
       "      <td>8.0</td>\n",
       "      <td>0.24</td>\n",
       "      <td>0.48</td>\n",
       "      <td>6.8</td>\n",
       "      <td>0.047</td>\n",
       "      <td>13.0</td>\n",
       "      <td>134.0</td>\n",
       "      <td>0.99616</td>\n",
       "      <td>3.23</td>\n",
       "      <td>0.70</td>\n",
       "      <td>10.0</td>\n",
       "      <td>5</td>\n",
       "      <td>white</td>\n",
       "    </tr>\n",
       "    <tr>\n",
       "      <th>4260</th>\n",
       "      <td>7.2</td>\n",
       "      <td>0.30</td>\n",
       "      <td>0.26</td>\n",
       "      <td>1.5</td>\n",
       "      <td>0.041</td>\n",
       "      <td>46.0</td>\n",
       "      <td>178.0</td>\n",
       "      <td>0.99154</td>\n",
       "      <td>3.19</td>\n",
       "      <td>0.56</td>\n",
       "      <td>11.3</td>\n",
       "      <td>6</td>\n",
       "      <td>white</td>\n",
       "    </tr>\n",
       "    <tr>\n",
       "      <th>5143</th>\n",
       "      <td>6.0</td>\n",
       "      <td>0.33</td>\n",
       "      <td>0.20</td>\n",
       "      <td>1.8</td>\n",
       "      <td>0.031</td>\n",
       "      <td>49.0</td>\n",
       "      <td>159.0</td>\n",
       "      <td>0.99190</td>\n",
       "      <td>3.41</td>\n",
       "      <td>0.53</td>\n",
       "      <td>11.0</td>\n",
       "      <td>6</td>\n",
       "      <td>white</td>\n",
       "    </tr>\n",
       "    <tr>\n",
       "      <th>5637</th>\n",
       "      <td>6.4</td>\n",
       "      <td>0.29</td>\n",
       "      <td>0.57</td>\n",
       "      <td>1.0</td>\n",
       "      <td>0.060</td>\n",
       "      <td>15.0</td>\n",
       "      <td>120.0</td>\n",
       "      <td>0.99240</td>\n",
       "      <td>3.06</td>\n",
       "      <td>0.41</td>\n",
       "      <td>9.5</td>\n",
       "      <td>5</td>\n",
       "      <td>white</td>\n",
       "    </tr>\n",
       "  </tbody>\n",
       "</table>\n",
       "</div>"
      ],
      "text/plain": [
       "      fixed acidity  volatile acidity  citric acid  residual sugar  chlorides  \\\n",
       "1639            6.7              0.23         0.39             2.5      0.172   \n",
       "5051            8.0              0.24         0.48             6.8      0.047   \n",
       "4260            7.2              0.30         0.26             1.5      0.041   \n",
       "5143            6.0              0.33         0.20             1.8      0.031   \n",
       "5637            6.4              0.29         0.57             1.0      0.060   \n",
       "\n",
       "      free sulfur dioxide  total sulfur dioxide  density    pH  sulphates  \\\n",
       "1639                 63.0                 158.0  0.99370  3.11       0.36   \n",
       "5051                 13.0                 134.0  0.99616  3.23       0.70   \n",
       "4260                 46.0                 178.0  0.99154  3.19       0.56   \n",
       "5143                 49.0                 159.0  0.99190  3.41       0.53   \n",
       "5637                 15.0                 120.0  0.99240  3.06       0.41   \n",
       "\n",
       "      alcohol  quality   type  \n",
       "1639      9.4        6  white  \n",
       "5051     10.0        5  white  \n",
       "4260     11.3        6  white  \n",
       "5143     11.0        6  white  \n",
       "5637      9.5        5  white  "
      ]
     },
     "execution_count": 31,
     "metadata": {},
     "output_type": "execute_result"
    }
   ],
   "source": [
    "vino.sample(5)"
   ]
  },
  {
   "cell_type": "code",
   "execution_count": 49,
   "id": "771d7898-736b-4d74-9680-c236db1e1da8",
   "metadata": {},
   "outputs": [
    {
     "name": "stdout",
     "output_type": "stream",
     "text": [
      "la media alcolica del dataset è di: 10.49\n",
      "la media alcolica per ogni quality è di: \n",
      " quality\n",
      "3    10.22\n",
      "4    10.18\n",
      "5     9.84\n",
      "6    10.59\n",
      "7    11.39\n",
      "8    11.68\n",
      "9    12.18\n",
      "Name: alcohol, dtype: float64\n"
     ]
    }
   ],
   "source": [
    "#Qual è la media di concentrazione alcolica per ogni qualità? Ci sono differenze? E rispetto alla media totale?\n",
    "media_alcol = round(vino['alcohol'].mean(),2)\n",
    "media_x_quality = round(vino.groupby('quality')['alcohol'].mean(),2)\n",
    "print (\"la media alcolica del dataset è di:\", media_alcol)\n",
    "print (\"la media alcolica per ogni quality è di: \\n\", media_x_quality)"
   ]
  },
  {
   "cell_type": "code",
   "execution_count": 57,
   "id": "5231cee1-1253-486d-a8f7-e6d8df3b50c5",
   "metadata": {},
   "outputs": [
    {
     "name": "stdout",
     "output_type": "stream",
     "text": [
      "type\n",
      "red      10.42\n",
      "white    10.51\n",
      "Name: alcohol, dtype: float64\n"
     ]
    }
   ],
   "source": [
    "#C'è differenza nella concentrazione alcolica per vini bianchi e vini rossi?\n",
    "media_vini = round(vino.groupby('type')['alcohol'].mean(),2)\n",
    "print (media_vini)"
   ]
  },
  {
   "cell_type": "code",
   "execution_count": 59,
   "id": "1b824612-3579-446a-aa61-5ac8a2ee1be5",
   "metadata": {},
   "outputs": [
    {
     "name": "stdout",
     "output_type": "stream",
     "text": [
      "type\n",
      "red      3.31\n",
      "white    3.19\n",
      "Name: pH, dtype: float64\n"
     ]
    }
   ],
   "source": [
    "#Rifacendo le analisi delle domande precedenti ma per il pH, cambia qualcosa?\n",
    "media_pH = round(vino.groupby('type')['pH'].mean(),2)\n",
    "print (media_pH)"
   ]
  },
  {
   "cell_type": "code",
   "execution_count": 61,
   "id": "f35f1c35-cb40-4bb3-9634-d43a966ff690",
   "metadata": {},
   "outputs": [
    {
     "name": "stdout",
     "output_type": "stream",
     "text": [
      "type\n",
      "red      0.66\n",
      "white    0.49\n",
      "Name: sulphates, dtype: float64\n"
     ]
    }
   ],
   "source": [
    "#E per i solfati?\n",
    "media_solfati = round(vino.groupby('type')['sulphates'].mean(),2)\n",
    "print (media_solfati)"
   ]
  },
  {
   "cell_type": "code",
   "execution_count": 63,
   "id": "dcac2ce7-7a9b-4538-ab43-6ecf258c372a",
   "metadata": {},
   "outputs": [],
   "source": [
    "#Nei beginner_datasets, il file boston.csv contiene il Boston Housing Dataset,\n",
    "#che deriva dalle informazioni raccolte dal Census Service degli Stati Uniti sulle abitazioni nell'area di Boston.\n",
    "#Di seguito vengono descritte le colonne del dataset:\n",
    "#CRIM - tasso di criminalità pro capite per città • ZN - proporzione di terreni residenziali suddivisi in zone per lotti superiori a 25.000 piedi quadrati. • INDUS - percentuale di acri di attività commerciali non al dettaglio per città. • CHAS - variabile dummy del fiume Charles (1 se il tratto costeggia il fiume; 0 altrimenti)\n",
    "#NOX - concentrazione di ossidi di azoto (parti per 10 milioni). • RM - numero medio di stanze per abitazione • AGE - proporzione di unità abitative occupate da proprietari costruite prima del 1940 • DIS - distanze ponderate da cinque centri occupazionali di Boston • RAD - indice di accessibilità alle autostrade radiali\n",
    "#TAX - aliquota dell'imposta fondiaria sul valore pieno per 10.000 dollari • PTRATIO - rapporto alunni-insegnanti per città • BLACK - la percentuale di neri per città • LSTAT - % di popolazione di condizione più bassa • MEDV - Valore mediano delle case, espresso in migliaia di dollari\n",
    "#La media del prezzo delle case cambia a seconda della distanza dal fiume Charles?\n",
    "#Si nota una correlazione tra il tasso di criminalità e il valore delle abitazioni? Come si può spiegare il risultato?\n",
    "#Qual è la media del numero di stanze rispetto al rapporto alunni-insegnanti? E del valore delle case?\n",
    "#Appare esserci una qualche correlazione? Come si può spiegare il risultato?\n",
    "#Rispetto all'accessibilità alle autostrade, cambia qualcosa la media delle età delle abitazioni? E del numero di stanze? E delle tasse?\n",
    "file_path2 = \"/Users/matte/Desktop/Data analyst corso/PYTHON/beginner_datasets/boston.csv\"\n",
    "boston = pd.read_csv(file_path2)"
   ]
  },
  {
   "cell_type": "code",
   "execution_count": 65,
   "id": "8f682b37-0b58-4b0a-bf5d-f5413f2b4c9d",
   "metadata": {},
   "outputs": [
    {
     "data": {
      "text/html": [
       "<div>\n",
       "<style scoped>\n",
       "    .dataframe tbody tr th:only-of-type {\n",
       "        vertical-align: middle;\n",
       "    }\n",
       "\n",
       "    .dataframe tbody tr th {\n",
       "        vertical-align: top;\n",
       "    }\n",
       "\n",
       "    .dataframe thead th {\n",
       "        text-align: right;\n",
       "    }\n",
       "</style>\n",
       "<table border=\"1\" class=\"dataframe\">\n",
       "  <thead>\n",
       "    <tr style=\"text-align: right;\">\n",
       "      <th></th>\n",
       "      <th>crim</th>\n",
       "      <th>zn</th>\n",
       "      <th>indus</th>\n",
       "      <th>chas</th>\n",
       "      <th>nox</th>\n",
       "      <th>rm</th>\n",
       "      <th>age</th>\n",
       "      <th>dis</th>\n",
       "      <th>rad</th>\n",
       "      <th>tax</th>\n",
       "      <th>ptratio</th>\n",
       "      <th>black</th>\n",
       "      <th>lstat</th>\n",
       "      <th>medv</th>\n",
       "    </tr>\n",
       "  </thead>\n",
       "  <tbody>\n",
       "    <tr>\n",
       "      <th>318</th>\n",
       "      <td>0.40202</td>\n",
       "      <td>0.0</td>\n",
       "      <td>9.90</td>\n",
       "      <td>0</td>\n",
       "      <td>0.544</td>\n",
       "      <td>6.382</td>\n",
       "      <td>67.2</td>\n",
       "      <td>3.5325</td>\n",
       "      <td>4</td>\n",
       "      <td>304</td>\n",
       "      <td>18.4</td>\n",
       "      <td>395.21</td>\n",
       "      <td>10.36</td>\n",
       "      <td>23.1</td>\n",
       "    </tr>\n",
       "    <tr>\n",
       "      <th>404</th>\n",
       "      <td>41.52920</td>\n",
       "      <td>0.0</td>\n",
       "      <td>18.10</td>\n",
       "      <td>0</td>\n",
       "      <td>0.693</td>\n",
       "      <td>5.531</td>\n",
       "      <td>85.4</td>\n",
       "      <td>1.6074</td>\n",
       "      <td>24</td>\n",
       "      <td>666</td>\n",
       "      <td>20.2</td>\n",
       "      <td>329.46</td>\n",
       "      <td>27.38</td>\n",
       "      <td>8.5</td>\n",
       "    </tr>\n",
       "    <tr>\n",
       "      <th>196</th>\n",
       "      <td>0.04011</td>\n",
       "      <td>80.0</td>\n",
       "      <td>1.52</td>\n",
       "      <td>0</td>\n",
       "      <td>0.404</td>\n",
       "      <td>7.287</td>\n",
       "      <td>34.1</td>\n",
       "      <td>7.3090</td>\n",
       "      <td>2</td>\n",
       "      <td>329</td>\n",
       "      <td>12.6</td>\n",
       "      <td>396.90</td>\n",
       "      <td>4.08</td>\n",
       "      <td>33.3</td>\n",
       "    </tr>\n",
       "    <tr>\n",
       "      <th>478</th>\n",
       "      <td>10.23300</td>\n",
       "      <td>0.0</td>\n",
       "      <td>18.10</td>\n",
       "      <td>0</td>\n",
       "      <td>0.614</td>\n",
       "      <td>6.185</td>\n",
       "      <td>96.7</td>\n",
       "      <td>2.1705</td>\n",
       "      <td>24</td>\n",
       "      <td>666</td>\n",
       "      <td>20.2</td>\n",
       "      <td>379.70</td>\n",
       "      <td>18.03</td>\n",
       "      <td>14.6</td>\n",
       "    </tr>\n",
       "    <tr>\n",
       "      <th>440</th>\n",
       "      <td>22.05110</td>\n",
       "      <td>0.0</td>\n",
       "      <td>18.10</td>\n",
       "      <td>0</td>\n",
       "      <td>0.740</td>\n",
       "      <td>5.818</td>\n",
       "      <td>92.4</td>\n",
       "      <td>1.8662</td>\n",
       "      <td>24</td>\n",
       "      <td>666</td>\n",
       "      <td>20.2</td>\n",
       "      <td>391.45</td>\n",
       "      <td>22.11</td>\n",
       "      <td>10.5</td>\n",
       "    </tr>\n",
       "  </tbody>\n",
       "</table>\n",
       "</div>"
      ],
      "text/plain": [
       "         crim    zn  indus  chas    nox     rm   age     dis  rad  tax  \\\n",
       "318   0.40202   0.0   9.90     0  0.544  6.382  67.2  3.5325    4  304   \n",
       "404  41.52920   0.0  18.10     0  0.693  5.531  85.4  1.6074   24  666   \n",
       "196   0.04011  80.0   1.52     0  0.404  7.287  34.1  7.3090    2  329   \n",
       "478  10.23300   0.0  18.10     0  0.614  6.185  96.7  2.1705   24  666   \n",
       "440  22.05110   0.0  18.10     0  0.740  5.818  92.4  1.8662   24  666   \n",
       "\n",
       "     ptratio   black  lstat  medv  \n",
       "318     18.4  395.21  10.36  23.1  \n",
       "404     20.2  329.46  27.38   8.5  \n",
       "196     12.6  396.90   4.08  33.3  \n",
       "478     20.2  379.70  18.03  14.6  \n",
       "440     20.2  391.45  22.11  10.5  "
      ]
     },
     "execution_count": 65,
     "metadata": {},
     "output_type": "execute_result"
    }
   ],
   "source": [
    "boston.sample(5)"
   ]
  },
  {
   "cell_type": "code",
   "execution_count": 73,
   "id": "7abb77a0-385d-4767-95bb-b93ad4417c58",
   "metadata": {},
   "outputs": [
    {
     "name": "stdout",
     "output_type": "stream",
     "text": [
      "1 se il tratto costeggia il fiume; 0 altrimenti\n",
      " chas\n",
      "0    22.093843\n",
      "1    28.440000\n",
      "Name: medv, dtype: float64\n"
     ]
    }
   ],
   "source": [
    "#La media del prezzo delle case cambia a seconda della distanza dal fiume Charles?\n",
    "media_case = boston.groupby('chas')['medv'].mean()\n",
    "print (\"1 se il tratto costeggia il fiume; 0 altrimenti\\n\", media_case)"
   ]
  },
  {
   "cell_type": "code",
   "execution_count": 85,
   "id": "094f448d-13ed-4385-b2a5-befbb647f2ce",
   "metadata": {},
   "outputs": [
    {
     "name": "stdout",
     "output_type": "stream",
     "text": [
      "Correlazione tra CRIM e MEDV: -0.38830460858681165\n"
     ]
    },
    {
     "data": {
      "image/png": "[encoded data removed]",
      "text/plain": [
       "<Figure size 1000x600 with 1 Axes>"
      ]
     },
     "metadata": {},
     "output_type": "display_data"
    }
   ],
   "source": [
    "#Si nota una correlazione tra il tasso di criminalità e il valore delle abitazioni? Come si può spiegare il risultato?\n",
    "import pandas as pd\n",
    "import seaborn as sns\n",
    "import matplotlib.pyplot as plt\n",
    "\n",
    "# Calcola la correlazione tra `CRIM` e `MEDV`\n",
    "correlation = boston['crim'].corr(boston['medv'])\n",
    "print(f\"Correlazione tra CRIM e MEDV: {correlation}\")\n",
    "\n",
    "# Visualizza i dati usando un grafico scatter\n",
    "plt.figure(figsize=(10, 6))\n",
    "sns.scatterplot(x='crim', y='medv', data=boston)\n",
    "plt.title('Relazione tra Tasso di Criminalità e Prezzi delle Case')\n",
    "plt.xlabel('Tasso di Criminalità (CRIM)')\n",
    "plt.ylabel('Prezzi delle Case (MEDV)')\n",
    "plt.show()"
   ]
  },
  {
   "cell_type": "code",
   "execution_count": 107,
   "id": "22238119-f556-4aa9-b42a-415b9a93db64",
   "metadata": {},
   "outputs": [
    {
     "name": "stdout",
     "output_type": "stream",
     "text": [
      "ptratio\n",
      "12.6    7.222667\n",
      "13.0    7.406167\n",
      "13.6    7.923000\n",
      "14.4    7.875000\n",
      "14.7    6.246235\n",
      "14.8    6.752333\n",
      "14.9    7.311250\n",
      "15.1    6.816000\n",
      "15.2    6.421923\n",
      "15.3    6.705333\n",
      "15.5    7.241000\n",
      "15.6    6.702000\n",
      "15.9    6.997000\n",
      "16.0    6.230600\n",
      "16.1    6.428800\n",
      "16.4    6.139667\n",
      "16.6    6.344188\n",
      "16.8    6.146750\n",
      "16.9    6.016400\n",
      "17.0    6.868250\n",
      "17.3    6.383000\n",
      "17.4    7.212333\n",
      "17.6    6.822429\n",
      "17.8    6.496130\n",
      "17.9    6.134818\n",
      "18.0    7.218600\n",
      "18.2    6.283000\n",
      "18.3    6.520500\n",
      "18.4    6.285938\n",
      "18.5    6.288750\n",
      "18.6    6.111588\n",
      "18.7    6.406556\n",
      "18.8    5.956000\n",
      "18.9    5.785667\n",
      "19.0    6.453750\n",
      "19.1    6.234882\n",
      "19.2    6.053632\n",
      "19.6    6.224000\n",
      "19.7    6.303250\n",
      "20.1    5.585400\n",
      "20.2    6.024021\n",
      "20.9    6.266273\n",
      "21.0    6.039778\n",
      "21.1    5.888000\n",
      "21.2    6.028533\n",
      "22.0    5.799500\n",
      "Name: rm, dtype: float64\n",
      "ptratio\n",
      "12.6    32.733333\n",
      "13.0    38.025000\n",
      "13.6    50.000000\n",
      "14.4    50.000000\n",
      "14.7    25.717647\n",
      "14.8    25.433333\n",
      "14.9    40.475000\n",
      "15.1    31.600000\n",
      "15.2    26.276923\n",
      "15.3    26.066667\n",
      "15.5    32.700000\n",
      "15.6    30.100000\n",
      "15.9    30.250000\n",
      "16.0    24.320000\n",
      "16.1    24.880000\n",
      "16.4    23.216667\n",
      "16.6    23.856250\n",
      "16.8    22.150000\n",
      "16.9    19.640000\n",
      "17.0    30.600000\n",
      "17.3    24.700000\n",
      "17.4    33.544444\n",
      "17.6    30.700000\n",
      "17.8    26.956522\n",
      "17.9    22.363636\n",
      "18.0    33.100000\n",
      "18.2    22.150000\n",
      "18.3    27.100000\n",
      "18.4    23.131250\n",
      "18.5    23.800000\n",
      "18.6    24.335294\n",
      "18.7    25.122222\n",
      "18.8    17.350000\n",
      "18.9    20.100000\n",
      "19.0    24.900000\n",
      "19.1    22.894118\n",
      "19.2    22.805263\n",
      "19.6    22.575000\n",
      "19.7    21.787500\n",
      "20.1    12.800000\n",
      "20.2    16.611429\n",
      "20.9    21.118182\n",
      "21.0    17.351852\n",
      "21.1    18.900000\n",
      "21.2    17.093333\n",
      "22.0    19.400000\n",
      "Name: medv, dtype: float64\n"
     ]
    },
    {
     "data": {
      "image/png": "[encoded data removed]",
      "text/plain": [
       "<Figure size 1000x600 with 1 Axes>"
      ]
     },
     "metadata": {},
     "output_type": "display_data"
    }
   ],
   "source": [
    "#Qual è la media del numero di stanze rispetto al rapporto alunni-insegnanti? E del valore delle case?\n",
    "media_rm_ptratio = boston.groupby('ptratio')['rm'].mean()\n",
    "media_medv_ptratio = boston.groupby('ptratio')['medv'].mean()\n",
    "print (media_rm_ptratio)\n",
    "print (media_medv_ptratio)\n",
    "plt.figure(figsize=(10, 6))\n",
    "sns.scatterplot(x='rm', y='medv', data=boston)\n",
    "plt.title('Relazione tra numero di stanze e alunni-insegnanti')\n",
    "plt.xlabel('numero di stanze')\n",
    "plt.ylabel('alunni-insegnanti')\n",
    "plt.show()"
   ]
  },
  {
   "cell_type": "code",
   "execution_count": null,
   "id": "ec4376fe-69b3-4798-b45e-51160648dffe",
   "metadata": {},
   "outputs": [],
   "source": [
    "#Appare esserci una qualche correlazione? Come si può spiegare il risultato?\n",
    "#Rispetto all'accessibilità alle autostrade, cambia qualcosa la media delle età delle abitazioni? E del numero di stanze? E delle tasse?"
   ]
  },
  {
   "cell_type": "code",
   "execution_count": 109,
   "id": "7c173fd1-ee91-4531-9c78-67205278b715",
   "metadata": {},
   "outputs": [
    {
     "data": {
      "text/html": [
       "<div>\n",
       "<style scoped>\n",
       "    .dataframe tbody tr th:only-of-type {\n",
       "        vertical-align: middle;\n",
       "    }\n",
       "\n",
       "    .dataframe tbody tr th {\n",
       "        vertical-align: top;\n",
       "    }\n",
       "\n",
       "    .dataframe thead th {\n",
       "        text-align: right;\n",
       "    }\n",
       "</style>\n",
       "<table border=\"1\" class=\"dataframe\">\n",
       "  <thead>\n",
       "    <tr style=\"text-align: right;\">\n",
       "      <th></th>\n",
       "      <th>employee_id</th>\n",
       "      <th>name</th>\n",
       "      <th>department_id</th>\n",
       "      <th>department_name</th>\n",
       "      <th>location</th>\n",
       "    </tr>\n",
       "  </thead>\n",
       "  <tbody>\n",
       "    <tr>\n",
       "      <th>0</th>\n",
       "      <td>101</td>\n",
       "      <td>Alice</td>\n",
       "      <td>1</td>\n",
       "      <td>HR</td>\n",
       "      <td>New York</td>\n",
       "    </tr>\n",
       "    <tr>\n",
       "      <th>1</th>\n",
       "      <td>103</td>\n",
       "      <td>Charlie</td>\n",
       "      <td>1</td>\n",
       "      <td>HR</td>\n",
       "      <td>New York</td>\n",
       "    </tr>\n",
       "    <tr>\n",
       "      <th>2</th>\n",
       "      <td>102</td>\n",
       "      <td>Bob</td>\n",
       "      <td>2</td>\n",
       "      <td>IT</td>\n",
       "      <td>San Francisco</td>\n",
       "    </tr>\n",
       "    <tr>\n",
       "      <th>3</th>\n",
       "      <td>104</td>\n",
       "      <td>David</td>\n",
       "      <td>2</td>\n",
       "      <td>IT</td>\n",
       "      <td>San Francisco</td>\n",
       "    </tr>\n",
       "    <tr>\n",
       "      <th>4</th>\n",
       "      <td>105</td>\n",
       "      <td>Emma</td>\n",
       "      <td>3</td>\n",
       "      <td>Finance</td>\n",
       "      <td>Chicago</td>\n",
       "    </tr>\n",
       "  </tbody>\n",
       "</table>\n",
       "</div>"
      ],
      "text/plain": [
       "   employee_id     name  department_id department_name       location\n",
       "0          101    Alice              1              HR       New York\n",
       "1          103  Charlie              1              HR       New York\n",
       "2          102      Bob              2              IT  San Francisco\n",
       "3          104    David              2              IT  San Francisco\n",
       "4          105     Emma              3         Finance        Chicago"
      ]
     },
     "execution_count": 109,
     "metadata": {},
     "output_type": "execute_result"
    }
   ],
   "source": [
    "#Abbiamo un DataFrame di dipendenti:\n",
    "employees_df = pd.DataFrame({ 'employee_id': [101, 102, 103, 104, 105], 'name': ['Alice', 'Bob', 'Charlie', 'David', 'Emma'], 'department_id': [1, 2, 1, 2, 3] })\n",
    "#E un DataFrame di dipartimenti:\n",
    "departments_df = pd.DataFrame({ 'department_id': [1, 2, 3], 'department_name': ['HR', 'IT', 'Finance'], 'location': ['New York', 'San Francisco', 'Chicago'] })\n",
    "#Unire questi DataFrame in base alla colonna comune department_id, in modo da avere nel risultato informazioni sia sui dipendenti che sui dipartimenti, usando la funzione .merge()\n",
    "#Per ogni DataFrame, trasformare la colonna department_id nell'indice, facendo in modo che la modifica sia permanente; poi unire i due dataset mediante il metodo .join()\n",
    "#Ci sono differenze nel risultato? Quali? Perché?\n",
    "pd.merge(employees_df, departments_df, how='inner', on='department_id')"
   ]
  },
  {
   "cell_type": "code",
   "execution_count": 111,
   "id": "102adf34-f688-4d18-a16b-f0b987ddeee3",
   "metadata": {},
   "outputs": [],
   "source": [
    "employees_df_modificato = employees_df.set_index('department_id')\n",
    "departments_df_modificato = departments_df.set_index('department_id')"
   ]
  },
  {
   "cell_type": "code",
   "execution_count": 113,
   "id": "00ff3c2e-fafa-4e5d-891c-27d8804bc6d4",
   "metadata": {},
   "outputs": [
    {
     "data": {
      "text/html": [
       "<div>\n",
       "<style scoped>\n",
       "    .dataframe tbody tr th:only-of-type {\n",
       "        vertical-align: middle;\n",
       "    }\n",
       "\n",
       "    .dataframe tbody tr th {\n",
       "        vertical-align: top;\n",
       "    }\n",
       "\n",
       "    .dataframe thead th {\n",
       "        text-align: right;\n",
       "    }\n",
       "</style>\n",
       "<table border=\"1\" class=\"dataframe\">\n",
       "  <thead>\n",
       "    <tr style=\"text-align: right;\">\n",
       "      <th></th>\n",
       "      <th>employee_id</th>\n",
       "      <th>name</th>\n",
       "      <th>department_name</th>\n",
       "      <th>location</th>\n",
       "    </tr>\n",
       "    <tr>\n",
       "      <th>department_id</th>\n",
       "      <th></th>\n",
       "      <th></th>\n",
       "      <th></th>\n",
       "      <th></th>\n",
       "    </tr>\n",
       "  </thead>\n",
       "  <tbody>\n",
       "    <tr>\n",
       "      <th>1</th>\n",
       "      <td>101</td>\n",
       "      <td>Alice</td>\n",
       "      <td>HR</td>\n",
       "      <td>New York</td>\n",
       "    </tr>\n",
       "    <tr>\n",
       "      <th>1</th>\n",
       "      <td>103</td>\n",
       "      <td>Charlie</td>\n",
       "      <td>HR</td>\n",
       "      <td>New York</td>\n",
       "    </tr>\n",
       "    <tr>\n",
       "      <th>2</th>\n",
       "      <td>102</td>\n",
       "      <td>Bob</td>\n",
       "      <td>IT</td>\n",
       "      <td>San Francisco</td>\n",
       "    </tr>\n",
       "    <tr>\n",
       "      <th>2</th>\n",
       "      <td>104</td>\n",
       "      <td>David</td>\n",
       "      <td>IT</td>\n",
       "      <td>San Francisco</td>\n",
       "    </tr>\n",
       "    <tr>\n",
       "      <th>3</th>\n",
       "      <td>105</td>\n",
       "      <td>Emma</td>\n",
       "      <td>Finance</td>\n",
       "      <td>Chicago</td>\n",
       "    </tr>\n",
       "  </tbody>\n",
       "</table>\n",
       "</div>"
      ],
      "text/plain": [
       "               employee_id     name department_name       location\n",
       "department_id                                                     \n",
       "1                      101    Alice              HR       New York\n",
       "1                      103  Charlie              HR       New York\n",
       "2                      102      Bob              IT  San Francisco\n",
       "2                      104    David              IT  San Francisco\n",
       "3                      105     Emma         Finance        Chicago"
      ]
     },
     "execution_count": 113,
     "metadata": {},
     "output_type": "execute_result"
    }
   ],
   "source": [
    "employees_df_modificato.join(departments_df_modificato, on='department_id', how = 'inner')"
   ]
  },
  {
   "cell_type": "code",
   "execution_count": null,
   "id": "63926b06-31ab-44df-8ead-77d7ed65e36c",
   "metadata": {},
   "outputs": [],
   "source": []
  }
 ],
 "metadata": {
  "kernelspec": {
   "display_name": "Python 3 (ipykernel)",
   "language": "python",
   "name": "python3"
  },
  "language_info": {
   "codemirror_mode": {
    "name": "ipython",
    "version": 3
   },
   "file_extension": ".py",
   "mimetype": "text/x-python",
   "name": "python",
   "nbconvert_exporter": "python",
   "pygments_lexer": "ipython3",
   "version": "3.11.7"
  }
 },
 "nbformat": 4,
 "nbformat_minor": 5
}
