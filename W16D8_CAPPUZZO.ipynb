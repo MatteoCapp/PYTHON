{
 "cells": [
  {
   "cell_type": "code",
   "execution_count": null,
   "id": "53d2cbe0-a2f7-4702-8a31-f37b70af0c64",
   "metadata": {},
   "outputs": [],
   "source": [
    "#Il committente richiede di avere un report su casi e vaccinazioni in diverse aree del mondo;\n",
    "#a tal fine, richiede di utilizzare il dataset, curato da Our World in Data, \n",
    "#all'indirizzo https://github.com/owid/covid-19-data/tree/master/public/data;\n",
    "#alla voce \"🗂 dataset\" scaricare il dataset nel formato che si preferisce.\n",
    "#Si richiede di verificare le dimensioni del dataset e i relativi metadati; Download our complete COVID-19\n",
    "#Si chiede poi per ogni continente di trovare il numero di casi totali avvenuti in quello stesso continente;\n",
    "#si chiede di non considerare eventuali locazioni che nel dataset non appartengono ad alcun continente;\n",
    "#Sempre riguardo i casi totali, si chiede di scrivere del codice che, date due variabili contenenti i nomi di continenti,\n",
    "#ne confronti i seguenti relativi descrittori statistici: valore massimo, media,\n",
    "#e percentuale rispetto al numero dei casi totali nel mondo (calcolati anche sulle locazioni senza indicazione di continente);\n",
    "#Selezionare i dati relativi all'Italia nel 2022, e mostrare con un grafico adeguato l'evoluzione del casi totali rispetto alla data.\n",
    "#Mostrare poi con un grafico adeguato il numero di nuovi casi rispetto alla data (filtrare i dati se necessario).\n",
    "#Mostrare infine un grafico che mostra l'andamento della somma cumulativa nuovi casi del 2022, e commentare se ci sono similarità con l'andamento del numero dei casi totali;\n",
    "#Riguardo le nazioni di Italia, Germania e Francia, mostrare in un boxplot la differenza tra queste nazioni riguardo il numero di pazienti in terapia intensiva\n",
    "#(Intensive Care Unit, ICU) da maggio 2022 (incluso) ad aprile 2023 (incluso), e scrivere un breve commento a riguardo;\n",
    "#Riguardo le nazioni di Italia, Germania, Francia e Spagna nel 2023, mostrare la somma dei pazienti ospitalizzati per ognuna\n",
    "#se ci sono dati nulli, suggerire se può essere possibile gestirli tramite sostituzione o meno."
   ]
  },
  {
   "cell_type": "code",
   "execution_count": null,
   "id": "21ebc610-3ed6-4daf-878f-40b7163f811f",
   "metadata": {},
   "outputs": [],
   "source": [
    "import seaborn as sns\n",
    "import matplotlib.pyplot as plt\n",
    "import pandas as pd\n",
    "covid = pd.read_csv('/Users/matte/Desktop/Data analyst corso/PYTHON/database vari/owid-covid-data.csv')\n",
    "#verifichiamo se il file caricato è corretto e come è composto\n",
    "covid.sample(5)"
   ]
  },
  {
   "cell_type": "code",
   "execution_count": null,
   "id": "d7186375-8132-4876-b3be-5c421c919dce",
   "metadata": {},
   "outputs": [],
   "source": [
    "#Si richiede di verificare le dimensioni del dataset e i relativi metadati;\n",
    "print (\"Il dataset contiene:\\033[0m\", covid.shape[0], \"righe e \", covid.shape[1], \"colonne.\", \"\\n\\n\")\n",
    "print(\"Di seguito la lista delle colonne del dataset:\\n\",covid.columns, \"\\n\\n\")\n",
    "print (\"Di seguito troverete informazioni varie riguardo i tipi di dati presenti nel dataset:\\n\", covid.info(), \"\\n\\n\")\n",
    "print (\"Di seguito troverete informazioni statistiche varie, come conteggio, media, deviazione standard, minimo e massimo:\\n\", covid.describe())"
   ]
  },
  {
   "cell_type": "code",
   "execution_count": null,
   "id": "922f0e6c-c5eb-4c38-9271-669d2a5391f7",
   "metadata": {},
   "outputs": [],
   "source": [
    "#Si chiede poi per ogni continente di trovare il numero di casi totali avvenuti in quello stesso continente;\n",
    "#si chiede di non considerare eventuali locazioni che nel dataset non appartengono ad alcun continente;\n",
    "casi_per_continente =(covid.dropna(subset=['continent']).groupby('continent')['total_cases'].sum())\n",
    "print(\"\\033[1mDi seguito troverete la lista dei continenti con il totale dei casi,\\nnota bene che si tratta di un numero in notazione scientifica:\\033[0m\\n\", casi_per_continente)"
   ]
  },
  {
   "cell_type": "code",
   "execution_count": null,
   "id": "6f2409c7-56eb-490a-ae8a-a99f5a03d7c0",
   "metadata": {},
   "outputs": [],
   "source": [
    "#Sempre riguardo i casi totali, si chiede di scrivere del codice che, date due variabili contenenti i nomi di continenti,\n",
    "#ne confronti i seguenti relativi descrittori statistici: valore massimo, media,e percentuale\n",
    "#rispetto al numero dei casi totali nel mondo (calcolati anche sulle locazioni senza indicazione di continente);\n",
    "\n",
    "continenti_disponibili = covid['continent'].dropna().unique()\n",
    "print(\"i continenti disponibili sono:\", continenti_disponibili)\n",
    "continente1 = input(\"Scegli il primo continente che desideri comparare dalla lista sopra: \")\n",
    "continente2 = input(\"Scegli il secondo continente che desideri comparare dalla lista sopra: \")\n",
    "if continente1 not in continenti_disponibili:\n",
    "    print(\"il primo continente scelto non è valido, guarda i nomi dalla lista qui sopra e fai attenzione a minuscole e maiuscole.\")\n",
    "elif continente2 not in continenti_disponibili:\n",
    "    print(\"il secondo continente scelto non è valido, guarda i nomi dalla lista qui sopra e fai attenzione a minuscole e maiuscole.\")\n",
    "else:\n",
    "    casi_totali = covid['total_cases'].sum()\n",
    "    casi_totali_senza_continente = covid[covid['continent'].isna()]['total_cases'].sum()\n",
    "    max_continente1 = covid[covid['continent'] == continente1]['total_cases'].max()\n",
    "    max_continente2 = covid[covid['continent'] == continente2]['total_cases'].max()\n",
    "    media_continente1 = round(covid[covid['continent'] == continente1]['total_cases'].mean(), 2)\n",
    "    media_continente2 = round(covid[covid['continent'] == continente2]['total_cases'].mean(), 2) \n",
    "    percentule_continente1 = round((covid[covid['continent'] == continente1]['total_cases'].sum() / casi_totali) * 100,2)\n",
    "    percentule_continente2 = round((covid[covid['continent'] == continente2]['total_cases'].sum() / casi_totali) * 100,2)\n",
    "\n",
    "\n",
    "    print(\"la sommatoria dei casi che risultano senza continente nel dataset è:\\n\", casi_totali - casi_totali_senza_continente)\n",
    "    print(\"i continenti scelti sono:\\n\", continente1, \"e\", continente2)\n",
    "    print(\"i valori massimi dei due continenti sono:\\n\", continente1, \":\", max_continente1, \"e\",continente2, \":\", max_continente2)\n",
    "    print(\"i valori medi dei due continenti sono:\\n\", continente1, \":\", media_continente1, \"e\",continente2, \":\", media_continente2)\n",
    "    print(\"Percentuale sul totale dei casi nel mondo:\\n\", continente1, \":\", percentule_continente1,\"\\n\", continente2, \":\", percentule_continente2)"
   ]
  },
  {
   "cell_type": "code",
   "execution_count": null,
   "id": "e40ab5e4-adcd-4f67-9413-780ccc5e887b",
   "metadata": {},
   "outputs": [],
   "source": [
    "#Selezionare i dati relativi all'Italia nel 2022, e mostrare con un grafico adeguato l'evoluzione del casi totali rispetto alla data.\n",
    "#Mostrare poi con un grafico adeguato il numero di nuovi casi rispetto alla data (filtrare i dati se necessario).\n",
    "#Mostrare infine un grafico che mostra l'andamento della somma cumulativa nuovi casi del 2022, e commentare se ci sono similarità con l'andamento del numero dei casi totali;\n",
    "\n",
    "covid[\"date\"] = pd.to_datetime(covid[\"date\"]) \n",
    "\n",
    "casi_ITA22 = covid[(covid[\"date\"].dt.year == 2022) & (covid[\"location\"] == \"Italy\")] #filtro i dati per anno e località\n",
    "casi_ITA22 = casi_ITA22.sort_values(by=\"date\") #questo per garantirmi che i dati siano temporalmente lineari e non ci siano imprecisazioni nel db.\n",
    "plt.figure(figsize=(14,10)) \n",
    "sns.lineplot(x=\"date\", y=\"total_cases\", data=casi_ITA22)\n",
    "\n",
    "plt.title('Andamento Covid-19 in Italia nel 2022')\n",
    "plt.xlabel('Data')\n",
    "plt.ylabel(\"Casi Totali\")\n",
    "\n",
    "plt.show()"
   ]
  },
  {
   "cell_type": "code",
   "execution_count": null,
   "id": "33a4007d-a3bd-4455-9bc1-830ad12da579",
   "metadata": {},
   "outputs": [],
   "source": [
    "#Riguardo le nazioni di Italia, Germania e Francia,\n",
    "#mostrare in un boxplot la differenza tra queste nazioni riguardo il numero di pazienti in terapia intensiva (Intensive Care Unit, ICU)\n",
    "#da maggio 2022 (incluso) ad aprile 2023 (incluso), e scrivere un breve commento a riguardo;\n",
    "covid[\"date\"] = pd.to_datetime(covid[\"date\"])\n",
    "\n",
    "paesi = ['Italy','France','Germany']\n",
    "filtro_paesi = covid[covid['location'].isin(paesi)]\n",
    "filtro_temporale = filtro_paesi[filtro_paesi[\"date\"].between('2022-05-01', '2023-04-01')]\n",
    "\n",
    "plt.figure(figsize=(14,10))\n",
    "sns.boxplot(x=\"location\", y=\"icu_patients\", data=filtro_temporale)\n",
    "\n",
    "plt.title('Distribuzione dei Pazienti in Terapia Intensiva per COVID-19 in Italia, Francia e Germania da maggio 2022 a aprile 2023')\n",
    "plt.xlabel('Paese')\n",
    "plt.ylabel('Pazienti in Terapia Intensiva')\n",
    "plt.show()\n",
    "\n",
    "print (\"Nel lasso temporale preso in esame l'Italia è il paese che presenta il numero minore di pazienti in terapia intensiva, per un totale di:\", filtro_temporale[filtro_temporale['location']=='Italy']['icu_patients'].sum())\n",
    "print (\"Francia e Germania, invece hanno fatto peggio, presentanto rispettivamente \", filtro_temporale[filtro_temporale['location']=='France']['icu_patients'].sum(), \"e\", filtro_temporale[filtro_temporale['location']=='Germany']['icu_patients'].sum(), \"pazienti in terrapia intensiva\")\n",
    "print (\"Valutando anche il numero massimo presente contemporanemente vediamo come la Germania presenta il numero maggiore in assoluto con \", filtro_temporale[filtro_temporale['location']=='Germany']['icu_patients'].max(), \"seguita dalla Francia con\", filtro_temporale[filtro_temporale['location']=='France']['icu_patients'].max(), \" e infine l'Italia con\", filtro_temporale[filtro_temporale['location']=='Italy']['icu_patients'].max())\n",
    "print (\"Questo dati andrebbero paragonati con una valutazione più approfondita dei vari sistemi sanitari locali per capire come hanno inciso i picchi di questo periodo\")"
   ]
  },
  {
   "cell_type": "code",
   "execution_count": null,
   "id": "fa00a232-a386-434a-a3e0-078a6f76a164",
   "metadata": {},
   "outputs": [],
   "source": [
    "#Riguardo le nazioni di Italia, Germania, Francia e Spagna nel 2023, mostrare la somma dei pazienti ospitalizzati per ognuna\n",
    "#se ci sono dati nulli, suggerire se può essere possibile gestirli tramite sostituzione o meno.\n",
    "covid[\"date\"] = pd.to_datetime(covid[\"date\"])\n",
    "\n",
    "paesi_nuovi = ['Italy', 'France', 'Germany', 'Spain']\n",
    "filtro_paesi_nuovi = covid[covid['location'].isin(paesi_nuovi)]\n",
    "filtro_2023 = filtro_paesi_nuovi[filtro_paesi_nuovi[\"date\"].dt.year == 2023]\n",
    "somma_ospedalizzati = filtro_2023.groupby('location')['hosp_patients'].sum()\n",
    "\n",
    "print(\"Somma dei pazienti ospedalizzati per ogni paese nel 2023:\")\n",
    "print(somma_ospedalizzati)\n",
    "\n",
    "plt.figure(figsize=(9, 6))\n",
    "sns.lineplot(x=\"date\", y=\"hosp_patients\", hue=\"location\", data=filtro_2023, markers=True)\n",
    "\n",
    "plt.title('Andamento nuovi ospedalizzati in Italia, Francia, Germania e Spagna nel 2023')\n",
    "plt.xlabel('Data')\n",
    "plt.ylabel(\"Nuovi Ospedalizzati\")\n",
    "\n",
    "plt.legend(title='Paese')\n",
    "plt.show()\n",
    "print(\"I dati mostrati, seppur simili, non sono rappresentativi in quanto riguardano solo una porzione di tempo per Francia e Spagna, mentre per la Germania non sono disponibili dati.\")\n",
    "print(\"Qui sopra un grafico che mostra come i dati si fermino in un periodo di tempo specifico per Francia e Spagna\")\n",
    "print(\"Si consiglia di fare è un'analisi più approfondita per quanto riguarda i dati mancanti dai paesi che non li hanno forniti o che li hanno forniti parzialmente.\")\n",
    "print(\"Se si desidera presupporre i dati mancanti, sarebbe opportuno sviluppare un modello predittivo basato sui dati disponibili per stimare l'andamento dei dati mancanti.\")"
   ]
  },
  {
   "cell_type": "code",
   "execution_count": null,
   "id": "734419bb-24af-486b-9c3d-d6605d99b9c8",
   "metadata": {},
   "outputs": [],
   "source": []
  }
 ],
 "metadata": {
  "kernelspec": {
   "display_name": "Python 3 (ipykernel)",
   "language": "python",
   "name": "python3"
  },
  "language_info": {
   "codemirror_mode": {
    "name": "ipython",
    "version": 3
   },
   "file_extension": ".py",
   "mimetype": "text/x-python",
   "name": "python",
   "nbconvert_exporter": "python",
   "pygments_lexer": "ipython3",
   "version": "3.11.7"
  }
 },
 "nbformat": 4,
 "nbformat_minor": 5
}
